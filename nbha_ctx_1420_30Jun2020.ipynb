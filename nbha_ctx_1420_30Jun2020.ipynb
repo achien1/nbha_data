{
 "cells": [
  {
   "cell_type": "code",
   "execution_count": 1,
   "metadata": {},
   "outputs": [
    {
     "data": {
      "text/html": [
       "\n",
       "    <div class=\"bk-root\">\n",
       "        <a href=\"https://bokeh.org\" target=\"_blank\" class=\"bk-logo bk-logo-small bk-logo-notebook\"></a>\n",
       "        <span id=\"1001\">Loading BokehJS ...</span>\n",
       "    </div>"
      ]
     },
     "metadata": {},
     "output_type": "display_data"
    },
    {
     "data": {
      "application/javascript": [
       "\n",
       "(function(root) {\n",
       "  function now() {\n",
       "    return new Date();\n",
       "  }\n",
       "\n",
       "  var force = true;\n",
       "\n",
       "  if (typeof root._bokeh_onload_callbacks === \"undefined\" || force === true) {\n",
       "    root._bokeh_onload_callbacks = [];\n",
       "    root._bokeh_is_loading = undefined;\n",
       "  }\n",
       "\n",
       "  var JS_MIME_TYPE = 'application/javascript';\n",
       "  var HTML_MIME_TYPE = 'text/html';\n",
       "  var EXEC_MIME_TYPE = 'application/vnd.bokehjs_exec.v0+json';\n",
       "  var CLASS_NAME = 'output_bokeh rendered_html';\n",
       "\n",
       "  /**\n",
       "   * Render data to the DOM node\n",
       "   */\n",
       "  function render(props, node) {\n",
       "    var script = document.createElement(\"script\");\n",
       "    node.appendChild(script);\n",
       "  }\n",
       "\n",
       "  /**\n",
       "   * Handle when an output is cleared or removed\n",
       "   */\n",
       "  function handleClearOutput(event, handle) {\n",
       "    var cell = handle.cell;\n",
       "\n",
       "    var id = cell.output_area._bokeh_element_id;\n",
       "    var server_id = cell.output_area._bokeh_server_id;\n",
       "    // Clean up Bokeh references\n",
       "    if (id != null && id in Bokeh.index) {\n",
       "      Bokeh.index[id].model.document.clear();\n",
       "      delete Bokeh.index[id];\n",
       "    }\n",
       "\n",
       "    if (server_id !== undefined) {\n",
       "      // Clean up Bokeh references\n",
       "      var cmd = \"from bokeh.io.state import curstate; print(curstate().uuid_to_server['\" + server_id + \"'].get_sessions()[0].document.roots[0]._id)\";\n",
       "      cell.notebook.kernel.execute(cmd, {\n",
       "        iopub: {\n",
       "          output: function(msg) {\n",
       "            var id = msg.content.text.trim();\n",
       "            if (id in Bokeh.index) {\n",
       "              Bokeh.index[id].model.document.clear();\n",
       "              delete Bokeh.index[id];\n",
       "            }\n",
       "          }\n",
       "        }\n",
       "      });\n",
       "      // Destroy server and session\n",
       "      var cmd = \"import bokeh.io.notebook as ion; ion.destroy_server('\" + server_id + \"')\";\n",
       "      cell.notebook.kernel.execute(cmd);\n",
       "    }\n",
       "  }\n",
       "\n",
       "  /**\n",
       "   * Handle when a new output is added\n",
       "   */\n",
       "  function handleAddOutput(event, handle) {\n",
       "    var output_area = handle.output_area;\n",
       "    var output = handle.output;\n",
       "\n",
       "    // limit handleAddOutput to display_data with EXEC_MIME_TYPE content only\n",
       "    if ((output.output_type != \"display_data\") || (!output.data.hasOwnProperty(EXEC_MIME_TYPE))) {\n",
       "      return\n",
       "    }\n",
       "\n",
       "    var toinsert = output_area.element.find(\".\" + CLASS_NAME.split(' ')[0]);\n",
       "\n",
       "    if (output.metadata[EXEC_MIME_TYPE][\"id\"] !== undefined) {\n",
       "      toinsert[toinsert.length - 1].firstChild.textContent = output.data[JS_MIME_TYPE];\n",
       "      // store reference to embed id on output_area\n",
       "      output_area._bokeh_element_id = output.metadata[EXEC_MIME_TYPE][\"id\"];\n",
       "    }\n",
       "    if (output.metadata[EXEC_MIME_TYPE][\"server_id\"] !== undefined) {\n",
       "      var bk_div = document.createElement(\"div\");\n",
       "      bk_div.innerHTML = output.data[HTML_MIME_TYPE];\n",
       "      var script_attrs = bk_div.children[0].attributes;\n",
       "      for (var i = 0; i < script_attrs.length; i++) {\n",
       "        toinsert[toinsert.length - 1].firstChild.setAttribute(script_attrs[i].name, script_attrs[i].value);\n",
       "        toinsert[toinsert.length - 1].firstChild.textContent = bk_div.children[0].textContent\n",
       "      }\n",
       "      // store reference to server id on output_area\n",
       "      output_area._bokeh_server_id = output.metadata[EXEC_MIME_TYPE][\"server_id\"];\n",
       "    }\n",
       "  }\n",
       "\n",
       "  function register_renderer(events, OutputArea) {\n",
       "\n",
       "    function append_mime(data, metadata, element) {\n",
       "      // create a DOM node to render to\n",
       "      var toinsert = this.create_output_subarea(\n",
       "        metadata,\n",
       "        CLASS_NAME,\n",
       "        EXEC_MIME_TYPE\n",
       "      );\n",
       "      this.keyboard_manager.register_events(toinsert);\n",
       "      // Render to node\n",
       "      var props = {data: data, metadata: metadata[EXEC_MIME_TYPE]};\n",
       "      render(props, toinsert[toinsert.length - 1]);\n",
       "      element.append(toinsert);\n",
       "      return toinsert\n",
       "    }\n",
       "\n",
       "    /* Handle when an output is cleared or removed */\n",
       "    events.on('clear_output.CodeCell', handleClearOutput);\n",
       "    events.on('delete.Cell', handleClearOutput);\n",
       "\n",
       "    /* Handle when a new output is added */\n",
       "    events.on('output_added.OutputArea', handleAddOutput);\n",
       "\n",
       "    /**\n",
       "     * Register the mime type and append_mime function with output_area\n",
       "     */\n",
       "    OutputArea.prototype.register_mime_type(EXEC_MIME_TYPE, append_mime, {\n",
       "      /* Is output safe? */\n",
       "      safe: true,\n",
       "      /* Index of renderer in `output_area.display_order` */\n",
       "      index: 0\n",
       "    });\n",
       "  }\n",
       "\n",
       "  // register the mime type if in Jupyter Notebook environment and previously unregistered\n",
       "  if (root.Jupyter !== undefined) {\n",
       "    var events = require('base/js/events');\n",
       "    var OutputArea = require('notebook/js/outputarea').OutputArea;\n",
       "\n",
       "    if (OutputArea.prototype.mime_types().indexOf(EXEC_MIME_TYPE) == -1) {\n",
       "      register_renderer(events, OutputArea);\n",
       "    }\n",
       "  }\n",
       "\n",
       "  \n",
       "  if (typeof (root._bokeh_timeout) === \"undefined\" || force === true) {\n",
       "    root._bokeh_timeout = Date.now() + 5000;\n",
       "    root._bokeh_failed_load = false;\n",
       "  }\n",
       "\n",
       "  var NB_LOAD_WARNING = {'data': {'text/html':\n",
       "     \"<div style='background-color: #fdd'>\\n\"+\n",
       "     \"<p>\\n\"+\n",
       "     \"BokehJS does not appear to have successfully loaded. If loading BokehJS from CDN, this \\n\"+\n",
       "     \"may be due to a slow or bad network connection. Possible fixes:\\n\"+\n",
       "     \"</p>\\n\"+\n",
       "     \"<ul>\\n\"+\n",
       "     \"<li>re-rerun `output_notebook()` to attempt to load from CDN again, or</li>\\n\"+\n",
       "     \"<li>use INLINE resources instead, as so:</li>\\n\"+\n",
       "     \"</ul>\\n\"+\n",
       "     \"<code>\\n\"+\n",
       "     \"from bokeh.resources import INLINE\\n\"+\n",
       "     \"output_notebook(resources=INLINE)\\n\"+\n",
       "     \"</code>\\n\"+\n",
       "     \"</div>\"}};\n",
       "\n",
       "  function display_loaded() {\n",
       "    var el = document.getElementById(\"1001\");\n",
       "    if (el != null) {\n",
       "      el.textContent = \"BokehJS is loading...\";\n",
       "    }\n",
       "    if (root.Bokeh !== undefined) {\n",
       "      if (el != null) {\n",
       "        el.textContent = \"BokehJS \" + root.Bokeh.version + \" successfully loaded.\";\n",
       "      }\n",
       "    } else if (Date.now() < root._bokeh_timeout) {\n",
       "      setTimeout(display_loaded, 100)\n",
       "    }\n",
       "  }\n",
       "\n",
       "\n",
       "  function run_callbacks() {\n",
       "    try {\n",
       "      root._bokeh_onload_callbacks.forEach(function(callback) {\n",
       "        if (callback != null)\n",
       "          callback();\n",
       "      });\n",
       "    } finally {\n",
       "      delete root._bokeh_onload_callbacks\n",
       "    }\n",
       "    console.debug(\"Bokeh: all callbacks have finished\");\n",
       "  }\n",
       "\n",
       "  function load_libs(css_urls, js_urls, callback) {\n",
       "    if (css_urls == null) css_urls = [];\n",
       "    if (js_urls == null) js_urls = [];\n",
       "\n",
       "    root._bokeh_onload_callbacks.push(callback);\n",
       "    if (root._bokeh_is_loading > 0) {\n",
       "      console.debug(\"Bokeh: BokehJS is being loaded, scheduling callback at\", now());\n",
       "      return null;\n",
       "    }\n",
       "    if (js_urls == null || js_urls.length === 0) {\n",
       "      run_callbacks();\n",
       "      return null;\n",
       "    }\n",
       "    console.debug(\"Bokeh: BokehJS not loaded, scheduling load and callback at\", now());\n",
       "    root._bokeh_is_loading = css_urls.length + js_urls.length;\n",
       "\n",
       "    function on_load() {\n",
       "      root._bokeh_is_loading--;\n",
       "      if (root._bokeh_is_loading === 0) {\n",
       "        console.debug(\"Bokeh: all BokehJS libraries/stylesheets loaded\");\n",
       "        run_callbacks()\n",
       "      }\n",
       "    }\n",
       "\n",
       "    function on_error() {\n",
       "      console.error(\"failed to load \" + url);\n",
       "    }\n",
       "\n",
       "    for (var i = 0; i < css_urls.length; i++) {\n",
       "      var url = css_urls[i];\n",
       "      const element = document.createElement(\"link\");\n",
       "      element.onload = on_load;\n",
       "      element.onerror = on_error;\n",
       "      element.rel = \"stylesheet\";\n",
       "      element.type = \"text/css\";\n",
       "      element.href = url;\n",
       "      console.debug(\"Bokeh: injecting link tag for BokehJS stylesheet: \", url);\n",
       "      document.body.appendChild(element);\n",
       "    }\n",
       "\n",
       "    const hashes = {\"https://cdn.bokeh.org/bokeh/release/bokeh-2.1.0.min.js\": \"YobFyzPeVUsFQydHkJGsJL1kyfHnWxOlPc3EwaV22TmBaeGoXHLWx5aRRVPS9xlE\", \"https://cdn.bokeh.org/bokeh/release/bokeh-widgets-2.1.0.min.js\": \"NuAg9+TcTQQqvQCTtkCneRrpkTiMhhfiq0KHiBzx8ECiKiLWXHN6i6ia3q7b3eHu\", \"https://cdn.bokeh.org/bokeh/release/bokeh-tables-2.1.0.min.js\": \"uMVqQc8JqHitD67bXTn9a06Mrk3EiHRaZ18EJENQenAKJ/KL71SakdXYomZQpGRr\", \"https://cdn.bokeh.org/bokeh/release/bokeh-gl-2.1.0.min.js\": \"u+eGuEXC8aw0VSCm2mH+b/tQEAitUOYiR1H6SuIVEdUmXsf4vN8m/SmXpmjb7U/X\"};\n",
       "\n",
       "    for (var i = 0; i < js_urls.length; i++) {\n",
       "      var url = js_urls[i];\n",
       "      var element = document.createElement('script');\n",
       "      element.onload = on_load;\n",
       "      element.onerror = on_error;\n",
       "      element.async = false;\n",
       "      element.src = url;\n",
       "      if (url in hashes) {\n",
       "        element.crossOrigin = \"anonymous\";\n",
       "        element.integrity = \"sha384-\" + hashes[url];\n",
       "      }\n",
       "      console.debug(\"Bokeh: injecting script tag for BokehJS library: \", url);\n",
       "      document.head.appendChild(element);\n",
       "    }\n",
       "  };\n",
       "\n",
       "  function inject_raw_css(css) {\n",
       "    const element = document.createElement(\"style\");\n",
       "    element.appendChild(document.createTextNode(css));\n",
       "    document.body.appendChild(element);\n",
       "  }\n",
       "\n",
       "  \n",
       "  var js_urls = [\"https://cdn.bokeh.org/bokeh/release/bokeh-2.1.0.min.js\", \"https://cdn.bokeh.org/bokeh/release/bokeh-widgets-2.1.0.min.js\", \"https://cdn.bokeh.org/bokeh/release/bokeh-tables-2.1.0.min.js\", \"https://cdn.bokeh.org/bokeh/release/bokeh-gl-2.1.0.min.js\"];\n",
       "  var css_urls = [];\n",
       "  \n",
       "\n",
       "  var inline_js = [\n",
       "    function(Bokeh) {\n",
       "      Bokeh.set_log_level(\"info\");\n",
       "    },\n",
       "    function(Bokeh) {\n",
       "    \n",
       "    \n",
       "    }\n",
       "  ];\n",
       "\n",
       "  function run_inline_js() {\n",
       "    \n",
       "    if (root.Bokeh !== undefined || force === true) {\n",
       "      \n",
       "    for (var i = 0; i < inline_js.length; i++) {\n",
       "      inline_js[i].call(root, root.Bokeh);\n",
       "    }\n",
       "    if (force === true) {\n",
       "        display_loaded();\n",
       "      }} else if (Date.now() < root._bokeh_timeout) {\n",
       "      setTimeout(run_inline_js, 100);\n",
       "    } else if (!root._bokeh_failed_load) {\n",
       "      console.log(\"Bokeh: BokehJS failed to load within specified timeout.\");\n",
       "      root._bokeh_failed_load = true;\n",
       "    } else if (force !== true) {\n",
       "      var cell = $(document.getElementById(\"1001\")).parents('.cell').data().cell;\n",
       "      cell.output_area.append_execute_result(NB_LOAD_WARNING)\n",
       "    }\n",
       "\n",
       "  }\n",
       "\n",
       "  if (root._bokeh_is_loading === 0) {\n",
       "    console.debug(\"Bokeh: BokehJS loaded, going straight to plotting\");\n",
       "    run_inline_js();\n",
       "  } else {\n",
       "    load_libs(css_urls, js_urls, function() {\n",
       "      console.debug(\"Bokeh: BokehJS plotting callback run at\", now());\n",
       "      run_inline_js();\n",
       "    });\n",
       "  }\n",
       "}(window));"
      ],
      "application/vnd.bokehjs_load.v0+json": "\n(function(root) {\n  function now() {\n    return new Date();\n  }\n\n  var force = true;\n\n  if (typeof root._bokeh_onload_callbacks === \"undefined\" || force === true) {\n    root._bokeh_onload_callbacks = [];\n    root._bokeh_is_loading = undefined;\n  }\n\n  \n\n  \n  if (typeof (root._bokeh_timeout) === \"undefined\" || force === true) {\n    root._bokeh_timeout = Date.now() + 5000;\n    root._bokeh_failed_load = false;\n  }\n\n  var NB_LOAD_WARNING = {'data': {'text/html':\n     \"<div style='background-color: #fdd'>\\n\"+\n     \"<p>\\n\"+\n     \"BokehJS does not appear to have successfully loaded. If loading BokehJS from CDN, this \\n\"+\n     \"may be due to a slow or bad network connection. Possible fixes:\\n\"+\n     \"</p>\\n\"+\n     \"<ul>\\n\"+\n     \"<li>re-rerun `output_notebook()` to attempt to load from CDN again, or</li>\\n\"+\n     \"<li>use INLINE resources instead, as so:</li>\\n\"+\n     \"</ul>\\n\"+\n     \"<code>\\n\"+\n     \"from bokeh.resources import INLINE\\n\"+\n     \"output_notebook(resources=INLINE)\\n\"+\n     \"</code>\\n\"+\n     \"</div>\"}};\n\n  function display_loaded() {\n    var el = document.getElementById(\"1001\");\n    if (el != null) {\n      el.textContent = \"BokehJS is loading...\";\n    }\n    if (root.Bokeh !== undefined) {\n      if (el != null) {\n        el.textContent = \"BokehJS \" + root.Bokeh.version + \" successfully loaded.\";\n      }\n    } else if (Date.now() < root._bokeh_timeout) {\n      setTimeout(display_loaded, 100)\n    }\n  }\n\n\n  function run_callbacks() {\n    try {\n      root._bokeh_onload_callbacks.forEach(function(callback) {\n        if (callback != null)\n          callback();\n      });\n    } finally {\n      delete root._bokeh_onload_callbacks\n    }\n    console.debug(\"Bokeh: all callbacks have finished\");\n  }\n\n  function load_libs(css_urls, js_urls, callback) {\n    if (css_urls == null) css_urls = [];\n    if (js_urls == null) js_urls = [];\n\n    root._bokeh_onload_callbacks.push(callback);\n    if (root._bokeh_is_loading > 0) {\n      console.debug(\"Bokeh: BokehJS is being loaded, scheduling callback at\", now());\n      return null;\n    }\n    if (js_urls == null || js_urls.length === 0) {\n      run_callbacks();\n      return null;\n    }\n    console.debug(\"Bokeh: BokehJS not loaded, scheduling load and callback at\", now());\n    root._bokeh_is_loading = css_urls.length + js_urls.length;\n\n    function on_load() {\n      root._bokeh_is_loading--;\n      if (root._bokeh_is_loading === 0) {\n        console.debug(\"Bokeh: all BokehJS libraries/stylesheets loaded\");\n        run_callbacks()\n      }\n    }\n\n    function on_error() {\n      console.error(\"failed to load \" + url);\n    }\n\n    for (var i = 0; i < css_urls.length; i++) {\n      var url = css_urls[i];\n      const element = document.createElement(\"link\");\n      element.onload = on_load;\n      element.onerror = on_error;\n      element.rel = \"stylesheet\";\n      element.type = \"text/css\";\n      element.href = url;\n      console.debug(\"Bokeh: injecting link tag for BokehJS stylesheet: \", url);\n      document.body.appendChild(element);\n    }\n\n    const hashes = {\"https://cdn.bokeh.org/bokeh/release/bokeh-2.1.0.min.js\": \"YobFyzPeVUsFQydHkJGsJL1kyfHnWxOlPc3EwaV22TmBaeGoXHLWx5aRRVPS9xlE\", \"https://cdn.bokeh.org/bokeh/release/bokeh-widgets-2.1.0.min.js\": \"NuAg9+TcTQQqvQCTtkCneRrpkTiMhhfiq0KHiBzx8ECiKiLWXHN6i6ia3q7b3eHu\", \"https://cdn.bokeh.org/bokeh/release/bokeh-tables-2.1.0.min.js\": \"uMVqQc8JqHitD67bXTn9a06Mrk3EiHRaZ18EJENQenAKJ/KL71SakdXYomZQpGRr\", \"https://cdn.bokeh.org/bokeh/release/bokeh-gl-2.1.0.min.js\": \"u+eGuEXC8aw0VSCm2mH+b/tQEAitUOYiR1H6SuIVEdUmXsf4vN8m/SmXpmjb7U/X\"};\n\n    for (var i = 0; i < js_urls.length; i++) {\n      var url = js_urls[i];\n      var element = document.createElement('script');\n      element.onload = on_load;\n      element.onerror = on_error;\n      element.async = false;\n      element.src = url;\n      if (url in hashes) {\n        element.crossOrigin = \"anonymous\";\n        element.integrity = \"sha384-\" + hashes[url];\n      }\n      console.debug(\"Bokeh: injecting script tag for BokehJS library: \", url);\n      document.head.appendChild(element);\n    }\n  };\n\n  function inject_raw_css(css) {\n    const element = document.createElement(\"style\");\n    element.appendChild(document.createTextNode(css));\n    document.body.appendChild(element);\n  }\n\n  \n  var js_urls = [\"https://cdn.bokeh.org/bokeh/release/bokeh-2.1.0.min.js\", \"https://cdn.bokeh.org/bokeh/release/bokeh-widgets-2.1.0.min.js\", \"https://cdn.bokeh.org/bokeh/release/bokeh-tables-2.1.0.min.js\", \"https://cdn.bokeh.org/bokeh/release/bokeh-gl-2.1.0.min.js\"];\n  var css_urls = [];\n  \n\n  var inline_js = [\n    function(Bokeh) {\n      Bokeh.set_log_level(\"info\");\n    },\n    function(Bokeh) {\n    \n    \n    }\n  ];\n\n  function run_inline_js() {\n    \n    if (root.Bokeh !== undefined || force === true) {\n      \n    for (var i = 0; i < inline_js.length; i++) {\n      inline_js[i].call(root, root.Bokeh);\n    }\n    if (force === true) {\n        display_loaded();\n      }} else if (Date.now() < root._bokeh_timeout) {\n      setTimeout(run_inline_js, 100);\n    } else if (!root._bokeh_failed_load) {\n      console.log(\"Bokeh: BokehJS failed to load within specified timeout.\");\n      root._bokeh_failed_load = true;\n    } else if (force !== true) {\n      var cell = $(document.getElementById(\"1001\")).parents('.cell').data().cell;\n      cell.output_area.append_execute_result(NB_LOAD_WARNING)\n    }\n\n  }\n\n  if (root._bokeh_is_loading === 0) {\n    console.debug(\"Bokeh: BokehJS loaded, going straight to plotting\");\n    run_inline_js();\n  } else {\n    load_libs(css_urls, js_urls, function() {\n      console.debug(\"Bokeh: BokehJS plotting callback run at\", now());\n      run_inline_js();\n    });\n  }\n}(window));"
     },
     "metadata": {},
     "output_type": "display_data"
    }
   ],
   "source": [
    "import numpy as np\n",
    "import pandas as pd\n",
    "\n",
    "import bokeh_catplot\n",
    "\n",
    "import bokeh.io\n",
    "import bokeh.plotting\n",
    "\n",
    "bokeh.io.output_notebook()"
   ]
  },
  {
   "cell_type": "code",
   "execution_count": 2,
   "metadata": {},
   "outputs": [],
   "source": [
    "#What does the data look like?\n",
    "#Read data in\n",
    "\n",
    "df = pd.read_csv('C:/Users/yang1/git/bootcamp/data/nbha_ctx_T.csv',na_values='*')\n",
    "\n"
   ]
  },
  {
   "cell_type": "code",
   "execution_count": 3,
   "metadata": {},
   "outputs": [
    {
     "data": {
      "text/html": [
       "\n",
       "\n",
       "\n",
       "\n",
       "\n",
       "\n",
       "  <div class=\"bk-root\" id=\"2ace6150-6b13-402a-ac9d-0b59a2d19ce2\" data-root-id=\"1003\"></div>\n"
      ]
     },
     "metadata": {},
     "output_type": "display_data"
    },
    {
     "data": {
      "application/javascript": [
       "(function(root) {\n",
       "  function embed_document(root) {\n",
       "    \n",
       "  var docs_json = {\"d27a3310-1950-4110-a66d-b8ae5152a924\":{\"roots\":{\"references\":[{\"attributes\":{\"below\":[{\"id\":\"1011\"}],\"center\":[{\"id\":\"1013\"},{\"id\":\"1017\"}],\"left\":[{\"id\":\"1014\"}],\"plot_height\":300,\"plot_width\":400,\"renderers\":[{\"id\":\"1039\"}],\"title\":{\"id\":\"1042\"},\"toolbar\":{\"id\":\"1025\"},\"x_range\":{\"id\":\"1002\"},\"x_scale\":{\"id\":\"1007\"},\"y_range\":{\"id\":\"1005\"},\"y_scale\":{\"id\":\"1009\"}},\"id\":\"1003\",\"subtype\":\"Figure\",\"type\":\"Plot\"},{\"attributes\":{\"callback\":null,\"tooltips\":[[\"ctx level\",\"@{ctx (pg/ml)} pg/ml\"]]},\"id\":\"1032\",\"type\":\"HoverTool\"},{\"attributes\":{\"fill_alpha\":{\"value\":0.1},\"fill_color\":{\"field\":\"cat\",\"transform\":{\"id\":\"1034\"}},\"line_alpha\":{\"value\":0.1},\"line_color\":{\"field\":\"cat\",\"transform\":{\"id\":\"1034\"}},\"x\":{\"field\":\"cat\"},\"y\":{\"field\":\"ctx (pg/ml)\"}},\"id\":\"1038\",\"type\":\"Circle\"},{\"attributes\":{},\"id\":\"1018\",\"type\":\"PanTool\"},{\"attributes\":{},\"id\":\"1012\",\"type\":\"CategoricalTicker\"},{\"attributes\":{},\"id\":\"1019\",\"type\":\"WheelZoomTool\"},{\"attributes\":{\"overlay\":{\"id\":\"1024\"}},\"id\":\"1020\",\"type\":\"BoxZoomTool\"},{\"attributes\":{},\"id\":\"1021\",\"type\":\"SaveTool\"},{\"attributes\":{},\"id\":\"1005\",\"type\":\"DataRange1d\"},{\"attributes\":{},\"id\":\"1043\",\"type\":\"BasicTickFormatter\"},{\"attributes\":{\"source\":{\"id\":\"1035\"}},\"id\":\"1040\",\"type\":\"CDSView\"},{\"attributes\":{\"factors\":[\"mo0\",\"mo3\",\"mo6\",\"mo9\",\"mo12\",\"mo15\",\"mo18\",\"mo21\",\"mo24\"]},\"id\":\"1002\",\"type\":\"FactorRange\"},{\"attributes\":{},\"id\":\"1023\",\"type\":\"HelpTool\"},{\"attributes\":{},\"id\":\"1022\",\"type\":\"ResetTool\"},{\"attributes\":{},\"id\":\"1007\",\"type\":\"CategoricalScale\"},{\"attributes\":{\"bottom_units\":\"screen\",\"fill_alpha\":0.5,\"fill_color\":\"lightgrey\",\"left_units\":\"screen\",\"level\":\"overlay\",\"line_alpha\":1.0,\"line_color\":\"black\",\"line_dash\":[4,4],\"line_width\":2,\"right_units\":\"screen\",\"top_units\":\"screen\"},\"id\":\"1024\",\"type\":\"BoxAnnotation\"},{\"attributes\":{},\"id\":\"1048\",\"type\":\"Selection\"},{\"attributes\":{},\"id\":\"1009\",\"type\":\"LinearScale\"},{\"attributes\":{},\"id\":\"1049\",\"type\":\"UnionRenderers\"},{\"attributes\":{\"data\":{\"ID\":[\"mo0\",\"mo0\",\"mo0\",\"mo0\",\"mo0\",\"mo0\",\"mo0\",\"mo0\",\"mo0\",\"mo0\",\"mo0\",\"mo0\",\"mo0\",\"mo0\",\"mo0\",\"mo0\",\"mo0\",\"mo0\",\"mo0\",\"mo0\",\"mo0\",\"mo0\",\"mo0\",\"mo0\",\"mo0\",\"mo0\",\"mo0\",\"mo0\",\"mo0\",\"mo0\",\"mo0\",\"mo0\",\"mo0\",\"mo0\",\"mo0\",\"mo0\",\"mo0\",\"mo0\",\"mo0\",\"mo0\",\"mo0\",\"mo0\",\"mo0\",\"mo0\",\"mo0\",\"mo0\",\"mo0\",\"mo0\",\"mo0\",\"mo0\",\"mo0\",\"mo0\",\"mo0\",\"mo0\",\"mo0\",\"mo0\",\"mo3\",\"mo3\",\"mo3\",\"mo3\",\"mo3\",\"mo3\",\"mo3\",\"mo3\",\"mo3\",\"mo3\",\"mo3\",\"mo3\",\"mo3\",\"mo3\",\"mo3\",\"mo3\",\"mo3\",\"mo3\",\"mo3\",\"mo3\",\"mo3\",\"mo3\",\"mo3\",\"mo3\",\"mo3\",\"mo3\",\"mo3\",\"mo3\",\"mo3\",\"mo3\",\"mo3\",\"mo3\",\"mo3\",\"mo3\",\"mo3\",\"mo3\",\"mo3\",\"mo3\",\"mo3\",\"mo3\",\"mo3\",\"mo3\",\"mo3\",\"mo3\",\"mo3\",\"mo3\",\"mo3\",\"mo3\",\"mo3\",\"mo3\",\"mo3\",\"mo3\",\"mo3\",\"mo3\",\"mo3\",\"mo6\",\"mo6\",\"mo6\",\"mo6\",\"mo6\",\"mo6\",\"mo6\",\"mo6\",\"mo6\",\"mo6\",\"mo6\",\"mo6\",\"mo6\",\"mo6\",\"mo6\",\"mo6\",\"mo6\",\"mo6\",\"mo6\",\"mo6\",\"mo6\",\"mo6\",\"mo6\",\"mo6\",\"mo6\",\"mo6\",\"mo6\",\"mo6\",\"mo6\",\"mo6\",\"mo6\",\"mo6\",\"mo6\",\"mo6\",\"mo6\",\"mo6\",\"mo6\",\"mo6\",\"mo6\",\"mo6\",\"mo6\",\"mo6\",\"mo6\",\"mo6\",\"mo6\",\"mo6\",\"mo6\",\"mo6\",\"mo9\",\"mo9\",\"mo9\",\"mo9\",\"mo9\",\"mo9\",\"mo9\",\"mo9\",\"mo9\",\"mo9\",\"mo9\",\"mo9\",\"mo9\",\"mo9\",\"mo9\",\"mo9\",\"mo9\",\"mo9\",\"mo9\",\"mo9\",\"mo9\",\"mo9\",\"mo9\",\"mo9\",\"mo9\",\"mo9\",\"mo9\",\"mo9\",\"mo9\",\"mo9\",\"mo9\",\"mo9\",\"mo9\",\"mo9\",\"mo9\",\"mo9\",\"mo9\",\"mo9\",\"mo9\",\"mo9\",\"mo9\",\"mo9\",\"mo12\",\"mo12\",\"mo12\",\"mo12\",\"mo12\",\"mo12\",\"mo12\",\"mo12\",\"mo12\",\"mo12\",\"mo12\",\"mo12\",\"mo12\",\"mo12\",\"mo12\",\"mo12\",\"mo12\",\"mo12\",\"mo12\",\"mo12\",\"mo12\",\"mo12\",\"mo12\",\"mo12\",\"mo12\",\"mo12\",\"mo12\",\"mo12\",\"mo12\",\"mo12\",\"mo12\",\"mo12\",\"mo12\",\"mo12\",\"mo12\",\"mo12\",\"mo15\",\"mo15\",\"mo15\",\"mo15\",\"mo15\",\"mo15\",\"mo15\",\"mo15\",\"mo15\",\"mo15\",\"mo15\",\"mo15\",\"mo15\",\"mo15\",\"mo15\",\"mo15\",\"mo15\",\"mo15\",\"mo15\",\"mo15\",\"mo15\",\"mo15\",\"mo15\",\"mo15\",\"mo15\",\"mo15\",\"mo15\",\"mo15\",\"mo15\",\"mo15\",\"mo15\",\"mo18\",\"mo18\",\"mo18\",\"mo18\",\"mo18\",\"mo18\",\"mo18\",\"mo18\",\"mo18\",\"mo18\",\"mo18\",\"mo18\",\"mo18\",\"mo18\",\"mo18\",\"mo18\",\"mo18\",\"mo18\",\"mo18\",\"mo18\",\"mo18\",\"mo18\",\"mo18\",\"mo18\",\"mo18\",\"mo18\",\"mo18\",\"mo18\",\"mo18\",\"mo18\",\"mo18\",\"mo21\",\"mo21\",\"mo21\",\"mo21\",\"mo21\",\"mo21\",\"mo21\",\"mo21\",\"mo21\",\"mo21\",\"mo21\",\"mo21\",\"mo21\",\"mo21\",\"mo21\",\"mo21\",\"mo21\",\"mo21\",\"mo21\",\"mo21\",\"mo21\",\"mo21\",\"mo21\",\"mo21\",\"mo21\",\"mo21\",\"mo21\",\"mo21\",\"mo24\",\"mo24\",\"mo24\",\"mo24\",\"mo24\",\"mo24\",\"mo24\",\"mo24\",\"mo24\",\"mo24\",\"mo24\",\"mo24\",\"mo24\",\"mo24\",\"mo24\",\"mo24\",\"mo24\",\"mo24\",\"mo24\",\"mo24\",\"mo24\",\"mo24\",\"mo24\",\"mo24\",\"mo24\",\"mo24\"],\"__label\":[\"mo0\",\"mo0\",\"mo0\",\"mo0\",\"mo0\",\"mo0\",\"mo0\",\"mo0\",\"mo0\",\"mo0\",\"mo0\",\"mo0\",\"mo0\",\"mo0\",\"mo0\",\"mo0\",\"mo0\",\"mo0\",\"mo0\",\"mo0\",\"mo0\",\"mo0\",\"mo0\",\"mo0\",\"mo0\",\"mo0\",\"mo0\",\"mo0\",\"mo0\",\"mo0\",\"mo0\",\"mo0\",\"mo0\",\"mo0\",\"mo0\",\"mo0\",\"mo0\",\"mo0\",\"mo0\",\"mo0\",\"mo0\",\"mo0\",\"mo0\",\"mo0\",\"mo0\",\"mo0\",\"mo0\",\"mo0\",\"mo0\",\"mo0\",\"mo0\",\"mo0\",\"mo0\",\"mo0\",\"mo0\",\"mo0\",\"mo3\",\"mo3\",\"mo3\",\"mo3\",\"mo3\",\"mo3\",\"mo3\",\"mo3\",\"mo3\",\"mo3\",\"mo3\",\"mo3\",\"mo3\",\"mo3\",\"mo3\",\"mo3\",\"mo3\",\"mo3\",\"mo3\",\"mo3\",\"mo3\",\"mo3\",\"mo3\",\"mo3\",\"mo3\",\"mo3\",\"mo3\",\"mo3\",\"mo3\",\"mo3\",\"mo3\",\"mo3\",\"mo3\",\"mo3\",\"mo3\",\"mo3\",\"mo3\",\"mo3\",\"mo3\",\"mo3\",\"mo3\",\"mo3\",\"mo3\",\"mo3\",\"mo3\",\"mo3\",\"mo3\",\"mo3\",\"mo3\",\"mo3\",\"mo3\",\"mo3\",\"mo3\",\"mo3\",\"mo3\",\"mo6\",\"mo6\",\"mo6\",\"mo6\",\"mo6\",\"mo6\",\"mo6\",\"mo6\",\"mo6\",\"mo6\",\"mo6\",\"mo6\",\"mo6\",\"mo6\",\"mo6\",\"mo6\",\"mo6\",\"mo6\",\"mo6\",\"mo6\",\"mo6\",\"mo6\",\"mo6\",\"mo6\",\"mo6\",\"mo6\",\"mo6\",\"mo6\",\"mo6\",\"mo6\",\"mo6\",\"mo6\",\"mo6\",\"mo6\",\"mo6\",\"mo6\",\"mo6\",\"mo6\",\"mo6\",\"mo6\",\"mo6\",\"mo6\",\"mo6\",\"mo6\",\"mo6\",\"mo6\",\"mo6\",\"mo6\",\"mo9\",\"mo9\",\"mo9\",\"mo9\",\"mo9\",\"mo9\",\"mo9\",\"mo9\",\"mo9\",\"mo9\",\"mo9\",\"mo9\",\"mo9\",\"mo9\",\"mo9\",\"mo9\",\"mo9\",\"mo9\",\"mo9\",\"mo9\",\"mo9\",\"mo9\",\"mo9\",\"mo9\",\"mo9\",\"mo9\",\"mo9\",\"mo9\",\"mo9\",\"mo9\",\"mo9\",\"mo9\",\"mo9\",\"mo9\",\"mo9\",\"mo9\",\"mo9\",\"mo9\",\"mo9\",\"mo9\",\"mo9\",\"mo9\",\"mo12\",\"mo12\",\"mo12\",\"mo12\",\"mo12\",\"mo12\",\"mo12\",\"mo12\",\"mo12\",\"mo12\",\"mo12\",\"mo12\",\"mo12\",\"mo12\",\"mo12\",\"mo12\",\"mo12\",\"mo12\",\"mo12\",\"mo12\",\"mo12\",\"mo12\",\"mo12\",\"mo12\",\"mo12\",\"mo12\",\"mo12\",\"mo12\",\"mo12\",\"mo12\",\"mo12\",\"mo12\",\"mo12\",\"mo12\",\"mo12\",\"mo12\",\"mo15\",\"mo15\",\"mo15\",\"mo15\",\"mo15\",\"mo15\",\"mo15\",\"mo15\",\"mo15\",\"mo15\",\"mo15\",\"mo15\",\"mo15\",\"mo15\",\"mo15\",\"mo15\",\"mo15\",\"mo15\",\"mo15\",\"mo15\",\"mo15\",\"mo15\",\"mo15\",\"mo15\",\"mo15\",\"mo15\",\"mo15\",\"mo15\",\"mo15\",\"mo15\",\"mo15\",\"mo18\",\"mo18\",\"mo18\",\"mo18\",\"mo18\",\"mo18\",\"mo18\",\"mo18\",\"mo18\",\"mo18\",\"mo18\",\"mo18\",\"mo18\",\"mo18\",\"mo18\",\"mo18\",\"mo18\",\"mo18\",\"mo18\",\"mo18\",\"mo18\",\"mo18\",\"mo18\",\"mo18\",\"mo18\",\"mo18\",\"mo18\",\"mo18\",\"mo18\",\"mo18\",\"mo18\",\"mo21\",\"mo21\",\"mo21\",\"mo21\",\"mo21\",\"mo21\",\"mo21\",\"mo21\",\"mo21\",\"mo21\",\"mo21\",\"mo21\",\"mo21\",\"mo21\",\"mo21\",\"mo21\",\"mo21\",\"mo21\",\"mo21\",\"mo21\",\"mo21\",\"mo21\",\"mo21\",\"mo21\",\"mo21\",\"mo21\",\"mo21\",\"mo21\",\"mo24\",\"mo24\",\"mo24\",\"mo24\",\"mo24\",\"mo24\",\"mo24\",\"mo24\",\"mo24\",\"mo24\",\"mo24\",\"mo24\",\"mo24\",\"mo24\",\"mo24\",\"mo24\",\"mo24\",\"mo24\",\"mo24\",\"mo24\",\"mo24\",\"mo24\",\"mo24\",\"mo24\",\"mo24\",\"mo24\"],\"cat\":[\"mo0\",\"mo0\",\"mo0\",\"mo0\",\"mo0\",\"mo0\",\"mo0\",\"mo0\",\"mo0\",\"mo0\",\"mo0\",\"mo0\",\"mo0\",\"mo0\",\"mo0\",\"mo0\",\"mo0\",\"mo0\",\"mo0\",\"mo0\",\"mo0\",\"mo0\",\"mo0\",\"mo0\",\"mo0\",\"mo0\",\"mo0\",\"mo0\",\"mo0\",\"mo0\",\"mo0\",\"mo0\",\"mo0\",\"mo0\",\"mo0\",\"mo0\",\"mo0\",\"mo0\",\"mo0\",\"mo0\",\"mo0\",\"mo0\",\"mo0\",\"mo0\",\"mo0\",\"mo0\",\"mo0\",\"mo0\",\"mo0\",\"mo0\",\"mo0\",\"mo0\",\"mo0\",\"mo0\",\"mo0\",\"mo0\",\"mo3\",\"mo3\",\"mo3\",\"mo3\",\"mo3\",\"mo3\",\"mo3\",\"mo3\",\"mo3\",\"mo3\",\"mo3\",\"mo3\",\"mo3\",\"mo3\",\"mo3\",\"mo3\",\"mo3\",\"mo3\",\"mo3\",\"mo3\",\"mo3\",\"mo3\",\"mo3\",\"mo3\",\"mo3\",\"mo3\",\"mo3\",\"mo3\",\"mo3\",\"mo3\",\"mo3\",\"mo3\",\"mo3\",\"mo3\",\"mo3\",\"mo3\",\"mo3\",\"mo3\",\"mo3\",\"mo3\",\"mo3\",\"mo3\",\"mo3\",\"mo3\",\"mo3\",\"mo3\",\"mo3\",\"mo3\",\"mo3\",\"mo3\",\"mo3\",\"mo3\",\"mo3\",\"mo3\",\"mo3\",\"mo6\",\"mo6\",\"mo6\",\"mo6\",\"mo6\",\"mo6\",\"mo6\",\"mo6\",\"mo6\",\"mo6\",\"mo6\",\"mo6\",\"mo6\",\"mo6\",\"mo6\",\"mo6\",\"mo6\",\"mo6\",\"mo6\",\"mo6\",\"mo6\",\"mo6\",\"mo6\",\"mo6\",\"mo6\",\"mo6\",\"mo6\",\"mo6\",\"mo6\",\"mo6\",\"mo6\",\"mo6\",\"mo6\",\"mo6\",\"mo6\",\"mo6\",\"mo6\",\"mo6\",\"mo6\",\"mo6\",\"mo6\",\"mo6\",\"mo6\",\"mo6\",\"mo6\",\"mo6\",\"mo6\",\"mo6\",\"mo9\",\"mo9\",\"mo9\",\"mo9\",\"mo9\",\"mo9\",\"mo9\",\"mo9\",\"mo9\",\"mo9\",\"mo9\",\"mo9\",\"mo9\",\"mo9\",\"mo9\",\"mo9\",\"mo9\",\"mo9\",\"mo9\",\"mo9\",\"mo9\",\"mo9\",\"mo9\",\"mo9\",\"mo9\",\"mo9\",\"mo9\",\"mo9\",\"mo9\",\"mo9\",\"mo9\",\"mo9\",\"mo9\",\"mo9\",\"mo9\",\"mo9\",\"mo9\",\"mo9\",\"mo9\",\"mo9\",\"mo9\",\"mo9\",\"mo12\",\"mo12\",\"mo12\",\"mo12\",\"mo12\",\"mo12\",\"mo12\",\"mo12\",\"mo12\",\"mo12\",\"mo12\",\"mo12\",\"mo12\",\"mo12\",\"mo12\",\"mo12\",\"mo12\",\"mo12\",\"mo12\",\"mo12\",\"mo12\",\"mo12\",\"mo12\",\"mo12\",\"mo12\",\"mo12\",\"mo12\",\"mo12\",\"mo12\",\"mo12\",\"mo12\",\"mo12\",\"mo12\",\"mo12\",\"mo12\",\"mo12\",\"mo15\",\"mo15\",\"mo15\",\"mo15\",\"mo15\",\"mo15\",\"mo15\",\"mo15\",\"mo15\",\"mo15\",\"mo15\",\"mo15\",\"mo15\",\"mo15\",\"mo15\",\"mo15\",\"mo15\",\"mo15\",\"mo15\",\"mo15\",\"mo15\",\"mo15\",\"mo15\",\"mo15\",\"mo15\",\"mo15\",\"mo15\",\"mo15\",\"mo15\",\"mo15\",\"mo15\",\"mo18\",\"mo18\",\"mo18\",\"mo18\",\"mo18\",\"mo18\",\"mo18\",\"mo18\",\"mo18\",\"mo18\",\"mo18\",\"mo18\",\"mo18\",\"mo18\",\"mo18\",\"mo18\",\"mo18\",\"mo18\",\"mo18\",\"mo18\",\"mo18\",\"mo18\",\"mo18\",\"mo18\",\"mo18\",\"mo18\",\"mo18\",\"mo18\",\"mo18\",\"mo18\",\"mo18\",\"mo21\",\"mo21\",\"mo21\",\"mo21\",\"mo21\",\"mo21\",\"mo21\",\"mo21\",\"mo21\",\"mo21\",\"mo21\",\"mo21\",\"mo21\",\"mo21\",\"mo21\",\"mo21\",\"mo21\",\"mo21\",\"mo21\",\"mo21\",\"mo21\",\"mo21\",\"mo21\",\"mo21\",\"mo21\",\"mo21\",\"mo21\",\"mo21\",\"mo24\",\"mo24\",\"mo24\",\"mo24\",\"mo24\",\"mo24\",\"mo24\",\"mo24\",\"mo24\",\"mo24\",\"mo24\",\"mo24\",\"mo24\",\"mo24\",\"mo24\",\"mo24\",\"mo24\",\"mo24\",\"mo24\",\"mo24\",\"mo24\",\"mo24\",\"mo24\",\"mo24\",\"mo24\",\"mo24\"],\"ctx (pg/ml)\":[222,168,341,275,285,140,291,126,85,199,110,268,295,142,191,217,257,217,195,236,181,599,335,168,209,301,256,168,179,432,96,167,125,121,147,89,171,338,265,243,198,142,76,113,370,187,256,151,166,342,375,329,518,277,233,323,336,186,279,452,502,279,341,156,114,258,137,480,382,162,277,236,426,173,315,284,330,370,223,173,243,305,395,255,333,132,153,224,226,222,165,290,464,256,382,168,180,120,153,334,355,470,190,276,437,292,230,391,291,196,338,357,65,483,518,591,239,300,158,174,262,134,486,291,232,310,228,355,317,392,301,251,300,283,392,258,391,188,201,259,279,191,231,348,412,377,464,231,139,253,542,560,329,134,385,315,317,518,250,347,112,800,476,752,329,403,145,151,329,223,827,352,216,319,325,312,390,321,278,34,357,424,183,271,267,322,242,309,294,468,442,225,120,422,570,338,318,182,406,351,478,407,95,527,425,131,160,271,237,794,328,202,271,250,263,302,282,200,212,372,306,49,341,471,280,148,291,364,189,351,519,456,433,133,207,432,249,138,385,264,358,136,117,249,206,713,282,404,282,387,145,327,299,44,340,472,162,177,267,226,185,327,460,162,411,201,223,484,318,122,678,221,372,175,156,305,177,317,447,742,208,324,312,43,362,357,160,147,257,225,203,382,655,523,128,165,199,342,493,356,101,356,251,398,116,363,202,701,711,148,349,263,674,315,378,49,207,257,239,222,426,331,211,261,545,295,248,746,99,746,466,439,216,248,689,171,294,328,1335,400,458,51,251,267,360,262,407,461,227,136,200,169,269]},\"selected\":{\"id\":\"1048\"},\"selection_policy\":{\"id\":\"1049\"}},\"id\":\"1035\",\"type\":\"ColumnDataSource\"},{\"attributes\":{\"axis\":{\"id\":\"1011\"},\"grid_line_color\":null,\"ticker\":null},\"id\":\"1013\",\"type\":\"Grid\"},{\"attributes\":{\"data_source\":{\"id\":\"1035\"},\"glyph\":{\"id\":\"1037\"},\"hover_glyph\":null,\"muted_glyph\":null,\"nonselection_glyph\":{\"id\":\"1038\"},\"selection_glyph\":null,\"view\":{\"id\":\"1040\"}},\"id\":\"1039\",\"type\":\"GlyphRenderer\"},{\"attributes\":{\"axis_label\":\"ctx (pg/ml)\",\"formatter\":{\"id\":\"1043\"},\"ticker\":{\"id\":\"1015\"}},\"id\":\"1014\",\"type\":\"LinearAxis\"},{\"attributes\":{},\"id\":\"1015\",\"type\":\"BasicTicker\"},{\"attributes\":{\"axis\":{\"id\":\"1014\"},\"dimension\":1,\"ticker\":null},\"id\":\"1017\",\"type\":\"Grid\"},{\"attributes\":{\"text\":\"\"},\"id\":\"1042\",\"type\":\"Title\"},{\"attributes\":{\"fill_color\":{\"field\":\"cat\",\"transform\":{\"id\":\"1034\"}},\"line_color\":{\"field\":\"cat\",\"transform\":{\"id\":\"1034\"}},\"x\":{\"field\":\"cat\"},\"y\":{\"field\":\"ctx (pg/ml)\"}},\"id\":\"1037\",\"type\":\"Circle\"},{\"attributes\":{\"formatter\":{\"id\":\"1045\"},\"ticker\":{\"id\":\"1012\"}},\"id\":\"1011\",\"type\":\"CategoricalAxis\"},{\"attributes\":{\"active_drag\":\"auto\",\"active_inspect\":\"auto\",\"active_multi\":null,\"active_scroll\":\"auto\",\"active_tap\":\"auto\",\"tools\":[{\"id\":\"1018\"},{\"id\":\"1019\"},{\"id\":\"1020\"},{\"id\":\"1021\"},{\"id\":\"1022\"},{\"id\":\"1023\"},{\"id\":\"1032\"}]},\"id\":\"1025\",\"type\":\"Toolbar\"},{\"attributes\":{\"factors\":[\"mo0\",\"mo3\",\"mo6\",\"mo9\",\"mo12\",\"mo15\",\"mo18\",\"mo21\",\"mo24\"],\"palette\":[\"#1f77b3\",\"#ff7e0e\",\"#2ba02b\",\"#d62628\",\"#9367bc\",\"#8c564b\",\"#e277c1\",\"#7e7e7e\",\"#bcbc21\",\"#16bdcf\",\"#3a0182\",\"#004201\",\"#0fffa8\",\"#5d003f\",\"#bcbcff\",\"#d8afa1\",\"#b80080\",\"#004d52\",\"#6b6400\",\"#7c0100\",\"#6026ff\",\"#ffff9a\",\"#564964\",\"#8cb893\",\"#93fbff\",\"#018267\",\"#90ff00\",\"#8200a0\",\"#ac8944\",\"#5b3400\",\"#ffbff2\",\"#ff6e75\",\"#798cff\",\"#dd00ff\",\"#505646\",\"#004489\",\"#ffbf60\",\"#ff018c\",\"#bdc8cf\",\"#af97b5\",\"#b65600\",\"#017000\",\"#cd87ff\",\"#1cd646\",\"#bfebc3\",\"#7997b5\",\"#a56089\",\"#6e8956\",\"#bc7c75\",\"#8a2844\",\"#00acff\",\"#8ed4ff\",\"#4b6d77\",\"#00d4b1\",\"#9300f2\",\"#8a9500\",\"#5d5b9e\",\"#fddfba\",\"#00939e\",\"#ffdb00\",\"#00aa79\",\"#520067\",\"#000091\",\"#0a5d3d\",\"#a5e275\",\"#623b41\",\"#c6c689\",\"#ff9eb5\",\"#cd4f6b\",\"#ff07d6\",\"#8a3a05\",\"#7e3d70\",\"#ff4901\",\"#602ba5\",\"#1c00ff\",\"#e6dfff\",\"#aa3baf\",\"#d89c00\",\"#a3a39e\",\"#3f69ff\",\"#46490c\",\"#7b6985\",\"#6b978c\",\"#ff9a75\",\"#835bff\",\"#7c6b46\",\"#80b654\",\"#bc0049\",\"#fd93ff\",\"#5d0018\",\"#89d1d1\",\"#9c8cd3\",\"#da6d42\",\"#8a5700\",\"#3b5069\",\"#4b6b3b\",\"#edcfd8\",\"#cfedff\",\"#aa1500\",\"#dfff4f\",\"#ff2a56\",\"#d1499e\",\"#707cb8\",\"#598000\",\"#00e4fd\",\"#774b95\",\"#67d48c\",\"#3d3a72\",\"#ac413f\",\"#d6a166\",\"#c169cd\",\"#69595d\",\"#87aced\",\"#a0a569\",\"#d1aae6\",\"#870062\",\"#00fddb\",\"#672818\",\"#b342ff\",\"#0e59c4\",\"#168742\",\"#90d300\",\"#cd7900\",\"#f959ff\",\"#5b7466\",\"#8eaeb3\",\"#9c7c8c\",\"#4600c6\",\"#6b4d2d\",\"#a56d46\",\"#9e8972\",\"#a8afca\",\"#cd8ca7\",\"#00fd64\",\"#917900\",\"#ff62a1\",\"#f4ffd8\",\"#018cf0\",\"#13aca0\",\"#5b2d59\",\"#89859e\",\"#cfccba\",\"#d4afc4\",\"#dbdd6d\",\"#cffff4\",\"#006485\",\"#006962\",\"#a84167\",\"#2d97c4\",\"#a874ff\",\"#26ba5d\",\"#57b600\",\"#caffa7\",\"#a379aa\",\"#ffbc93\",\"#89e2c1\",\"#0fc8ff\",\"#d400c4\",\"#626d89\",\"#69858e\",\"#4b4d52\",\"#aa6067\",\"#79b5d4\",\"#2b5916\",\"#9a0024\",\"#bdd1f2\",\"#896e67\",\"#69a56b\",\"#855467\",\"#aecdba\",\"#87997e\",\"#cadb00\",\"#9a0390\",\"#ebbc1a\",\"#eb9cd1\",\"#70006e\",\"#b1a131\",\"#ca6b93\",\"#4146a3\",\"#e48c89\",\"#d44400\",\"#c68aca\",\"#b69597\",\"#d41f75\",\"#724bcc\",\"#674d00\",\"#672138\",\"#38564f\",\"#6ebaaa\",\"#853a31\",\"#a5d397\",\"#b8af8e\",\"#d8e4df\",\"#aa00df\",\"#cac1db\",\"#ffdf8c\",\"#e2524d\",\"#66696e\",\"#ff001c\",\"#522d72\",\"#4d906b\",\"#a86d11\",\"#ff9e26\",\"#5ea3af\",\"#c88556\",\"#915997\",\"#a3a1ff\",\"#fdbaba\",\"#242a87\",\"#dbe6a8\",\"#97f2a7\",\"#6793d6\",\"#ba5b3f\",\"#3a5d91\",\"#364f2f\",\"#267c95\",\"#89959a\",\"#cfb356\",\"#004664\",\"#5e5d2f\",\"#8e8e41\",\"#ac3f13\",\"#69953b\",\"#a13d85\",\"#bfb6ba\",\"#acc667\",\"#6469cf\",\"#91af00\",\"#2be2da\",\"#016e36\",\"#ff7952\",\"#42807e\",\"#4fe800\",\"#995428\",\"#5d0a00\",\"#a30057\",\"#0c8700\",\"#5982a7\",\"#ffebfb\",\"#4b6901\",\"#8775d4\",\"#e6c6ff\",\"#a5ffda\",\"#d86e77\",\"#df014b\",\"#69675b\",\"#776ba1\",\"#7e8067\",\"#594685\",\"#0000ca\",\"#7c002a\",\"#97ff72\",\"#b5e2e1\",\"#db52c8\",\"#777734\",\"#57bd8e\"]},\"id\":\"1034\",\"type\":\"CategoricalColorMapper\"},{\"attributes\":{},\"id\":\"1045\",\"type\":\"CategoricalTickFormatter\"}],\"root_ids\":[\"1003\"]},\"title\":\"Bokeh Application\",\"version\":\"2.1.0\"}};\n",
       "  var render_items = [{\"docid\":\"d27a3310-1950-4110-a66d-b8ae5152a924\",\"root_ids\":[\"1003\"],\"roots\":{\"1003\":\"2ace6150-6b13-402a-ac9d-0b59a2d19ce2\"}}];\n",
       "  root.Bokeh.embed.embed_items_notebook(docs_json, render_items);\n",
       "\n",
       "  }\n",
       "  if (root.Bokeh !== undefined) {\n",
       "    embed_document(root);\n",
       "  } else {\n",
       "    var attempts = 0;\n",
       "    var timer = setInterval(function(root) {\n",
       "      if (root.Bokeh !== undefined) {\n",
       "        clearInterval(timer);\n",
       "        embed_document(root);\n",
       "      } else {\n",
       "        attempts++;\n",
       "        if (attempts > 100) {\n",
       "          clearInterval(timer);\n",
       "          console.log(\"Bokeh: ERROR: Unable to run BokehJS code because BokehJS library is missing\");\n",
       "        }\n",
       "      }\n",
       "    }, 10, root)\n",
       "  }\n",
       "})(window);"
      ],
      "application/vnd.bokehjs_exec.v0+json": ""
     },
     "metadata": {
      "application/vnd.bokehjs_exec.v0+json": {
       "id": "1003"
      }
     },
     "output_type": "display_data"
    }
   ],
   "source": [
    "#Question: How do CTX levels change over 2 years\n",
    "p = bokeh_catplot.strip(\n",
    "    data=df,\n",
    "    cats='ID',\n",
    "    val='ctx (pg/ml)',\n",
    "    tooltips=[\n",
    "        ('ctx level', '@{ctx (pg/ml)} pg/ml')\n",
    "     ],\n",
    "        \n",
    ")\n",
    "%config InlineBackend.figure_format = 'png'\n",
    "\n",
    "bokeh.io.show(p)\n"
   ]
  },
  {
   "cell_type": "code",
   "execution_count": 4,
   "metadata": {},
   "outputs": [
    {
     "data": {
      "text/html": [
       "\n",
       "\n",
       "\n",
       "\n",
       "\n",
       "\n",
       "  <div class=\"bk-root\" id=\"d499b317-982f-43a9-a867-ff3e27f27f27\" data-root-id=\"1105\"></div>\n"
      ]
     },
     "metadata": {},
     "output_type": "display_data"
    },
    {
     "data": {
      "application/javascript": [
       "(function(root) {\n",
       "  function embed_document(root) {\n",
       "    \n",
       "  var docs_json = {\"5e7032a8-5364-4540-bd38-4413c4f8ddc9\":{\"roots\":{\"references\":[{\"attributes\":{\"below\":[{\"id\":\"1113\"}],\"center\":[{\"id\":\"1115\"},{\"id\":\"1119\"}],\"frame_height\":250,\"left\":[{\"id\":\"1116\"}],\"plot_height\":300,\"plot_width\":400,\"renderers\":[{\"id\":\"1142\"},{\"id\":\"1150\"},{\"id\":\"1155\"},{\"id\":\"1160\"},{\"id\":\"1165\"},{\"id\":\"1170\"},{\"id\":\"1175\"}],\"title\":{\"id\":\"1187\"},\"toolbar\":{\"id\":\"1127\"},\"x_range\":{\"id\":\"1104\"},\"x_scale\":{\"id\":\"1109\"},\"y_range\":{\"id\":\"1107\"},\"y_scale\":{\"id\":\"1111\"}},\"id\":\"1105\",\"subtype\":\"Figure\",\"type\":\"Plot\"},{\"attributes\":{\"active_drag\":\"auto\",\"active_inspect\":\"auto\",\"active_multi\":null,\"active_scroll\":\"auto\",\"active_tap\":\"auto\",\"tools\":[{\"id\":\"1120\"},{\"id\":\"1121\"},{\"id\":\"1122\"},{\"id\":\"1123\"},{\"id\":\"1124\"},{\"id\":\"1125\"},{\"id\":\"1134\"}]},\"id\":\"1127\",\"type\":\"Toolbar\"},{\"attributes\":{\"source\":{\"id\":\"1145\"}},\"id\":\"1156\",\"type\":\"CDSView\"},{\"attributes\":{\"source\":{\"id\":\"1145\"}},\"id\":\"1176\",\"type\":\"CDSView\"},{\"attributes\":{},\"id\":\"1193\",\"type\":\"Selection\"},{\"attributes\":{},\"id\":\"1188\",\"type\":\"BasicTickFormatter\"},{\"attributes\":{\"data\":{\"ID\":[\"mo0\",\"mo0\",\"mo0\",\"mo0\",\"mo0\",\"mo0\",\"mo0\",\"mo0\",\"mo0\",\"mo0\",\"mo0\",\"mo0\",\"mo0\",\"mo0\",\"mo0\",\"mo0\",\"mo0\",\"mo0\",\"mo0\",\"mo0\",\"mo0\",\"mo0\",\"mo0\",\"mo0\",\"mo0\",\"mo0\",\"mo0\",\"mo0\",\"mo0\",\"mo0\",\"mo0\",\"mo0\",\"mo0\",\"mo0\",\"mo0\",\"mo0\",\"mo0\",\"mo0\",\"mo0\",\"mo0\",\"mo0\",\"mo0\",\"mo0\",\"mo0\",\"mo0\",\"mo0\",\"mo0\",\"mo0\",\"mo0\",\"mo0\",\"mo0\",\"mo0\",\"mo0\",\"mo0\",\"mo0\",\"mo0\",\"mo3\",\"mo3\",\"mo3\",\"mo3\",\"mo3\",\"mo3\",\"mo3\",\"mo3\",\"mo3\",\"mo3\",\"mo3\",\"mo3\",\"mo3\",\"mo3\",\"mo3\",\"mo3\",\"mo3\",\"mo3\",\"mo3\",\"mo3\",\"mo3\",\"mo3\",\"mo3\",\"mo3\",\"mo3\",\"mo3\",\"mo3\",\"mo3\",\"mo3\",\"mo3\",\"mo3\",\"mo3\",\"mo3\",\"mo3\",\"mo3\",\"mo3\",\"mo3\",\"mo3\",\"mo3\",\"mo3\",\"mo3\",\"mo3\",\"mo3\",\"mo3\",\"mo3\",\"mo3\",\"mo3\",\"mo3\",\"mo3\",\"mo3\",\"mo3\",\"mo3\",\"mo3\",\"mo3\",\"mo3\",\"mo6\",\"mo6\",\"mo6\",\"mo6\",\"mo6\",\"mo6\",\"mo6\",\"mo6\",\"mo6\",\"mo6\",\"mo6\",\"mo6\",\"mo6\",\"mo6\",\"mo6\",\"mo6\",\"mo6\",\"mo6\",\"mo6\",\"mo6\",\"mo6\",\"mo6\",\"mo6\",\"mo6\",\"mo6\",\"mo6\",\"mo6\",\"mo6\",\"mo6\",\"mo6\",\"mo6\",\"mo6\",\"mo6\",\"mo6\",\"mo6\",\"mo6\",\"mo6\",\"mo6\",\"mo6\",\"mo6\",\"mo6\",\"mo6\",\"mo6\",\"mo6\",\"mo6\",\"mo6\",\"mo6\",\"mo6\",\"mo9\",\"mo9\",\"mo9\",\"mo9\",\"mo9\",\"mo9\",\"mo9\",\"mo9\",\"mo9\",\"mo9\",\"mo9\",\"mo9\",\"mo9\",\"mo9\",\"mo9\",\"mo9\",\"mo9\",\"mo9\",\"mo9\",\"mo9\",\"mo9\",\"mo9\",\"mo9\",\"mo9\",\"mo9\",\"mo9\",\"mo9\",\"mo9\",\"mo9\",\"mo9\",\"mo9\",\"mo9\",\"mo9\",\"mo9\",\"mo9\",\"mo9\",\"mo9\",\"mo9\",\"mo9\",\"mo9\",\"mo9\",\"mo9\",\"mo12\",\"mo12\",\"mo12\",\"mo12\",\"mo12\",\"mo12\",\"mo12\",\"mo12\",\"mo12\",\"mo12\",\"mo12\",\"mo12\",\"mo12\",\"mo12\",\"mo12\",\"mo12\",\"mo12\",\"mo12\",\"mo12\",\"mo12\",\"mo12\",\"mo12\",\"mo12\",\"mo12\",\"mo12\",\"mo12\",\"mo12\",\"mo12\",\"mo12\",\"mo12\",\"mo12\",\"mo12\",\"mo12\",\"mo12\",\"mo12\",\"mo12\",\"mo15\",\"mo15\",\"mo15\",\"mo15\",\"mo15\",\"mo15\",\"mo15\",\"mo15\",\"mo15\",\"mo15\",\"mo15\",\"mo15\",\"mo15\",\"mo15\",\"mo15\",\"mo15\",\"mo15\",\"mo15\",\"mo15\",\"mo15\",\"mo15\",\"mo15\",\"mo15\",\"mo15\",\"mo15\",\"mo15\",\"mo15\",\"mo15\",\"mo15\",\"mo15\",\"mo15\",\"mo18\",\"mo18\",\"mo18\",\"mo18\",\"mo18\",\"mo18\",\"mo18\",\"mo18\",\"mo18\",\"mo18\",\"mo18\",\"mo18\",\"mo18\",\"mo18\",\"mo18\",\"mo18\",\"mo18\",\"mo18\",\"mo18\",\"mo18\",\"mo18\",\"mo18\",\"mo18\",\"mo18\",\"mo18\",\"mo18\",\"mo18\",\"mo18\",\"mo18\",\"mo18\",\"mo18\",\"mo21\",\"mo21\",\"mo21\",\"mo21\",\"mo21\",\"mo21\",\"mo21\",\"mo21\",\"mo21\",\"mo21\",\"mo21\",\"mo21\",\"mo21\",\"mo21\",\"mo21\",\"mo21\",\"mo21\",\"mo21\",\"mo21\",\"mo21\",\"mo21\",\"mo21\",\"mo21\",\"mo21\",\"mo21\",\"mo21\",\"mo21\",\"mo21\",\"mo24\",\"mo24\",\"mo24\",\"mo24\",\"mo24\",\"mo24\",\"mo24\",\"mo24\",\"mo24\",\"mo24\",\"mo24\",\"mo24\",\"mo24\",\"mo24\",\"mo24\",\"mo24\",\"mo24\",\"mo24\",\"mo24\",\"mo24\",\"mo24\",\"mo24\",\"mo24\",\"mo24\",\"mo24\",\"mo24\"],\"__label\":[\"mo0\",\"mo0\",\"mo0\",\"mo0\",\"mo0\",\"mo0\",\"mo0\",\"mo0\",\"mo0\",\"mo0\",\"mo0\",\"mo0\",\"mo0\",\"mo0\",\"mo0\",\"mo0\",\"mo0\",\"mo0\",\"mo0\",\"mo0\",\"mo0\",\"mo0\",\"mo0\",\"mo0\",\"mo0\",\"mo0\",\"mo0\",\"mo0\",\"mo0\",\"mo0\",\"mo0\",\"mo0\",\"mo0\",\"mo0\",\"mo0\",\"mo0\",\"mo0\",\"mo0\",\"mo0\",\"mo0\",\"mo0\",\"mo0\",\"mo0\",\"mo0\",\"mo0\",\"mo0\",\"mo0\",\"mo0\",\"mo0\",\"mo0\",\"mo0\",\"mo0\",\"mo0\",\"mo0\",\"mo0\",\"mo0\",\"mo3\",\"mo3\",\"mo3\",\"mo3\",\"mo3\",\"mo3\",\"mo3\",\"mo3\",\"mo3\",\"mo3\",\"mo3\",\"mo3\",\"mo3\",\"mo3\",\"mo3\",\"mo3\",\"mo3\",\"mo3\",\"mo3\",\"mo3\",\"mo3\",\"mo3\",\"mo3\",\"mo3\",\"mo3\",\"mo3\",\"mo3\",\"mo3\",\"mo3\",\"mo3\",\"mo3\",\"mo3\",\"mo3\",\"mo3\",\"mo3\",\"mo3\",\"mo3\",\"mo3\",\"mo3\",\"mo3\",\"mo3\",\"mo3\",\"mo3\",\"mo3\",\"mo3\",\"mo3\",\"mo3\",\"mo3\",\"mo3\",\"mo3\",\"mo3\",\"mo3\",\"mo3\",\"mo3\",\"mo3\",\"mo6\",\"mo6\",\"mo6\",\"mo6\",\"mo6\",\"mo6\",\"mo6\",\"mo6\",\"mo6\",\"mo6\",\"mo6\",\"mo6\",\"mo6\",\"mo6\",\"mo6\",\"mo6\",\"mo6\",\"mo6\",\"mo6\",\"mo6\",\"mo6\",\"mo6\",\"mo6\",\"mo6\",\"mo6\",\"mo6\",\"mo6\",\"mo6\",\"mo6\",\"mo6\",\"mo6\",\"mo6\",\"mo6\",\"mo6\",\"mo6\",\"mo6\",\"mo6\",\"mo6\",\"mo6\",\"mo6\",\"mo6\",\"mo6\",\"mo6\",\"mo6\",\"mo6\",\"mo6\",\"mo6\",\"mo6\",\"mo9\",\"mo9\",\"mo9\",\"mo9\",\"mo9\",\"mo9\",\"mo9\",\"mo9\",\"mo9\",\"mo9\",\"mo9\",\"mo9\",\"mo9\",\"mo9\",\"mo9\",\"mo9\",\"mo9\",\"mo9\",\"mo9\",\"mo9\",\"mo9\",\"mo9\",\"mo9\",\"mo9\",\"mo9\",\"mo9\",\"mo9\",\"mo9\",\"mo9\",\"mo9\",\"mo9\",\"mo9\",\"mo9\",\"mo9\",\"mo9\",\"mo9\",\"mo9\",\"mo9\",\"mo9\",\"mo9\",\"mo9\",\"mo9\",\"mo12\",\"mo12\",\"mo12\",\"mo12\",\"mo12\",\"mo12\",\"mo12\",\"mo12\",\"mo12\",\"mo12\",\"mo12\",\"mo12\",\"mo12\",\"mo12\",\"mo12\",\"mo12\",\"mo12\",\"mo12\",\"mo12\",\"mo12\",\"mo12\",\"mo12\",\"mo12\",\"mo12\",\"mo12\",\"mo12\",\"mo12\",\"mo12\",\"mo12\",\"mo12\",\"mo12\",\"mo12\",\"mo12\",\"mo12\",\"mo12\",\"mo12\",\"mo15\",\"mo15\",\"mo15\",\"mo15\",\"mo15\",\"mo15\",\"mo15\",\"mo15\",\"mo15\",\"mo15\",\"mo15\",\"mo15\",\"mo15\",\"mo15\",\"mo15\",\"mo15\",\"mo15\",\"mo15\",\"mo15\",\"mo15\",\"mo15\",\"mo15\",\"mo15\",\"mo15\",\"mo15\",\"mo15\",\"mo15\",\"mo15\",\"mo15\",\"mo15\",\"mo15\",\"mo18\",\"mo18\",\"mo18\",\"mo18\",\"mo18\",\"mo18\",\"mo18\",\"mo18\",\"mo18\",\"mo18\",\"mo18\",\"mo18\",\"mo18\",\"mo18\",\"mo18\",\"mo18\",\"mo18\",\"mo18\",\"mo18\",\"mo18\",\"mo18\",\"mo18\",\"mo18\",\"mo18\",\"mo18\",\"mo18\",\"mo18\",\"mo18\",\"mo18\",\"mo18\",\"mo18\",\"mo21\",\"mo21\",\"mo21\",\"mo21\",\"mo21\",\"mo21\",\"mo21\",\"mo21\",\"mo21\",\"mo21\",\"mo21\",\"mo21\",\"mo21\",\"mo21\",\"mo21\",\"mo21\",\"mo21\",\"mo21\",\"mo21\",\"mo21\",\"mo21\",\"mo21\",\"mo21\",\"mo21\",\"mo21\",\"mo21\",\"mo21\",\"mo21\",\"mo24\",\"mo24\",\"mo24\",\"mo24\",\"mo24\",\"mo24\",\"mo24\",\"mo24\",\"mo24\",\"mo24\",\"mo24\",\"mo24\",\"mo24\",\"mo24\",\"mo24\",\"mo24\",\"mo24\",\"mo24\",\"mo24\",\"mo24\",\"mo24\",\"mo24\",\"mo24\",\"mo24\",\"mo24\",\"mo24\"],\"cat\":[\"mo0\",\"mo0\",\"mo0\",\"mo0\",\"mo0\",\"mo0\",\"mo0\",\"mo0\",\"mo0\",\"mo0\",\"mo0\",\"mo0\",\"mo0\",\"mo0\",\"mo0\",\"mo0\",\"mo0\",\"mo0\",\"mo0\",\"mo0\",\"mo0\",\"mo0\",\"mo0\",\"mo0\",\"mo0\",\"mo0\",\"mo0\",\"mo0\",\"mo0\",\"mo0\",\"mo0\",\"mo0\",\"mo0\",\"mo0\",\"mo0\",\"mo0\",\"mo0\",\"mo0\",\"mo0\",\"mo0\",\"mo0\",\"mo0\",\"mo0\",\"mo0\",\"mo0\",\"mo0\",\"mo0\",\"mo0\",\"mo0\",\"mo0\",\"mo0\",\"mo0\",\"mo0\",\"mo0\",\"mo0\",\"mo0\",\"mo3\",\"mo3\",\"mo3\",\"mo3\",\"mo3\",\"mo3\",\"mo3\",\"mo3\",\"mo3\",\"mo3\",\"mo3\",\"mo3\",\"mo3\",\"mo3\",\"mo3\",\"mo3\",\"mo3\",\"mo3\",\"mo3\",\"mo3\",\"mo3\",\"mo3\",\"mo3\",\"mo3\",\"mo3\",\"mo3\",\"mo3\",\"mo3\",\"mo3\",\"mo3\",\"mo3\",\"mo3\",\"mo3\",\"mo3\",\"mo3\",\"mo3\",\"mo3\",\"mo3\",\"mo3\",\"mo3\",\"mo3\",\"mo3\",\"mo3\",\"mo3\",\"mo3\",\"mo3\",\"mo3\",\"mo3\",\"mo3\",\"mo3\",\"mo3\",\"mo3\",\"mo3\",\"mo3\",\"mo3\",\"mo6\",\"mo6\",\"mo6\",\"mo6\",\"mo6\",\"mo6\",\"mo6\",\"mo6\",\"mo6\",\"mo6\",\"mo6\",\"mo6\",\"mo6\",\"mo6\",\"mo6\",\"mo6\",\"mo6\",\"mo6\",\"mo6\",\"mo6\",\"mo6\",\"mo6\",\"mo6\",\"mo6\",\"mo6\",\"mo6\",\"mo6\",\"mo6\",\"mo6\",\"mo6\",\"mo6\",\"mo6\",\"mo6\",\"mo6\",\"mo6\",\"mo6\",\"mo6\",\"mo6\",\"mo6\",\"mo6\",\"mo6\",\"mo6\",\"mo6\",\"mo6\",\"mo6\",\"mo6\",\"mo6\",\"mo6\",\"mo9\",\"mo9\",\"mo9\",\"mo9\",\"mo9\",\"mo9\",\"mo9\",\"mo9\",\"mo9\",\"mo9\",\"mo9\",\"mo9\",\"mo9\",\"mo9\",\"mo9\",\"mo9\",\"mo9\",\"mo9\",\"mo9\",\"mo9\",\"mo9\",\"mo9\",\"mo9\",\"mo9\",\"mo9\",\"mo9\",\"mo9\",\"mo9\",\"mo9\",\"mo9\",\"mo9\",\"mo9\",\"mo9\",\"mo9\",\"mo9\",\"mo9\",\"mo9\",\"mo9\",\"mo9\",\"mo9\",\"mo9\",\"mo9\",\"mo12\",\"mo12\",\"mo12\",\"mo12\",\"mo12\",\"mo12\",\"mo12\",\"mo12\",\"mo12\",\"mo12\",\"mo12\",\"mo12\",\"mo12\",\"mo12\",\"mo12\",\"mo12\",\"mo12\",\"mo12\",\"mo12\",\"mo12\",\"mo12\",\"mo12\",\"mo12\",\"mo12\",\"mo12\",\"mo12\",\"mo12\",\"mo12\",\"mo12\",\"mo12\",\"mo12\",\"mo12\",\"mo12\",\"mo12\",\"mo12\",\"mo12\",\"mo15\",\"mo15\",\"mo15\",\"mo15\",\"mo15\",\"mo15\",\"mo15\",\"mo15\",\"mo15\",\"mo15\",\"mo15\",\"mo15\",\"mo15\",\"mo15\",\"mo15\",\"mo15\",\"mo15\",\"mo15\",\"mo15\",\"mo15\",\"mo15\",\"mo15\",\"mo15\",\"mo15\",\"mo15\",\"mo15\",\"mo15\",\"mo15\",\"mo15\",\"mo15\",\"mo15\",\"mo18\",\"mo18\",\"mo18\",\"mo18\",\"mo18\",\"mo18\",\"mo18\",\"mo18\",\"mo18\",\"mo18\",\"mo18\",\"mo18\",\"mo18\",\"mo18\",\"mo18\",\"mo18\",\"mo18\",\"mo18\",\"mo18\",\"mo18\",\"mo18\",\"mo18\",\"mo18\",\"mo18\",\"mo18\",\"mo18\",\"mo18\",\"mo18\",\"mo18\",\"mo18\",\"mo18\",\"mo21\",\"mo21\",\"mo21\",\"mo21\",\"mo21\",\"mo21\",\"mo21\",\"mo21\",\"mo21\",\"mo21\",\"mo21\",\"mo21\",\"mo21\",\"mo21\",\"mo21\",\"mo21\",\"mo21\",\"mo21\",\"mo21\",\"mo21\",\"mo21\",\"mo21\",\"mo21\",\"mo21\",\"mo21\",\"mo21\",\"mo21\",\"mo21\",\"mo24\",\"mo24\",\"mo24\",\"mo24\",\"mo24\",\"mo24\",\"mo24\",\"mo24\",\"mo24\",\"mo24\",\"mo24\",\"mo24\",\"mo24\",\"mo24\",\"mo24\",\"mo24\",\"mo24\",\"mo24\",\"mo24\",\"mo24\",\"mo24\",\"mo24\",\"mo24\",\"mo24\",\"mo24\",\"mo24\"],\"ctx (pg/ml)\":[222,168,341,275,285,140,291,126,85,199,110,268,295,142,191,217,257,217,195,236,181,599,335,168,209,301,256,168,179,432,96,167,125,121,147,89,171,338,265,243,198,142,76,113,370,187,256,151,166,342,375,329,518,277,233,323,336,186,279,452,502,279,341,156,114,258,137,480,382,162,277,236,426,173,315,284,330,370,223,173,243,305,395,255,333,132,153,224,226,222,165,290,464,256,382,168,180,120,153,334,355,470,190,276,437,292,230,391,291,196,338,357,65,483,518,591,239,300,158,174,262,134,486,291,232,310,228,355,317,392,301,251,300,283,392,258,391,188,201,259,279,191,231,348,412,377,464,231,139,253,542,560,329,134,385,315,317,518,250,347,112,800,476,752,329,403,145,151,329,223,827,352,216,319,325,312,390,321,278,34,357,424,183,271,267,322,242,309,294,468,442,225,120,422,570,338,318,182,406,351,478,407,95,527,425,131,160,271,237,794,328,202,271,250,263,302,282,200,212,372,306,49,341,471,280,148,291,364,189,351,519,456,433,133,207,432,249,138,385,264,358,136,117,249,206,713,282,404,282,387,145,327,299,44,340,472,162,177,267,226,185,327,460,162,411,201,223,484,318,122,678,221,372,175,156,305,177,317,447,742,208,324,312,43,362,357,160,147,257,225,203,382,655,523,128,165,199,342,493,356,101,356,251,398,116,363,202,701,711,148,349,263,674,315,378,49,207,257,239,222,426,331,211,261,545,295,248,746,99,746,466,439,216,248,689,171,294,328,1335,400,458,51,251,267,360,262,407,461,227,136,200,169,269]},\"selected\":{\"id\":\"1193\"},\"selection_policy\":{\"id\":\"1194\"}},\"id\":\"1137\",\"type\":\"ColumnDataSource\"},{\"attributes\":{},\"id\":\"1107\",\"type\":\"DataRange1d\"},{\"attributes\":{\"data_source\":{\"id\":\"1145\"},\"glyph\":{\"id\":\"1153\"},\"hover_glyph\":null,\"muted_glyph\":null,\"nonselection_glyph\":{\"id\":\"1154\"},\"selection_glyph\":null,\"view\":{\"id\":\"1156\"}},\"id\":\"1155\",\"type\":\"GlyphRenderer\"},{\"attributes\":{\"data_source\":{\"id\":\"1145\"},\"glyph\":{\"id\":\"1148\"},\"hover_glyph\":null,\"muted_glyph\":null,\"nonselection_glyph\":{\"id\":\"1149\"},\"selection_glyph\":null,\"view\":{\"id\":\"1151\"}},\"id\":\"1150\",\"type\":\"GlyphRenderer\"},{\"attributes\":{\"factors\":[\"mo0\",\"mo3\",\"mo6\",\"mo9\",\"mo12\",\"mo15\",\"mo18\",\"mo21\",\"mo24\"],\"palette\":[\"#1f77b3\",\"#ff7e0e\",\"#2ba02b\",\"#d62628\",\"#9367bc\",\"#8c564b\",\"#e277c1\",\"#7e7e7e\",\"#bcbc21\",\"#16bdcf\",\"#3a0182\",\"#004201\",\"#0fffa8\",\"#5d003f\",\"#bcbcff\",\"#d8afa1\",\"#b80080\",\"#004d52\",\"#6b6400\",\"#7c0100\",\"#6026ff\",\"#ffff9a\",\"#564964\",\"#8cb893\",\"#93fbff\",\"#018267\",\"#90ff00\",\"#8200a0\",\"#ac8944\",\"#5b3400\",\"#ffbff2\",\"#ff6e75\",\"#798cff\",\"#dd00ff\",\"#505646\",\"#004489\",\"#ffbf60\",\"#ff018c\",\"#bdc8cf\",\"#af97b5\",\"#b65600\",\"#017000\",\"#cd87ff\",\"#1cd646\",\"#bfebc3\",\"#7997b5\",\"#a56089\",\"#6e8956\",\"#bc7c75\",\"#8a2844\",\"#00acff\",\"#8ed4ff\",\"#4b6d77\",\"#00d4b1\",\"#9300f2\",\"#8a9500\",\"#5d5b9e\",\"#fddfba\",\"#00939e\",\"#ffdb00\",\"#00aa79\",\"#520067\",\"#000091\",\"#0a5d3d\",\"#a5e275\",\"#623b41\",\"#c6c689\",\"#ff9eb5\",\"#cd4f6b\",\"#ff07d6\",\"#8a3a05\",\"#7e3d70\",\"#ff4901\",\"#602ba5\",\"#1c00ff\",\"#e6dfff\",\"#aa3baf\",\"#d89c00\",\"#a3a39e\",\"#3f69ff\",\"#46490c\",\"#7b6985\",\"#6b978c\",\"#ff9a75\",\"#835bff\",\"#7c6b46\",\"#80b654\",\"#bc0049\",\"#fd93ff\",\"#5d0018\",\"#89d1d1\",\"#9c8cd3\",\"#da6d42\",\"#8a5700\",\"#3b5069\",\"#4b6b3b\",\"#edcfd8\",\"#cfedff\",\"#aa1500\",\"#dfff4f\",\"#ff2a56\",\"#d1499e\",\"#707cb8\",\"#598000\",\"#00e4fd\",\"#774b95\",\"#67d48c\",\"#3d3a72\",\"#ac413f\",\"#d6a166\",\"#c169cd\",\"#69595d\",\"#87aced\",\"#a0a569\",\"#d1aae6\",\"#870062\",\"#00fddb\",\"#672818\",\"#b342ff\",\"#0e59c4\",\"#168742\",\"#90d300\",\"#cd7900\",\"#f959ff\",\"#5b7466\",\"#8eaeb3\",\"#9c7c8c\",\"#4600c6\",\"#6b4d2d\",\"#a56d46\",\"#9e8972\",\"#a8afca\",\"#cd8ca7\",\"#00fd64\",\"#917900\",\"#ff62a1\",\"#f4ffd8\",\"#018cf0\",\"#13aca0\",\"#5b2d59\",\"#89859e\",\"#cfccba\",\"#d4afc4\",\"#dbdd6d\",\"#cffff4\",\"#006485\",\"#006962\",\"#a84167\",\"#2d97c4\",\"#a874ff\",\"#26ba5d\",\"#57b600\",\"#caffa7\",\"#a379aa\",\"#ffbc93\",\"#89e2c1\",\"#0fc8ff\",\"#d400c4\",\"#626d89\",\"#69858e\",\"#4b4d52\",\"#aa6067\",\"#79b5d4\",\"#2b5916\",\"#9a0024\",\"#bdd1f2\",\"#896e67\",\"#69a56b\",\"#855467\",\"#aecdba\",\"#87997e\",\"#cadb00\",\"#9a0390\",\"#ebbc1a\",\"#eb9cd1\",\"#70006e\",\"#b1a131\",\"#ca6b93\",\"#4146a3\",\"#e48c89\",\"#d44400\",\"#c68aca\",\"#b69597\",\"#d41f75\",\"#724bcc\",\"#674d00\",\"#672138\",\"#38564f\",\"#6ebaaa\",\"#853a31\",\"#a5d397\",\"#b8af8e\",\"#d8e4df\",\"#aa00df\",\"#cac1db\",\"#ffdf8c\",\"#e2524d\",\"#66696e\",\"#ff001c\",\"#522d72\",\"#4d906b\",\"#a86d11\",\"#ff9e26\",\"#5ea3af\",\"#c88556\",\"#915997\",\"#a3a1ff\",\"#fdbaba\",\"#242a87\",\"#dbe6a8\",\"#97f2a7\",\"#6793d6\",\"#ba5b3f\",\"#3a5d91\",\"#364f2f\",\"#267c95\",\"#89959a\",\"#cfb356\",\"#004664\",\"#5e5d2f\",\"#8e8e41\",\"#ac3f13\",\"#69953b\",\"#a13d85\",\"#bfb6ba\",\"#acc667\",\"#6469cf\",\"#91af00\",\"#2be2da\",\"#016e36\",\"#ff7952\",\"#42807e\",\"#4fe800\",\"#995428\",\"#5d0a00\",\"#a30057\",\"#0c8700\",\"#5982a7\",\"#ffebfb\",\"#4b6901\",\"#8775d4\",\"#e6c6ff\",\"#a5ffda\",\"#d86e77\",\"#df014b\",\"#69675b\",\"#776ba1\",\"#7e8067\",\"#594685\",\"#0000ca\",\"#7c002a\",\"#97ff72\",\"#b5e2e1\",\"#db52c8\",\"#777734\",\"#57bd8e\"]},\"id\":\"1136\",\"type\":\"CategoricalColorMapper\"},{\"attributes\":{\"bottom\":{\"field\":\"middle\"},\"fill_alpha\":{\"value\":0.1},\"fill_color\":{\"value\":\"#1f77b4\"},\"line_alpha\":{\"value\":0.1},\"line_color\":{\"value\":\"gray\"},\"top\":{\"field\":\"middle\"},\"width\":{\"value\":0.4},\"x\":{\"field\":\"cat\"}},\"id\":\"1174\",\"type\":\"VBar\"},{\"attributes\":{},\"id\":\"1120\",\"type\":\"PanTool\"},{\"attributes\":{\"bottom\":{\"field\":\"middle\"},\"fill_color\":{\"value\":\"#1f77b4\"},\"line_color\":{\"value\":\"gray\"},\"top\":{\"field\":\"middle\"},\"width\":{\"value\":0.4},\"x\":{\"field\":\"cat\"}},\"id\":\"1173\",\"type\":\"VBar\"},{\"attributes\":{},\"id\":\"1121\",\"type\":\"WheelZoomTool\"},{\"attributes\":{\"line_alpha\":{\"value\":0.1},\"line_color\":{\"value\":\"gray\"},\"x0\":{\"field\":\"cat\"},\"x1\":{\"field\":\"cat\"},\"y0\":{\"field\":\"bottom\"},\"y1\":{\"field\":\"bottom_whisker\"}},\"id\":\"1154\",\"type\":\"Segment\"},{\"attributes\":{\"line_color\":{\"value\":\"gray\"},\"x0\":{\"field\":\"cat\"},\"x1\":{\"field\":\"cat\"},\"y0\":{\"field\":\"bottom\"},\"y1\":{\"field\":\"bottom_whisker\"}},\"id\":\"1153\",\"type\":\"Segment\"},{\"attributes\":{\"source\":{\"id\":\"1145\"}},\"id\":\"1171\",\"type\":\"CDSView\"},{\"attributes\":{\"formatter\":{\"id\":\"1190\"},\"ticker\":{\"id\":\"1114\"}},\"id\":\"1113\",\"type\":\"CategoricalAxis\"},{\"attributes\":{\"overlay\":{\"id\":\"1126\"}},\"id\":\"1122\",\"type\":\"BoxZoomTool\"},{\"attributes\":{\"data\":{\"__label\":[\"mo0\",\"mo3\",\"mo6\",\"mo9\",\"mo12\",\"mo15\",\"mo18\",\"mo21\",\"mo24\"],\"bottom\":[162.25,188.0,231.75,248.25,205.75,181.0,176.0,219.25,218.75],\"bottom_whisker\":[76.0,114.0,65.0,34.0,49.0,44.0,43.0,49.0,51.0],\"cat\":[\"mo0\",\"mo3\",\"mo6\",\"mo9\",\"mo12\",\"mo15\",\"mo18\",\"mo21\",\"mo24\"],\"middle\":[213.0,277.0,300.0,323.5,281.0,267.0,305.0,279.0,281.5],\"top\":[286.5,339.5,386.5,405.25,380.75,371.5,367.0,366.75,453.25],\"top_whisker\":[432.0,502.0,591.0,570.0,527.0,484.0,523.0,545.0,746.0]},\"selected\":{\"id\":\"1195\"},\"selection_policy\":{\"id\":\"1196\"}},\"id\":\"1145\",\"type\":\"ColumnDataSource\"},{\"attributes\":{\"data_source\":{\"id\":\"1145\"},\"glyph\":{\"id\":\"1158\"},\"hover_glyph\":null,\"muted_glyph\":null,\"nonselection_glyph\":{\"id\":\"1159\"},\"selection_glyph\":null,\"view\":{\"id\":\"1161\"}},\"id\":\"1160\",\"type\":\"GlyphRenderer\"},{\"attributes\":{},\"id\":\"1123\",\"type\":\"SaveTool\"},{\"attributes\":{\"callback\":null,\"tooltips\":[[\"ctx level\",\"@{ctx (pg/ml)} pg/ml\"]]},\"id\":\"1134\",\"type\":\"HoverTool\"},{\"attributes\":{\"source\":{\"id\":\"1145\"}},\"id\":\"1161\",\"type\":\"CDSView\"},{\"attributes\":{},\"id\":\"1125\",\"type\":\"HelpTool\"},{\"attributes\":{},\"id\":\"1190\",\"type\":\"CategoricalTickFormatter\"},{\"attributes\":{\"text\":\"\"},\"id\":\"1187\",\"type\":\"Title\"},{\"attributes\":{\"distribution\":\"normal\",\"range\":{\"id\":\"1104\"},\"width\":0.1},\"id\":\"1138\",\"type\":\"Jitter\"},{\"attributes\":{},\"id\":\"1109\",\"type\":\"CategoricalScale\"},{\"attributes\":{},\"id\":\"1124\",\"type\":\"ResetTool\"},{\"attributes\":{},\"id\":\"1111\",\"type\":\"LinearScale\"},{\"attributes\":{\"bottom\":{\"field\":\"bottom\"},\"fill_alpha\":{\"value\":0.1},\"fill_color\":{\"value\":null},\"line_alpha\":{\"value\":0.1},\"line_color\":{\"value\":\"gray\"},\"top\":{\"field\":\"top\"},\"width\":{\"value\":0.4},\"x\":{\"field\":\"cat\"}},\"id\":\"1169\",\"type\":\"VBar\"},{\"attributes\":{\"axis\":{\"id\":\"1113\"},\"grid_line_color\":null,\"ticker\":null},\"id\":\"1115\",\"type\":\"Grid\"},{\"attributes\":{\"line_color\":{\"value\":\"gray\"},\"x0\":{\"field\":\"cat\"},\"x1\":{\"field\":\"cat\"},\"y0\":{\"field\":\"top\"},\"y1\":{\"field\":\"top_whisker\"}},\"id\":\"1148\",\"type\":\"Segment\"},{\"attributes\":{\"bottom\":{\"field\":\"bottom_whisker\"},\"fill_color\":{\"value\":\"#1f77b4\"},\"line_color\":{\"value\":\"gray\"},\"top\":{\"field\":\"bottom_whisker\"},\"width\":{\"value\":0.1},\"x\":{\"field\":\"cat\"}},\"id\":\"1163\",\"type\":\"VBar\"},{\"attributes\":{\"data_source\":{\"id\":\"1145\"},\"glyph\":{\"id\":\"1163\"},\"hover_glyph\":null,\"muted_glyph\":null,\"nonselection_glyph\":{\"id\":\"1164\"},\"selection_glyph\":null,\"view\":{\"id\":\"1166\"}},\"id\":\"1165\",\"type\":\"GlyphRenderer\"},{\"attributes\":{\"data_source\":{\"id\":\"1145\"},\"glyph\":{\"id\":\"1168\"},\"hover_glyph\":null,\"muted_glyph\":null,\"nonselection_glyph\":{\"id\":\"1169\"},\"selection_glyph\":null,\"view\":{\"id\":\"1171\"}},\"id\":\"1170\",\"type\":\"GlyphRenderer\"},{\"attributes\":{\"line_alpha\":{\"value\":0.1},\"line_color\":{\"value\":\"gray\"},\"x0\":{\"field\":\"cat\"},\"x1\":{\"field\":\"cat\"},\"y0\":{\"field\":\"top\"},\"y1\":{\"field\":\"top_whisker\"}},\"id\":\"1149\",\"type\":\"Segment\"},{\"attributes\":{},\"id\":\"1114\",\"type\":\"CategoricalTicker\"},{\"attributes\":{\"fill_alpha\":{\"value\":0.1},\"fill_color\":{\"field\":\"cat\",\"transform\":{\"id\":\"1136\"}},\"line_alpha\":{\"value\":0.1},\"line_color\":{\"field\":\"cat\",\"transform\":{\"id\":\"1136\"}},\"x\":{\"field\":\"cat\",\"transform\":{\"id\":\"1138\"}},\"y\":{\"field\":\"ctx (pg/ml)\"}},\"id\":\"1141\",\"type\":\"Circle\"},{\"attributes\":{},\"id\":\"1195\",\"type\":\"Selection\"},{\"attributes\":{\"data_source\":{\"id\":\"1137\"},\"glyph\":{\"id\":\"1140\"},\"hover_glyph\":null,\"muted_glyph\":null,\"nonselection_glyph\":{\"id\":\"1141\"},\"selection_glyph\":null,\"view\":{\"id\":\"1143\"}},\"id\":\"1142\",\"type\":\"GlyphRenderer\"},{\"attributes\":{\"bottom\":{\"field\":\"top_whisker\"},\"fill_alpha\":{\"value\":0.1},\"fill_color\":{\"value\":\"#1f77b4\"},\"line_alpha\":{\"value\":0.1},\"line_color\":{\"value\":\"gray\"},\"top\":{\"field\":\"top_whisker\"},\"width\":{\"value\":0.1},\"x\":{\"field\":\"cat\"}},\"id\":\"1159\",\"type\":\"VBar\"},{\"attributes\":{\"bottom\":{\"field\":\"bottom_whisker\"},\"fill_alpha\":{\"value\":0.1},\"fill_color\":{\"value\":\"#1f77b4\"},\"line_alpha\":{\"value\":0.1},\"line_color\":{\"value\":\"gray\"},\"top\":{\"field\":\"bottom_whisker\"},\"width\":{\"value\":0.1},\"x\":{\"field\":\"cat\"}},\"id\":\"1164\",\"type\":\"VBar\"},{\"attributes\":{\"axis_label\":\"ctx (pg/ml)\",\"formatter\":{\"id\":\"1188\"},\"ticker\":{\"id\":\"1117\"}},\"id\":\"1116\",\"type\":\"LinearAxis\"},{\"attributes\":{},\"id\":\"1194\",\"type\":\"UnionRenderers\"},{\"attributes\":{\"data_source\":{\"id\":\"1145\"},\"glyph\":{\"id\":\"1173\"},\"hover_glyph\":null,\"muted_glyph\":null,\"nonselection_glyph\":{\"id\":\"1174\"},\"selection_glyph\":null,\"view\":{\"id\":\"1176\"}},\"id\":\"1175\",\"type\":\"GlyphRenderer\"},{\"attributes\":{},\"id\":\"1117\",\"type\":\"BasicTicker\"},{\"attributes\":{\"source\":{\"id\":\"1145\"}},\"id\":\"1166\",\"type\":\"CDSView\"},{\"attributes\":{\"factors\":[\"mo0\",\"mo3\",\"mo6\",\"mo9\",\"mo12\",\"mo15\",\"mo18\",\"mo21\",\"mo24\"]},\"id\":\"1104\",\"type\":\"FactorRange\"},{\"attributes\":{\"axis\":{\"id\":\"1116\"},\"dimension\":1,\"ticker\":null},\"id\":\"1119\",\"type\":\"Grid\"},{\"attributes\":{\"source\":{\"id\":\"1137\"}},\"id\":\"1143\",\"type\":\"CDSView\"},{\"attributes\":{\"bottom_units\":\"screen\",\"fill_alpha\":0.5,\"fill_color\":\"lightgrey\",\"left_units\":\"screen\",\"level\":\"overlay\",\"line_alpha\":1.0,\"line_color\":\"black\",\"line_dash\":[4,4],\"line_width\":2,\"right_units\":\"screen\",\"top_units\":\"screen\"},\"id\":\"1126\",\"type\":\"BoxAnnotation\"},{\"attributes\":{\"bottom\":{\"field\":\"top_whisker\"},\"fill_color\":{\"value\":\"#1f77b4\"},\"line_color\":{\"value\":\"gray\"},\"top\":{\"field\":\"top_whisker\"},\"width\":{\"value\":0.1},\"x\":{\"field\":\"cat\"}},\"id\":\"1158\",\"type\":\"VBar\"},{\"attributes\":{\"bottom\":{\"field\":\"bottom\"},\"fill_color\":{\"value\":null},\"line_color\":{\"value\":\"gray\"},\"top\":{\"field\":\"top\"},\"width\":{\"value\":0.4},\"x\":{\"field\":\"cat\"}},\"id\":\"1168\",\"type\":\"VBar\"},{\"attributes\":{},\"id\":\"1196\",\"type\":\"UnionRenderers\"},{\"attributes\":{\"fill_color\":{\"field\":\"cat\",\"transform\":{\"id\":\"1136\"}},\"line_color\":{\"field\":\"cat\",\"transform\":{\"id\":\"1136\"}},\"x\":{\"field\":\"cat\",\"transform\":{\"id\":\"1138\"}},\"y\":{\"field\":\"ctx (pg/ml)\"}},\"id\":\"1140\",\"type\":\"Circle\"},{\"attributes\":{\"source\":{\"id\":\"1145\"}},\"id\":\"1151\",\"type\":\"CDSView\"}],\"root_ids\":[\"1105\"]},\"title\":\"Bokeh Application\",\"version\":\"2.1.0\"}};\n",
       "  var render_items = [{\"docid\":\"5e7032a8-5364-4540-bd38-4413c4f8ddc9\",\"root_ids\":[\"1105\"],\"roots\":{\"1105\":\"d499b317-982f-43a9-a867-ff3e27f27f27\"}}];\n",
       "  root.Bokeh.embed.embed_items_notebook(docs_json, render_items);\n",
       "\n",
       "  }\n",
       "  if (root.Bokeh !== undefined) {\n",
       "    embed_document(root);\n",
       "  } else {\n",
       "    var attempts = 0;\n",
       "    var timer = setInterval(function(root) {\n",
       "      if (root.Bokeh !== undefined) {\n",
       "        clearInterval(timer);\n",
       "        embed_document(root);\n",
       "      } else {\n",
       "        attempts++;\n",
       "        if (attempts > 100) {\n",
       "          clearInterval(timer);\n",
       "          console.log(\"Bokeh: ERROR: Unable to run BokehJS code because BokehJS library is missing\");\n",
       "        }\n",
       "      }\n",
       "    }, 10, root)\n",
       "  }\n",
       "})(window);"
      ],
      "application/vnd.bokehjs_exec.v0+json": ""
     },
     "metadata": {
      "application/vnd.bokehjs_exec.v0+json": {
       "id": "1105"
      }
     },
     "output_type": "display_data"
    }
   ],
   "source": [
    "p = bokeh_catplot.strip(\n",
    "    data=df,\n",
    "    cats='ID',\n",
    "    val='ctx (pg/ml)',\n",
    "    horizontal=False,\n",
    "    jitter=True,\n",
    "    frame_height=250,\n",
    "    tooltips=[\n",
    "        ('ctx level', '@{ctx (pg/ml)} pg/ml')\n",
    "     ],\n",
    ")\n",
    "\n",
    "p = bokeh_catplot.box(\n",
    "    data=df,\n",
    "    cats='ID',\n",
    "    val='ctx (pg/ml)',\n",
    "    horizontal=False,\n",
    "    whisker_caps=True,\n",
    "    display_points=False,\n",
    "    box_kwargs=dict(fill_color=None, line_color='gray'),\n",
    "    median_kwargs=dict(line_color='gray'),\n",
    "    whisker_kwargs=dict(line_color='gray'),\n",
    "    p=p,\n",
    ")\n",
    "\n",
    "\n",
    "bokeh.io.show(p)\n"
   ]
  },
  {
   "cell_type": "code",
   "execution_count": 20,
   "metadata": {},
   "outputs": [
    {
     "data": {
      "text/html": [
       "\n",
       "\n",
       "\n",
       "\n",
       "\n",
       "\n",
       "  <div class=\"bk-root\" id=\"8c284a11-2d1c-40c4-9ffa-40aa56f4dafd\" data-root-id=\"14380\"></div>\n"
      ]
     },
     "metadata": {},
     "output_type": "display_data"
    },
    {
     "data": {
      "application/javascript": [
       "(function(root) {\n",
       "  function embed_document(root) {\n",
       "    \n",
       "  var docs_json = {\"73f60544-7f3d-47c9-839a-dc6187031213\":{\"roots\":{\"references\":[{\"attributes\":{\"below\":[{\"id\":\"14389\"}],\"center\":[{\"id\":\"14392\"},{\"id\":\"14396\"},{\"id\":\"14425\"}],\"left\":[{\"id\":\"14393\"}],\"plot_height\":300,\"plot_width\":400,\"renderers\":[{\"id\":\"14414\"},{\"id\":\"14430\"},{\"id\":\"14446\"},{\"id\":\"14464\"},{\"id\":\"14485\"},{\"id\":\"14507\"},{\"id\":\"14531\"},{\"id\":\"14558\"},{\"id\":\"14586\"},{\"id\":\"14616\"},{\"id\":\"14649\"},{\"id\":\"14683\"},{\"id\":\"14719\"},{\"id\":\"14758\"},{\"id\":\"14798\"},{\"id\":\"14840\"},{\"id\":\"14885\"},{\"id\":\"14931\"},{\"id\":\"14979\"},{\"id\":\"15030\"},{\"id\":\"15082\"},{\"id\":\"15136\"},{\"id\":\"15193\"},{\"id\":\"15251\"},{\"id\":\"15311\"},{\"id\":\"15374\"},{\"id\":\"15438\"}],\"title\":{\"id\":\"14417\"},\"toolbar\":{\"id\":\"14404\"},\"x_range\":{\"id\":\"14381\"},\"x_scale\":{\"id\":\"14385\"},\"y_range\":{\"id\":\"14383\"},\"y_scale\":{\"id\":\"14387\"}},\"id\":\"14380\",\"subtype\":\"Figure\",\"type\":\"Plot\"},{\"attributes\":{\"data_source\":{\"id\":\"15027\"},\"glyph\":{\"id\":\"15028\"},\"hover_glyph\":null,\"muted_glyph\":null,\"nonselection_glyph\":{\"id\":\"15029\"},\"selection_glyph\":null,\"view\":{\"id\":\"15031\"}},\"id\":\"15030\",\"type\":\"GlyphRenderer\"},{\"attributes\":{\"angle\":{\"units\":\"rad\",\"value\":0},\"line_color\":{\"value\":\"#084285\"},\"line_width\":{\"value\":2},\"x\":{\"value\":502.0},\"y\":{\"value\":1}},\"id\":\"14505\",\"type\":\"Ray\"},{\"attributes\":{\"label\":{\"value\":\"mo6\"},\"renderers\":[{\"id\":\"14531\"},{\"id\":\"14558\"},{\"id\":\"14586\"}]},\"id\":\"14554\",\"type\":\"LegendItem\"},{\"attributes\":{\"angle\":{\"units\":\"rad\",\"value\":3.141592653589793},\"line_color\":{\"value\":\"#4a98c9\"},\"line_width\":{\"value\":2},\"x\":{\"value\":43.0},\"y\":{\"value\":0}},\"id\":\"15028\",\"type\":\"Ray\"},{\"attributes\":{\"label\":{\"value\":\"mo12\"},\"renderers\":[{\"id\":\"14719\"},{\"id\":\"14758\"},{\"id\":\"14798\"}]},\"id\":\"14754\",\"type\":\"LegendItem\"},{\"attributes\":{\"data_source\":{\"id\":\"14555\"},\"glyph\":{\"id\":\"14556\"},\"hover_glyph\":null,\"muted_glyph\":null,\"nonselection_glyph\":{\"id\":\"14557\"},\"selection_glyph\":null,\"view\":{\"id\":\"14559\"}},\"id\":\"14558\",\"type\":\"GlyphRenderer\"},{\"attributes\":{},\"id\":\"15077\",\"type\":\"Selection\"},{\"attributes\":{},\"id\":\"14383\",\"type\":\"DataRange1d\"},{\"attributes\":{},\"id\":\"14581\",\"type\":\"Selection\"},{\"attributes\":{},\"id\":\"14793\",\"type\":\"Selection\"},{\"attributes\":{\"data_source\":{\"id\":\"14504\"},\"glyph\":{\"id\":\"14505\"},\"hover_glyph\":null,\"muted_glyph\":null,\"nonselection_glyph\":{\"id\":\"14506\"},\"selection_glyph\":null,\"view\":{\"id\":\"14508\"}},\"id\":\"14507\",\"type\":\"GlyphRenderer\"},{\"attributes\":{\"angle\":{\"units\":\"rad\",\"value\":3.141592653589793},\"line_color\":{\"value\":\"#0a539e\"},\"line_width\":{\"value\":2},\"x\":{\"value\":65.0},\"y\":{\"value\":0}},\"id\":\"14556\",\"type\":\"Ray\"},{\"attributes\":{\"angle\":{\"units\":\"rad\",\"value\":3.141592653589793},\"line_color\":{\"value\":\"#2575b7\"},\"line_width\":{\"value\":2},\"x\":{\"value\":49.0},\"y\":{\"value\":0}},\"id\":\"14756\",\"type\":\"Ray\"},{\"attributes\":{\"angle\":{\"units\":\"rad\",\"value\":3.141592653589793},\"line_alpha\":{\"value\":0.1},\"line_color\":{\"value\":\"#4a98c9\"},\"line_width\":{\"value\":2},\"x\":{\"value\":43.0},\"y\":{\"value\":0}},\"id\":\"15029\",\"type\":\"Ray\"},{\"attributes\":{\"data_source\":{\"id\":\"14755\"},\"glyph\":{\"id\":\"14756\"},\"hover_glyph\":null,\"muted_glyph\":null,\"nonselection_glyph\":{\"id\":\"14757\"},\"selection_glyph\":null,\"view\":{\"id\":\"14759\"}},\"id\":\"14758\",\"type\":\"GlyphRenderer\"},{\"attributes\":{\"angle\":{\"units\":\"rad\",\"value\":3.141592653589793},\"line_alpha\":{\"value\":0.1},\"line_color\":{\"value\":\"#0a539e\"},\"line_width\":{\"value\":2},\"x\":{\"value\":65.0},\"y\":{\"value\":0}},\"id\":\"14557\",\"type\":\"Ray\"},{\"attributes\":{\"source\":{\"id\":\"14928\"}},\"id\":\"14932\",\"type\":\"CDSView\"},{\"attributes\":{\"angle\":{\"units\":\"rad\",\"value\":0},\"line_color\":{\"value\":\"#3787c0\"},\"line_width\":{\"value\":2},\"x\":{\"value\":713.0},\"y\":{\"value\":1}},\"id\":\"14929\",\"type\":\"Ray\"},{\"attributes\":{\"source\":{\"id\":\"15027\"}},\"id\":\"15031\",\"type\":\"CDSView\"},{\"attributes\":{\"source\":{\"id\":\"14504\"}},\"id\":\"14508\",\"type\":\"CDSView\"},{\"attributes\":{\"angle\":{\"units\":\"rad\",\"value\":0},\"line_alpha\":{\"value\":0.1},\"line_color\":{\"value\":\"#084285\"},\"line_width\":{\"value\":2},\"x\":{\"value\":502.0},\"y\":{\"value\":1}},\"id\":\"14506\",\"type\":\"Ray\"},{\"attributes\":{\"data\":{\"x\":{\"__ndarray__\":\"AAAAAAAAQUAAAAAAAABBQAAAAAAAAFxAAAAAAAAAXEAAAAAAAABeQAAAAAAAAF5AAAAAAAAgYkAAAAAAACBiQAAAAAAA4GJAAAAAAADgYkAAAAAAAMBmQAAAAAAAwGZAAAAAAADgZkAAAAAAAOBmQAAAAAAAAGtAAAAAAAAAa0AAAAAAAOBrQAAAAAAA4GtAAAAAAAAgbEAAAAAAACBsQAAAAAAAQG5AAAAAAABAbkAAAAAAALBwQAAAAAAAsHBAAAAAAADwcEAAAAAAAPBwQAAAAAAAYHFAAAAAAABgcUAAAAAAAGByQAAAAAAAYHJAAAAAAABQc0AAAAAAAFBzQAAAAAAAgHNAAAAAAACAc0AAAAAAAOBzQAAAAAAA4HNAAAAAAADwc0AAAAAAAPBzQAAAAAAAEHRAAAAAAAAQdEAAAAAAACB0QAAAAAAAIHRAAAAAAABQdEAAAAAAAFB0QAAAAAAAkHRAAAAAAACQdEAAAAAAAJB0QAAAAAAAkHRAAAAAAAAgdUAAAAAAACB1QAAAAAAAsHVAAAAAAACwdUAAAAAAAPB1QAAAAAAA8HVAAAAAAAAAdkAAAAAAAAB2QAAAAAAAUHZAAAAAAABQdkAAAAAAAGB4QAAAAAAAYHhAAAAAAAAweUAAAAAAADB5QAAAAAAAYHlAAAAAAABgeUAAAAAAAGB6QAAAAAAAYHpAAAAAAACAekAAAAAAAIB6QAAAAAAAoHtAAAAAAACge0AAAAAAAEB9QAAAAAAAQH1AAAAAAADAfUAAAAAAAMB9QAAAAAAA4H1AAAAAAADgfUAAAAAAANCBQAAAAAAA0IFAAAAAAACAh0AAAAAAAICHQAAAAAAAAIlAAAAAAAAAiUAAAAAAANiJQAAAAAAA2IlA\",\"dtype\":\"float64\",\"order\":\"little\",\"shape\":[84]},\"y\":{\"__ndarray__\":\"AAAAAAAAAAAYhmEYhmGYPxiGYRiGYZg/GIZhGIZhqD8YhmEYhmGoP5IkSZIkSbI/kiRJkiRJsj8YhmEYhmG4PxiGYRiGYbg/nud5nud5vj+e53me53m+P5IkSZIkScI/kiRJkiRJwj9VVVVVVVXFP1VVVVVVVcU/GIZhGIZhyD8YhmEYhmHIP9u2bdu2bcs/27Zt27Ztyz+e53me53nOP57neZ7nec4/MQzDMAzD0D8xDMMwDMPQP5IkSZIkSdI/kiRJkiRJ0j/0PM/zPM/TP/Q8z/M8z9M/VVVVVVVV1T9VVVVVVVXVP7dt27Zt29Y/t23btm3b1j8YhmEYhmHYPxiGYRiGYdg/ep7neZ7n2T96nud5nufZP9u2bdu2bds/27Zt27Zt2z89z/M8z/PcPz3P8zzP89w/nud5nud53j+e53me53nePwAAAAAAAOA/AAAAAAAA4D8xDMMwDMPgPzEMwzAMw+A/YhiGYRiG4T9iGIZhGIbhP5IkSZIkSeI/kiRJkiRJ4j/DMAzDMAzjP8MwDMMwDOM/9DzP8zzP4z/0PM/zPM/jPyVJkiRJkuQ/JUmSJEmS5D9VVVVVVVXlP1VVVVVVVeU/hmEYhmEY5j+GYRiGYRjmP7dt27Zt2+Y/t23btm3b5j/oeZ7neZ7nP+h5nud5nuc/GIZhGIZh6D8YhmEYhmHoP0mSJEmSJOk/SZIkSZIk6T96nud5nufpP3qe53me5+k/q6qqqqqq6j+rqqqqqqrqP9u2bdu2bes/27Zt27Zt6z8MwzAMwzDsPwzDMAzDMOw/Pc/zPM/z7D89z/M8z/PsP27btm3btu0/btu2bdu27T+e53me53nuP57neZ7nee4/z/M8z/M87z/P8zzP8zzvPwAAAAAAAPA/\",\"dtype\":\"float64\",\"order\":\"little\",\"shape\":[84]}},\"selected\":{\"id\":\"14643\"},\"selection_policy\":{\"id\":\"14644\"}},\"id\":\"14613\",\"type\":\"ColumnDataSource\"},{\"attributes\":{\"angle\":{\"units\":\"rad\",\"value\":3.141592653589793},\"line_alpha\":{\"value\":0.1},\"line_color\":{\"value\":\"#2575b7\"},\"line_width\":{\"value\":2},\"x\":{\"value\":49.0},\"y\":{\"value\":0}},\"id\":\"14757\",\"type\":\"Ray\"},{\"attributes\":{},\"id\":\"14975\",\"type\":\"UnionRenderers\"},{\"attributes\":{\"angle\":{\"units\":\"rad\",\"value\":3.141592653589793},\"line_color\":{\"value\":\"#08306b\"},\"line_width\":{\"value\":2},\"x\":{\"value\":76.0},\"y\":{\"value\":0}},\"id\":\"14428\",\"type\":\"Ray\"},{\"attributes\":{\"data\":{},\"selected\":{\"id\":\"14611\"},\"selection_policy\":{\"id\":\"14612\"}},\"id\":\"14583\",\"type\":\"ColumnDataSource\"},{\"attributes\":{},\"id\":\"15078\",\"type\":\"UnionRenderers\"},{\"attributes\":{\"source\":{\"id\":\"14555\"}},\"id\":\"14559\",\"type\":\"CDSView\"},{\"attributes\":{\"source\":{\"id\":\"14755\"}},\"id\":\"14759\",\"type\":\"CDSView\"},{\"attributes\":{},\"id\":\"14974\",\"type\":\"Selection\"},{\"attributes\":{\"data_source\":{\"id\":\"14427\"},\"glyph\":{\"id\":\"14428\"},\"hover_glyph\":null,\"muted_glyph\":null,\"nonselection_glyph\":{\"id\":\"14429\"},\"selection_glyph\":null,\"view\":{\"id\":\"14431\"}},\"id\":\"14430\",\"type\":\"GlyphRenderer\"},{\"attributes\":{\"data\":{},\"selected\":{\"id\":\"14581\"},\"selection_policy\":{\"id\":\"14582\"}},\"id\":\"14555\",\"type\":\"ColumnDataSource\"},{\"attributes\":{},\"id\":\"14527\",\"type\":\"UnionRenderers\"},{\"attributes\":{\"angle\":{\"units\":\"rad\",\"value\":0},\"line_color\":{\"value\":\"#4a98c9\"},\"line_width\":{\"value\":2},\"x\":{\"value\":742.0},\"y\":{\"value\":1}},\"id\":\"15080\",\"type\":\"Ray\"},{\"attributes\":{\"data\":{},\"selected\":{\"id\":\"15433\"},\"selection_policy\":{\"id\":\"15434\"}},\"id\":\"15371\",\"type\":\"ColumnDataSource\"},{\"attributes\":{},\"id\":\"14794\",\"type\":\"UnionRenderers\"},{\"attributes\":{\"line_color\":\"#084285\",\"line_width\":2,\"x\":{\"field\":\"x\"},\"y\":{\"field\":\"y\"}},\"id\":\"14462\",\"type\":\"Line\"},{\"attributes\":{},\"id\":\"14582\",\"type\":\"UnionRenderers\"},{\"attributes\":{\"text\":\"\"},\"id\":\"14417\",\"type\":\"Title\"},{\"attributes\":{\"angle\":{\"units\":\"rad\",\"value\":0},\"line_color\":{\"value\":\"#0a539e\"},\"line_width\":{\"value\":2},\"x\":{\"value\":591.0},\"y\":{\"value\":1}},\"id\":\"14584\",\"type\":\"Ray\"},{\"attributes\":{},\"id\":\"14526\",\"type\":\"Selection\"},{\"attributes\":{\"data\":{},\"selected\":{\"id\":\"14441\"},\"selection_policy\":{\"id\":\"14442\"}},\"id\":\"14427\",\"type\":\"ColumnDataSource\"},{\"attributes\":{\"line_alpha\":0.1,\"line_color\":\"#084285\",\"line_width\":2,\"x\":{\"field\":\"x\"},\"y\":{\"field\":\"y\"}},\"id\":\"14463\",\"type\":\"Line\"},{\"attributes\":{\"angle\":{\"units\":\"rad\",\"value\":0},\"line_color\":{\"value\":\"#2575b7\"},\"line_width\":{\"value\":2},\"x\":{\"value\":794.0},\"y\":{\"value\":1}},\"id\":\"14796\",\"type\":\"Ray\"},{\"attributes\":{\"angle\":{\"units\":\"rad\",\"value\":0},\"line_color\":{\"value\":\"#08306b\"},\"line_width\":{\"value\":2},\"x\":{\"value\":599.0},\"y\":{\"value\":1}},\"id\":\"14444\",\"type\":\"Ray\"},{\"attributes\":{\"data\":{},\"selected\":{\"id\":\"14793\"},\"selection_policy\":{\"id\":\"14794\"}},\"id\":\"14755\",\"type\":\"ColumnDataSource\"},{\"attributes\":{\"line_alpha\":0.1,\"line_color\":\"#60a7d2\",\"line_width\":2,\"x\":{\"field\":\"x\"},\"y\":{\"field\":\"y\"}},\"id\":\"15135\",\"type\":\"Line\"},{\"attributes\":{\"data_source\":{\"id\":\"15079\"},\"glyph\":{\"id\":\"15080\"},\"hover_glyph\":null,\"muted_glyph\":null,\"nonselection_glyph\":{\"id\":\"15081\"},\"selection_glyph\":null,\"view\":{\"id\":\"15083\"}},\"id\":\"15082\",\"type\":\"GlyphRenderer\"},{\"attributes\":{\"line_color\":\"#60a7d2\",\"line_width\":2,\"x\":{\"field\":\"x\"},\"y\":{\"field\":\"y\"}},\"id\":\"15134\",\"type\":\"Line\"},{\"attributes\":{\"data_source\":{\"id\":\"14411\"},\"glyph\":{\"id\":\"14412\"},\"hover_glyph\":null,\"muted_glyph\":null,\"nonselection_glyph\":{\"id\":\"14413\"},\"selection_glyph\":null,\"view\":{\"id\":\"14415\"}},\"id\":\"14414\",\"type\":\"GlyphRenderer\"},{\"attributes\":{\"source\":{\"id\":\"14427\"}},\"id\":\"14431\",\"type\":\"CDSView\"},{\"attributes\":{\"line_alpha\":0.1,\"line_color\":\"#08306b\",\"line_width\":2,\"x\":{\"field\":\"x\"},\"y\":{\"field\":\"y\"}},\"id\":\"14413\",\"type\":\"Line\"},{\"attributes\":{},\"id\":\"14442\",\"type\":\"UnionRenderers\"},{\"attributes\":{\"data\":{\"x\":{\"__ndarray__\":\"AAAAAABAUEAAAAAAAEBQQAAAAAAAwGBAAAAAAADAYEAAAAAAAMBgQAAAAAAAwGBAAAAAAABgYUAAAAAAAGBhQAAAAAAAwGNAAAAAAADAY0AAAAAAAMBlQAAAAAAAwGVAAAAAAACAZ0AAAAAAAIBnQAAAAAAA4GdAAAAAAADgZ0AAAAAAACBpQAAAAAAAIGlAAAAAAACAbEAAAAAAAIBsQAAAAAAA4GxAAAAAAADgbEAAAAAAAOBsQAAAAAAA4GxAAAAAAAAAbUAAAAAAAABtQAAAAAAA4G1AAAAAAADgbUAAAAAAAEBvQAAAAAAAQG9AAAAAAABgb0AAAAAAAGBvQAAAAAAAoG9AAAAAAACgb0AAAAAAACBwQAAAAAAAIHBAAAAAAAAwcEAAAAAAADBwQAAAAAAAYHBAAAAAAABgcEAAAAAAAHBxQAAAAAAAcHFAAAAAAACwcUAAAAAAALBxQAAAAAAAMHJAAAAAAAAwckAAAAAAAMByQAAAAAAAwHJAAAAAAADAckAAAAAAAMByQAAAAAAA0HJAAAAAAADQckAAAAAAAGBzQAAAAAAAYHNAAAAAAACwc0AAAAAAALBzQAAAAAAA0HNAAAAAAADQc0AAAAAAANBzQAAAAAAA0HNAAAAAAACQdEAAAAAAAJB0QAAAAAAAwHVAAAAAAADAdUAAAAAAADB2QAAAAAAAMHZAAAAAAABQdkAAAAAAAFB2QAAAAAAAkHdAAAAAAACQd0AAAAAAABB4QAAAAAAAEHhAAAAAAABweEAAAAAAAHB4QAAAAAAAgHhAAAAAAACAeEAAAAAAAIB4QAAAAAAAgHhAAAAAAADAeUAAAAAAAMB5QAAAAAAAAH1AAAAAAAAAfUAAAAAAADB+QAAAAAAAMH5AAAAAAABgfkAAAAAAAGB+QAAAAAAAMIBAAAAAAAAwgEAAAAAAADCAQAAAAAAAMIBAAAAAAADwgEAAAAAAAPCAQAAAAAAAgIFAAAAAAACAgUAAAAAAAHiCQAAAAAAAeIJA\",\"dtype\":\"float64\",\"order\":\"little\",\"shape\":[96]},\"y\":{\"__ndarray__\":\"AAAAAAAAAABVVVVVVVWVP1VVVVVVVZU/VVVVVVVVpT9VVVVVVVWlPwAAAAAAALA/AAAAAAAAsD9VVVVVVVW1P1VVVVVVVbU/q6qqqqqquj+rqqqqqqq6PwAAAAAAAMA/AAAAAAAAwD+rqqqqqqrCP6uqqqqqqsI/VVVVVVVVxT9VVVVVVVXFPwAAAAAAAMg/AAAAAAAAyD+rqqqqqqrKP6uqqqqqqso/VVVVVVVVzT9VVVVVVVXNPwAAAAAAANA/AAAAAAAA0D9VVVVVVVXRP1VVVVVVVdE/q6qqqqqq0j+rqqqqqqrSPwAAAAAAANQ/AAAAAAAA1D9VVVVVVVXVP1VVVVVVVdU/q6qqqqqq1j+rqqqqqqrWPwAAAAAAANg/AAAAAAAA2D9VVVVVVVXZP1VVVVVVVdk/q6qqqqqq2j+rqqqqqqraPwAAAAAAANw/AAAAAAAA3D9VVVVVVVXdP1VVVVVVVd0/q6qqqqqq3j+rqqqqqqrePwAAAAAAAOA/AAAAAAAA4D+rqqqqqqrgP6uqqqqqquA/VVVVVVVV4T9VVVVVVVXhPwAAAAAAAOI/AAAAAAAA4j+rqqqqqqriP6uqqqqqquI/VVVVVVVV4z9VVVVVVVXjPwAAAAAAAOQ/AAAAAAAA5D+rqqqqqqrkP6uqqqqqquQ/VVVVVVVV5T9VVVVVVVXlPwAAAAAAAOY/AAAAAAAA5j+rqqqqqqrmP6uqqqqqquY/VVVVVVVV5z9VVVVVVVXnPwAAAAAAAOg/AAAAAAAA6D+rqqqqqqroP6uqqqqqqug/VVVVVVVV6T9VVVVVVVXpPwAAAAAAAOo/AAAAAAAA6j+rqqqqqqrqP6uqqqqqquo/VVVVVVVV6z9VVVVVVVXrPwAAAAAAAOw/AAAAAAAA7D+rqqqqqqrsP6uqqqqqquw/VVVVVVVV7T9VVVVVVVXtPwAAAAAAAO4/AAAAAAAA7j+rqqqqqqruP6uqqqqqqu4/VVVVVVVV7z9VVVVVVVXvPwAAAAAAAPA/\",\"dtype\":\"float64\",\"order\":\"little\",\"shape\":[96]}},\"selected\":{\"id\":\"14552\"},\"selection_policy\":{\"id\":\"14553\"}},\"id\":\"14528\",\"type\":\"ColumnDataSource\"},{\"attributes\":{\"data\":{},\"selected\":{\"id\":\"14835\"},\"selection_policy\":{\"id\":\"14836\"}},\"id\":\"14795\",\"type\":\"ColumnDataSource\"},{\"attributes\":{\"data\":{},\"selected\":{\"id\":\"14926\"},\"selection_policy\":{\"id\":\"14927\"}},\"id\":\"14882\",\"type\":\"ColumnDataSource\"},{\"attributes\":{\"angle\":{\"units\":\"rad\",\"value\":0},\"line_alpha\":{\"value\":0.1},\"line_color\":{\"value\":\"#4a98c9\"},\"line_width\":{\"value\":2},\"x\":{\"value\":742.0},\"y\":{\"value\":1}},\"id\":\"15081\",\"type\":\"Ray\"},{\"attributes\":{\"data\":{\"x\":{\"__ndarray__\":\"AAAAAACASUAAAAAAAIBJQAAAAAAAwFhAAAAAAADAWEAAAAAAAABhQAAAAAAAAGFAAAAAAAAgZUAAAAAAACBlQAAAAAAAYGVAAAAAAABgZUAAAAAAAABpQAAAAAAAAGlAAAAAAAAAa0AAAAAAAABrQAAAAAAAYGxAAAAAAABgbEAAAAAAAABvQAAAAAAAAG9AAAAAAABgb0AAAAAAAGBvQAAAAAAAYHBAAAAAAABgcEAAAAAAALBwQAAAAAAAsHBAAAAAAADQcEAAAAAAANBwQAAAAAAAYHJAAAAAAABgckAAAAAAAIB0QAAAAAAAgHRAAAAAAACAdkAAAAAAAIB2QAAAAAAAAHlAAAAAAAAAeUAAAAAAAHB5QAAAAAAAcHlAAAAAAABwe0AAAAAAAHB7QAAAAAAAoHxAAAAAAACgfEAAAAAAANB8QAAAAAAA0HxAAAAAAAAgfUAAAAAAACB9QAAAAAAAiIVAAAAAAACIhUAAAAAAAFCHQAAAAAAAUIdAAAAAAABQh0AAAAAAAFCHQAAAAAAA3JRAAAAAAADclEA=\",\"dtype\":\"float64\",\"order\":\"little\",\"shape\":[52]},\"y\":{\"__ndarray__\":\"AAAAAAAAAAAUO7ETO7GjPxQ7sRM7saM/FDuxEzuxsz8UO7ETO7GzP57YiZ3Yib0/ntiJndiJvT8UO7ETO7HDPxQ7sRM7scM/2Ymd2ImdyD/ZiZ3YiZ3IP57YiZ3Yic0/ntiJndiJzT+xEzuxEzvRP7ETO7ETO9E/FDuxEzux0z8UO7ETO7HTP3ZiJ3ZiJ9Y/dmIndmIn1j/ZiZ3YiZ3YP9mJndiJndg/O7ETO7ET2z87sRM7sRPbP57YiZ3Yid0/ntiJndiJ3T8AAAAAAADgPwAAAAAAAOA/sRM7sRM74T+xEzuxEzvhP2IndmInduI/Yid2Yid24j8UO7ETO7HjPxQ7sRM7seM/xU7sxE7s5D/FTuzETuzkP3ZiJ3ZiJ+Y/dmIndmIn5j8ndmIndmLnPyd2Yid2Yuc/2Ymd2Imd6D/ZiZ3YiZ3oP4qd2Imd2Ok/ip3YiZ3Y6T87sRM7sRPrPzuxEzuxE+s/7MRO7MRO7D/sxE7sxE7sP57YiZ3Yie0/ntiJndiJ7T9P7MRO7MTuP0/sxE7sxO4/AAAAAAAA8D8=\",\"dtype\":\"float64\",\"order\":\"little\",\"shape\":[52]}},\"selected\":{\"id\":\"15368\"},\"selection_policy\":{\"id\":\"15369\"}},\"id\":\"15308\",\"type\":\"ColumnDataSource\"},{\"attributes\":{},\"id\":\"14441\",\"type\":\"Selection\"},{\"attributes\":{\"data_source\":{\"id\":\"14583\"},\"glyph\":{\"id\":\"14584\"},\"hover_glyph\":null,\"muted_glyph\":null,\"nonselection_glyph\":{\"id\":\"14585\"},\"selection_glyph\":null,\"view\":{\"id\":\"14587\"}},\"id\":\"14586\",\"type\":\"GlyphRenderer\"},{\"attributes\":{\"data_source\":{\"id\":\"14795\"},\"glyph\":{\"id\":\"14796\"},\"hover_glyph\":null,\"muted_glyph\":null,\"nonselection_glyph\":{\"id\":\"14797\"},\"selection_glyph\":null,\"view\":{\"id\":\"14799\"}},\"id\":\"14798\",\"type\":\"GlyphRenderer\"},{\"attributes\":{\"data_source\":{\"id\":\"14976\"},\"glyph\":{\"id\":\"14977\"},\"hover_glyph\":null,\"muted_glyph\":null,\"nonselection_glyph\":{\"id\":\"14978\"},\"selection_glyph\":null,\"view\":{\"id\":\"14980\"}},\"id\":\"14979\",\"type\":\"GlyphRenderer\"},{\"attributes\":{\"angle\":{\"units\":\"rad\",\"value\":3.141592653589793},\"line_alpha\":{\"value\":0.1},\"line_color\":{\"value\":\"#08306b\"},\"line_width\":{\"value\":2},\"x\":{\"value\":76.0},\"y\":{\"value\":0}},\"id\":\"14429\",\"type\":\"Ray\"},{\"attributes\":{\"line_alpha\":0.1,\"line_color\":\"#1764ab\",\"line_width\":2,\"x\":{\"field\":\"x\"},\"y\":{\"field\":\"y\"}},\"id\":\"14615\",\"type\":\"Line\"},{\"attributes\":{\"line_color\":\"#08306b\",\"line_width\":2,\"x\":{\"field\":\"x\"},\"y\":{\"field\":\"y\"}},\"id\":\"14412\",\"type\":\"Line\"},{\"attributes\":{\"source\":{\"id\":\"15079\"}},\"id\":\"15083\",\"type\":\"CDSView\"},{\"attributes\":{\"angle\":{\"units\":\"rad\",\"value\":0},\"line_alpha\":{\"value\":0.1},\"line_color\":{\"value\":\"#0a539e\"},\"line_width\":{\"value\":2},\"x\":{\"value\":591.0},\"y\":{\"value\":1}},\"id\":\"14585\",\"type\":\"Ray\"},{\"attributes\":{\"source\":{\"id\":\"14976\"}},\"id\":\"14980\",\"type\":\"CDSView\"},{\"attributes\":{\"source\":{\"id\":\"14411\"}},\"id\":\"14415\",\"type\":\"CDSView\"},{\"attributes\":{\"angle\":{\"units\":\"rad\",\"value\":0},\"line_alpha\":{\"value\":0.1},\"line_color\":{\"value\":\"#2575b7\"},\"line_width\":{\"value\":2},\"x\":{\"value\":794.0},\"y\":{\"value\":1}},\"id\":\"14797\",\"type\":\"Ray\"},{\"attributes\":{\"data_source\":{\"id\":\"14528\"},\"glyph\":{\"id\":\"14529\"},\"hover_glyph\":null,\"muted_glyph\":null,\"nonselection_glyph\":{\"id\":\"14530\"},\"selection_glyph\":null,\"view\":{\"id\":\"14532\"}},\"id\":\"14531\",\"type\":\"GlyphRenderer\"},{\"attributes\":{\"data\":{\"x\":{\"__ndarray__\":\"AAAAAACASEAAAAAAAIBIQAAAAAAAwFdAAAAAAADAV0AAAAAAAGBgQAAAAAAAYGBAAAAAAACgYEAAAAAAAKBgQAAAAAAAgGJAAAAAAACAYkAAAAAAAABkQAAAAAAAAGRAAAAAAACgZ0AAAAAAAKBnQAAAAAAAAGlAAAAAAAAAaUAAAAAAAEBpQAAAAAAAQGlAAAAAAADgaUAAAAAAAOBpQAAAAAAAgGpAAAAAAACAakAAAAAAAKBtQAAAAAAAoG1AAAAAAAAgb0AAAAAAACBvQAAAAAAAQG9AAAAAAABAb0AAAAAAAHBwQAAAAAAAcHBAAAAAAADwcEAAAAAAAPBwQAAAAAAA8HBAAAAAAADwcEAAAAAAAIBxQAAAAAAAgHFAAAAAAACgcUAAAAAAAKBxQAAAAAAAMHJAAAAAAAAwckAAAAAAAOByQAAAAAAA4HJAAAAAAAAgc0AAAAAAACBzQAAAAAAAgHRAAAAAAACAdEAAAAAAAFB1QAAAAAAAUHVAAAAAAADwdUAAAAAAAPB1QAAAAAAAwHZAAAAAAADAdkAAAAAAAEB3QAAAAAAAQHdAAAAAAABweUAAAAAAAHB5QAAAAAAAkHpAAAAAAACQekAAAAAAAAB7QAAAAAAAAHtAAAAAAAAQe0AAAAAAABB7QAAAAAAAgHxAAAAAAACAfEAAAAAAAHB9QAAAAAAAcH1AAAAAAAA4gEAAAAAAADiAQAAAAAAAeIBAAAAAAAB4gEAAAAAAANCIQAAAAAAA0IhA\",\"dtype\":\"float64\",\"order\":\"little\",\"shape\":[72]},\"y\":{\"__ndarray__\":\"AAAAAAAAAAAcx3Ecx3GcPxzHcRzHcZw/HMdxHMdxrD8cx3Ecx3GsP1VVVVVVVbU/VVVVVVVVtT8cx3Ecx3G8PxzHcRzHcbw/chzHcRzHwT9yHMdxHMfBP1VVVVVVVcU/VVVVVVVVxT85juM4juPIPzmO4ziO48g/HMdxHMdxzD8cx3Ecx3HMPwAAAAAAANA/AAAAAAAA0D9yHMdxHMfRP3Icx3Ecx9E/5DiO4ziO0z/kOI7jOI7TP1VVVVVVVdU/VVVVVVVV1T/HcRzHcRzXP8dxHMdxHNc/OY7jOI7j2D85juM4juPYP6uqqqqqqto/q6qqqqqq2j8cx3Ecx3HcPxzHcRzHcdw/juM4juM43j+O4ziO4zjePwAAAAAAAOA/AAAAAAAA4D85juM4juPgPzmO4ziO4+A/chzHcRzH4T9yHMdxHMfhP6uqqqqqquI/q6qqqqqq4j/kOI7jOI7jP+Q4juM4juM/HMdxHMdx5D8cx3Ecx3HkP1VVVVVVVeU/VVVVVVVV5T+O4ziO4zjmP47jOI7jOOY/x3Ecx3Ec5z/HcRzHcRznPwAAAAAAAOg/AAAAAAAA6D85juM4juPoPzmO4ziO4+g/chzHcRzH6T9yHMdxHMfpP6uqqqqqquo/q6qqqqqq6j/kOI7jOI7rP+Q4juM4jus/HMdxHMdx7D8cx3Ecx3HsP1VVVVVVVe0/VVVVVVVV7T+O4ziO4zjuP47jOI7jOO4/x3Ecx3Ec7z/HcRzHcRzvPwAAAAAAAPA/\",\"dtype\":\"float64\",\"order\":\"little\",\"shape\":[72]}},\"selected\":{\"id\":\"14752\"},\"selection_policy\":{\"id\":\"14753\"}},\"id\":\"14716\",\"type\":\"ColumnDataSource\"},{\"attributes\":{\"label\":{\"value\":\"mo0\"},\"renderers\":[{\"id\":\"14414\"},{\"id\":\"14430\"},{\"id\":\"14446\"}]},\"id\":\"14426\",\"type\":\"LegendItem\"},{\"attributes\":{},\"id\":\"15024\",\"type\":\"Selection\"},{\"attributes\":{},\"id\":\"15132\",\"type\":\"UnionRenderers\"},{\"attributes\":{},\"id\":\"15025\",\"type\":\"UnionRenderers\"},{\"attributes\":{\"data\":{},\"selected\":{\"id\":\"14459\"},\"selection_policy\":{\"id\":\"14460\"}},\"id\":\"14443\",\"type\":\"ColumnDataSource\"},{\"attributes\":{\"source\":{\"id\":\"14528\"}},\"id\":\"14532\",\"type\":\"CDSView\"},{\"attributes\":{\"source\":{\"id\":\"14795\"}},\"id\":\"14799\",\"type\":\"CDSView\"},{\"attributes\":{\"source\":{\"id\":\"14583\"}},\"id\":\"14587\",\"type\":\"CDSView\"},{\"attributes\":{\"data\":{\"x\":{\"__ndarray__\":\"AAAAAACARUAAAAAAAIBFQAAAAAAAgF5AAAAAAACAXkAAAAAAAABgQAAAAAAAAGBAAAAAAABgYkAAAAAAAGBiQAAAAAAAgGNAAAAAAACAY0AAAAAAAABkQAAAAAAAAGRAAAAAAACgZEAAAAAAAKBkQAAAAAAA4GVAAAAAAADgZUAAAAAAACBmQAAAAAAAIGZAAAAAAADgaEAAAAAAAOBoQAAAAAAAYGlAAAAAAABgaUAAAAAAAABqQAAAAAAAAGpAAAAAAACga0AAAAAAAKBrQAAAAAAAIGxAAAAAAAAgbEAAAAAAABBwQAAAAAAAEHBAAAAAAAAQc0AAAAAAABBzQAAAAAAAgHNAAAAAAACAc0AAAAAAANBzQAAAAAAA0HNAAAAAAADgc0AAAAAAAOBzQAAAAAAAQHRAAAAAAABAdEAAAAAAAGB1QAAAAAAAYHVAAAAAAABQdkAAAAAAAFB2QAAAAAAAoHZAAAAAAACgdkAAAAAAAEB3QAAAAAAAQHdAAAAAAADgd0AAAAAAAOB3QAAAAAAA8HtAAAAAAADwe0AAAAAAANB+QAAAAAAA0H5AAAAAAABYgEAAAAAAAFiAQAAAAAAAeIRAAAAAAAB4hEAAAAAAADCFQAAAAAAAMIVAAAAAAAAwh0AAAAAAADCHQA==\",\"dtype\":\"float64\",\"order\":\"little\",\"shape\":[62]},\"y\":{\"__ndarray__\":\"AAAAAAAAAACEEEIIIYSgP4QQQgghhKA/hBBCCCGEsD+EEEIIIYSwP8YYY4wxxrg/xhhjjDHGuD+EEEIIIYTAP4QQQgghhMA/pZRSSimlxD+llFJKKaXEP8YYY4wxxsg/xhhjjDHGyD/nnHPOOefMP+ecc84558w/hBBCCCGE0D+EEEIIIYTQP5VSSimllNI/lVJKKaWU0j+llFJKKaXUP6WUUkoppdQ/ttZaa6211j+21lprrbXWP8YYY4wxxtg/xhhjjDHG2D/XWmuttdbaP9daa6211to/55xzzjnn3D/nnHPOOefcP/jee++9994/+N5777333j+EEEIIIYTgP4QQQgghhOA/jDHGGGOM4T+MMcYYY4zhP5VSSimllOI/lVJKKaWU4j+dc84555zjP51zzjnnnOM/pZRSSiml5D+llFJKKaXkP6211lprreU/rbXWWmut5T+21lprrbXmP7bWWmutteY/vvfee++95z++9957773nP8YYY4wxxug/xhhjjDHG6D/OOeecc87pP84555xzzuk/11prrbXW6j/XWmuttdbqP99777333us/33vvvffe6z/nnHPOOefsP+ecc8455+w/77333nvv7T/vvffee+/tP/jee++99+4/+N5777337j8AAAAAAADwPw==\",\"dtype\":\"float64\",\"order\":\"little\",\"shape\":[62]}},\"selected\":{\"id\":\"15024\"},\"selection_policy\":{\"id\":\"15025\"}},\"id\":\"14976\",\"type\":\"ColumnDataSource\"},{\"attributes\":{},\"id\":\"15131\",\"type\":\"Selection\"},{\"attributes\":{\"data\":{},\"selected\":{\"id\":\"15131\"},\"selection_policy\":{\"id\":\"15132\"}},\"id\":\"15079\",\"type\":\"ColumnDataSource\"},{\"attributes\":{},\"id\":\"14552\",\"type\":\"Selection\"},{\"attributes\":{},\"id\":\"14612\",\"type\":\"UnionRenderers\"},{\"attributes\":{},\"id\":\"14381\",\"type\":\"DataRange1d\"},{\"attributes\":{\"data_source\":{\"id\":\"14443\"},\"glyph\":{\"id\":\"14444\"},\"hover_glyph\":null,\"muted_glyph\":null,\"nonselection_glyph\":{\"id\":\"14445\"},\"selection_glyph\":null,\"view\":{\"id\":\"14447\"}},\"id\":\"14446\",\"type\":\"GlyphRenderer\"},{\"attributes\":{},\"id\":\"14836\",\"type\":\"UnionRenderers\"},{\"attributes\":{},\"id\":\"14387\",\"type\":\"LinearScale\"},{\"attributes\":{},\"id\":\"14553\",\"type\":\"UnionRenderers\"},{\"attributes\":{},\"id\":\"14611\",\"type\":\"Selection\"},{\"attributes\":{\"angle\":{\"units\":\"rad\",\"value\":0},\"line_alpha\":{\"value\":0.1},\"line_color\":{\"value\":\"#08306b\"},\"line_width\":{\"value\":2},\"x\":{\"value\":599.0},\"y\":{\"value\":1}},\"id\":\"14445\",\"type\":\"Ray\"},{\"attributes\":{},\"id\":\"14835\",\"type\":\"Selection\"},{\"attributes\":{},\"id\":\"14385\",\"type\":\"LinearScale\"},{\"attributes\":{\"axis_label\":\"ctx (pg/ml)\",\"formatter\":{\"id\":\"14420\"},\"ticker\":{\"id\":\"14390\"}},\"id\":\"14389\",\"type\":\"LinearAxis\"},{\"attributes\":{\"source\":{\"id\":\"14443\"}},\"id\":\"14447\",\"type\":\"CDSView\"},{\"attributes\":{\"label\":{\"value\":\"mo18\"},\"renderers\":[{\"id\":\"14979\"},{\"id\":\"15030\"},{\"id\":\"15082\"}]},\"id\":\"15026\",\"type\":\"LegendItem\"},{\"attributes\":{},\"id\":\"14460\",\"type\":\"UnionRenderers\"},{\"attributes\":{\"data_source\":{\"id\":\"15371\"},\"glyph\":{\"id\":\"15372\"},\"hover_glyph\":null,\"muted_glyph\":null,\"nonselection_glyph\":{\"id\":\"15373\"},\"selection_glyph\":null,\"view\":{\"id\":\"15375\"}},\"id\":\"15374\",\"type\":\"GlyphRenderer\"},{\"attributes\":{\"line_color\":\"#0a539e\",\"line_width\":2,\"x\":{\"field\":\"x\"},\"y\":{\"field\":\"y\"}},\"id\":\"14529\",\"type\":\"Line\"},{\"attributes\":{\"angle\":{\"units\":\"rad\",\"value\":0},\"line_color\":{\"value\":\"#1764ab\"},\"line_width\":{\"value\":2},\"x\":{\"value\":827.0},\"y\":{\"value\":1}},\"id\":\"14681\",\"type\":\"Ray\"},{\"attributes\":{\"angle\":{\"units\":\"rad\",\"value\":0},\"line_color\":{\"value\":\"#60a7d2\"},\"line_width\":{\"value\":2},\"x\":{\"value\":711.0},\"y\":{\"value\":1}},\"id\":\"15249\",\"type\":\"Ray\"},{\"attributes\":{},\"id\":\"14459\",\"type\":\"Selection\"},{\"attributes\":{},\"id\":\"15433\",\"type\":\"Selection\"},{\"attributes\":{\"data\":{},\"selected\":{\"id\":\"14678\"},\"selection_policy\":{\"id\":\"14679\"}},\"id\":\"14646\",\"type\":\"ColumnDataSource\"},{\"attributes\":{\"data\":{},\"selected\":{\"id\":\"14502\"},\"selection_policy\":{\"id\":\"14503\"}},\"id\":\"14482\",\"type\":\"ColumnDataSource\"},{\"attributes\":{\"line_color\":\"#1764ab\",\"line_width\":2,\"x\":{\"field\":\"x\"},\"y\":{\"field\":\"y\"}},\"id\":\"14614\",\"type\":\"Line\"},{\"attributes\":{\"line_alpha\":0.1,\"line_color\":\"#2575b7\",\"line_width\":2,\"x\":{\"field\":\"x\"},\"y\":{\"field\":\"y\"}},\"id\":\"14718\",\"type\":\"Line\"},{\"attributes\":{\"line_color\":\"#79b5d9\",\"line_width\":2,\"x\":{\"field\":\"x\"},\"y\":{\"field\":\"y\"}},\"id\":\"15309\",\"type\":\"Line\"},{\"attributes\":{\"data_source\":{\"id\":\"15248\"},\"glyph\":{\"id\":\"15249\"},\"hover_glyph\":null,\"muted_glyph\":null,\"nonselection_glyph\":{\"id\":\"15250\"},\"selection_glyph\":null,\"view\":{\"id\":\"15252\"}},\"id\":\"15251\",\"type\":\"GlyphRenderer\"},{\"attributes\":{\"axis\":{\"id\":\"14389\"},\"ticker\":null},\"id\":\"14392\",\"type\":\"Grid\"},{\"attributes\":{\"line_color\":\"#2575b7\",\"line_width\":2,\"x\":{\"field\":\"x\"},\"y\":{\"field\":\"y\"}},\"id\":\"14717\",\"type\":\"Line\"},{\"attributes\":{\"line_alpha\":0.1,\"line_color\":\"#79b5d9\",\"line_width\":2,\"x\":{\"field\":\"x\"},\"y\":{\"field\":\"y\"}},\"id\":\"15310\",\"type\":\"Line\"},{\"attributes\":{\"line_alpha\":0.1,\"line_color\":\"#4a98c9\",\"line_width\":2,\"x\":{\"field\":\"x\"},\"y\":{\"field\":\"y\"}},\"id\":\"14978\",\"type\":\"Line\"},{\"attributes\":{\"angle\":{\"units\":\"rad\",\"value\":3.141592653589793},\"line_color\":{\"value\":\"#79b5d9\"},\"line_width\":{\"value\":2},\"x\":{\"value\":51.0},\"y\":{\"value\":0}},\"id\":\"15372\",\"type\":\"Ray\"},{\"attributes\":{\"line_color\":\"#4a98c9\",\"line_width\":2,\"x\":{\"field\":\"x\"},\"y\":{\"field\":\"y\"}},\"id\":\"14977\",\"type\":\"Line\"},{\"attributes\":{},\"id\":\"14390\",\"type\":\"BasicTicker\"},{\"attributes\":{\"data_source\":{\"id\":\"14680\"},\"glyph\":{\"id\":\"14681\"},\"hover_glyph\":null,\"muted_glyph\":null,\"nonselection_glyph\":{\"id\":\"14682\"},\"selection_glyph\":null,\"view\":{\"id\":\"14684\"}},\"id\":\"14683\",\"type\":\"GlyphRenderer\"},{\"attributes\":{\"line_alpha\":0.1,\"line_color\":\"#0a539e\",\"line_width\":2,\"x\":{\"field\":\"x\"},\"y\":{\"field\":\"y\"}},\"id\":\"14530\",\"type\":\"Line\"},{\"attributes\":{\"angle\":{\"units\":\"rad\",\"value\":0},\"line_alpha\":{\"value\":0.1},\"line_color\":{\"value\":\"#60a7d2\"},\"line_width\":{\"value\":2},\"x\":{\"value\":711.0},\"y\":{\"value\":1}},\"id\":\"15250\",\"type\":\"Ray\"},{\"attributes\":{\"angle\":{\"units\":\"rad\",\"value\":3.141592653589793},\"line_alpha\":{\"value\":0.1},\"line_color\":{\"value\":\"#79b5d9\"},\"line_width\":{\"value\":2},\"x\":{\"value\":51.0},\"y\":{\"value\":0}},\"id\":\"15373\",\"type\":\"Ray\"},{\"attributes\":{},\"id\":\"15188\",\"type\":\"UnionRenderers\"},{\"attributes\":{\"data_source\":{\"id\":\"15133\"},\"glyph\":{\"id\":\"15134\"},\"hover_glyph\":null,\"muted_glyph\":null,\"nonselection_glyph\":{\"id\":\"15135\"},\"selection_glyph\":null,\"view\":{\"id\":\"15137\"}},\"id\":\"15136\",\"type\":\"GlyphRenderer\"},{\"attributes\":{\"axis_label\":\"ECDF\",\"formatter\":{\"id\":\"14418\"},\"ticker\":{\"id\":\"14394\"}},\"id\":\"14393\",\"type\":\"LinearAxis\"},{\"attributes\":{},\"id\":\"14394\",\"type\":\"BasicTicker\"},{\"attributes\":{\"angle\":{\"units\":\"rad\",\"value\":0},\"line_alpha\":{\"value\":0.1},\"line_color\":{\"value\":\"#1764ab\"},\"line_width\":{\"value\":2},\"x\":{\"value\":827.0},\"y\":{\"value\":1}},\"id\":\"14682\",\"type\":\"Ray\"},{\"attributes\":{\"data\":{\"x\":{\"__ndarray__\":\"AAAAAAAARkAAAAAAAABGQAAAAAAAQF1AAAAAAABAXUAAAAAAAABhQAAAAAAAAGFAAAAAAABAYUAAAAAAAEBhQAAAAAAAIGJAAAAAAAAgYkAAAAAAAEBkQAAAAAAAQGRAAAAAAABAZEAAAAAAAEBkQAAAAAAAIGZAAAAAAAAgZkAAAAAAACBnQAAAAAAAIGdAAAAAAAAgaUAAAAAAACBpQAAAAAAAwGlAAAAAAADAaUAAAAAAAOBrQAAAAAAA4GtAAAAAAABAbEAAAAAAAEBsQAAAAAAAIG9AAAAAAAAgb0AAAAAAAIBwQAAAAAAAgHBAAAAAAACwcEAAAAAAALBwQAAAAAAAoHFAAAAAAACgcUAAAAAAAKBxQAAAAAAAoHFAAAAAAACwckAAAAAAALByQAAAAAAAcHRAAAAAAABwdEAAAAAAAHB0QAAAAAAAcHRAAAAAAABAdUAAAAAAAEB1QAAAAAAAYHZAAAAAAABgdkAAAAAAABB4QAAAAAAAEHhAAAAAAAAweEAAAAAAADB4QAAAAAAAQHlAAAAAAABAeUAAAAAAALB5QAAAAAAAsHlAAAAAAADAfEAAAAAAAMB8QAAAAAAAgH1AAAAAAACAfUAAAAAAAEB+QAAAAAAAQH5AAAAAAABIhkAAAAAAAEiGQA==\",\"dtype\":\"float64\",\"order\":\"little\",\"shape\":[62]},\"y\":{\"__ndarray__\":\"AAAAAAAAAACEEEIIIYSgP4QQQgghhKA/hBBCCCGEsD+EEEIIIYSwP8YYY4wxxrg/xhhjjDHGuD+EEEIIIYTAP4QQQgghhMA/pZRSSimlxD+llFJKKaXEP8YYY4wxxsg/xhhjjDHGyD/nnHPOOefMP+ecc84558w/hBBCCCGE0D+EEEIIIYTQP5VSSimllNI/lVJKKaWU0j+llFJKKaXUP6WUUkoppdQ/ttZaa6211j+21lprrbXWP8YYY4wxxtg/xhhjjDHG2D/XWmuttdbaP9daa6211to/55xzzjnn3D/nnHPOOefcP/jee++9994/+N5777333j+EEEIIIYTgP4QQQgghhOA/jDHGGGOM4T+MMcYYY4zhP5VSSimllOI/lVJKKaWU4j+dc84555zjP51zzjnnnOM/pZRSSiml5D+llFJKKaXkP6211lprreU/rbXWWmut5T+21lprrbXmP7bWWmutteY/vvfee++95z++9957773nP8YYY4wxxug/xhhjjDHG6D/OOeecc87pP84555xzzuk/11prrbXW6j/XWmuttdbqP99777333us/33vvvffe6z/nnHPOOefsP+ecc8455+w/77333nvv7T/vvffee+/tP/jee++99+4/+N5777337j8AAAAAAADwPw==\",\"dtype\":\"float64\",\"order\":\"little\",\"shape\":[62]}},\"selected\":{\"id\":\"14879\"},\"selection_policy\":{\"id\":\"14880\"}},\"id\":\"14837\",\"type\":\"ColumnDataSource\"},{\"attributes\":{\"source\":{\"id\":\"15248\"}},\"id\":\"15252\",\"type\":\"CDSView\"},{\"attributes\":{\"axis\":{\"id\":\"14393\"},\"dimension\":1,\"ticker\":null},\"id\":\"14396\",\"type\":\"Grid\"},{\"attributes\":{\"source\":{\"id\":\"15133\"}},\"id\":\"15137\",\"type\":\"CDSView\"},{\"attributes\":{\"source\":{\"id\":\"15371\"}},\"id\":\"15375\",\"type\":\"CDSView\"},{\"attributes\":{},\"id\":\"14480\",\"type\":\"UnionRenderers\"},{\"attributes\":{\"data_source\":{\"id\":\"14613\"},\"glyph\":{\"id\":\"14614\"},\"hover_glyph\":null,\"muted_glyph\":null,\"nonselection_glyph\":{\"id\":\"14615\"},\"selection_glyph\":null,\"view\":{\"id\":\"14617\"}},\"id\":\"14616\",\"type\":\"GlyphRenderer\"},{\"attributes\":{\"data_source\":{\"id\":\"14461\"},\"glyph\":{\"id\":\"14462\"},\"hover_glyph\":null,\"muted_glyph\":null,\"nonselection_glyph\":{\"id\":\"14463\"},\"selection_glyph\":null,\"view\":{\"id\":\"14465\"}},\"id\":\"14464\",\"type\":\"GlyphRenderer\"},{\"attributes\":{\"data\":{\"x\":{\"__ndarray__\":\"AAAAAACASEAAAAAAAIBIQAAAAAAAQFlAAAAAAABAWUAAAAAAAABdQAAAAAAAAF1AAAAAAACAYkAAAAAAAIBiQAAAAAAAQGlAAAAAAABAaUAAAAAAAOBpQAAAAAAA4GlAAAAAAABgakAAAAAAAGBqQAAAAAAAwGtAAAAAAADAa0AAAAAAAOBtQAAAAAAA4G1AAAAAAAAAb0AAAAAAAABvQAAAAAAAYG9AAAAAAABgb0AAAAAAABBwQAAAAAAAEHBAAAAAAABQcEAAAAAAAFBwQAAAAAAAcHBAAAAAAABwcEAAAAAAAHByQAAAAAAAcHJAAAAAAACwc0AAAAAAALBzQAAAAAAAsHRAAAAAAACwdEAAAAAAANB1QAAAAAAA0HVAAAAAAABAdkAAAAAAAEB2QAAAAAAAQHZAAAAAAABAdkAAAAAAALB2QAAAAAAAsHZAAAAAAACgd0AAAAAAAKB3QAAAAAAA4HhAAAAAAADgeEAAAAAAAKB6QAAAAAAAoHpAAAAAAAAIgUAAAAAAAAiBQAAAAAAAEIVAAAAAAAAQhUAAAAAAAOiFQAAAAAAA6IVAAAAAAAA4hkAAAAAAADiGQA==\",\"dtype\":\"float64\",\"order\":\"little\",\"shape\":[56]},\"y\":{\"__ndarray__\":\"AAAAAAAAAACSJEmSJEmiP5IkSZIkSaI/kiRJkiRJsj+SJEmSJEmyP9u2bdu2bbs/27Zt27Ztuz+SJEmSJEnCP5IkSZIkScI/t23btm3bxj+3bdu2bdvGP9u2bdu2bcs/27Zt27Ztyz8AAAAAAADQPwAAAAAAANA/kiRJkiRJ0j+SJEmSJEnSPyVJkiRJktQ/JUmSJEmS1D+3bdu2bdvWP7dt27Zt29Y/SZIkSZIk2T9JkiRJkiTZP9u2bdu2bds/27Zt27Zt2z9u27Zt27bdP27btm3btt0/AAAAAAAA4D8AAAAAAADgP0mSJEmSJOE/SZIkSZIk4T+SJEmSJEniP5IkSZIkSeI/27Zt27Zt4z/btm3btm3jPyVJkiRJkuQ/JUmSJEmS5D9u27Zt27blP27btm3btuU/t23btm3b5j+3bdu2bdvmPwAAAAAAAOg/AAAAAAAA6D9JkiRJkiTpP0mSJEmSJOk/kiRJkiRJ6j+SJEmSJEnqP9u2bdu2bes/27Zt27Zt6z8lSZIkSZLsPyVJkiRJkuw/btu2bdu27T9u27Zt27btP7dt27Zt2+4/t23btm3b7j8AAAAAAADwPw==\",\"dtype\":\"float64\",\"order\":\"little\",\"shape\":[56]}},\"selected\":{\"id\":\"15187\"},\"selection_policy\":{\"id\":\"15188\"}},\"id\":\"15133\",\"type\":\"ColumnDataSource\"},{\"attributes\":{},\"id\":\"14644\",\"type\":\"UnionRenderers\"},{\"attributes\":{},\"id\":\"14880\",\"type\":\"UnionRenderers\"},{\"attributes\":{},\"id\":\"15187\",\"type\":\"Selection\"},{\"attributes\":{\"data_source\":{\"id\":\"14837\"},\"glyph\":{\"id\":\"14838\"},\"hover_glyph\":null,\"muted_glyph\":null,\"nonselection_glyph\":{\"id\":\"14839\"},\"selection_glyph\":null,\"view\":{\"id\":\"14841\"}},\"id\":\"14840\",\"type\":\"GlyphRenderer\"},{\"attributes\":{\"source\":{\"id\":\"14680\"}},\"id\":\"14684\",\"type\":\"CDSView\"},{\"attributes\":{},\"id\":\"15307\",\"type\":\"UnionRenderers\"},{\"attributes\":{\"source\":{\"id\":\"14461\"}},\"id\":\"14465\",\"type\":\"CDSView\"},{\"attributes\":{\"source\":{\"id\":\"14613\"}},\"id\":\"14617\",\"type\":\"CDSView\"},{\"attributes\":{},\"id\":\"15434\",\"type\":\"UnionRenderers\"},{\"attributes\":{\"source\":{\"id\":\"14837\"}},\"id\":\"14841\",\"type\":\"CDSView\"},{\"attributes\":{},\"id\":\"14479\",\"type\":\"Selection\"},{\"attributes\":{},\"id\":\"14643\",\"type\":\"Selection\"},{\"attributes\":{},\"id\":\"15306\",\"type\":\"Selection\"},{\"attributes\":{\"data\":{},\"selected\":{\"id\":\"15306\"},\"selection_policy\":{\"id\":\"15307\"}},\"id\":\"15248\",\"type\":\"ColumnDataSource\"},{\"attributes\":{},\"id\":\"14715\",\"type\":\"UnionRenderers\"},{\"attributes\":{},\"id\":\"14879\",\"type\":\"Selection\"},{\"attributes\":{\"data\":{\"x\":{\"__ndarray__\":\"AAAAAAAAU0AAAAAAAABTQAAAAAAAQFVAAAAAAABAVUAAAAAAAEBWQAAAAAAAQFZAAAAAAAAAWEAAAAAAAABYQAAAAAAAgFtAAAAAAACAW0AAAAAAAEBcQAAAAAAAQFxAAAAAAABAXkAAAAAAAEBeQAAAAAAAQF9AAAAAAABAX0AAAAAAAIBfQAAAAAAAgF9AAAAAAACAYUAAAAAAAIBhQAAAAAAAwGFAAAAAAADAYUAAAAAAAMBhQAAAAAAAwGFAAAAAAABgYkAAAAAAAGBiQAAAAAAA4GJAAAAAAADgYkAAAAAAAMBkQAAAAAAAwGRAAAAAAADgZEAAAAAAAOBkQAAAAAAAAGVAAAAAAAAAZUAAAAAAAABlQAAAAAAAAGVAAAAAAAAAZUAAAAAAAABlQAAAAAAAYGVAAAAAAABgZUAAAAAAAGBmQAAAAAAAYGZAAAAAAACgZkAAAAAAAKBmQAAAAAAAYGdAAAAAAABgZ0AAAAAAAOBnQAAAAAAA4GdAAAAAAABgaEAAAAAAAGBoQAAAAAAAwGhAAAAAAADAaEAAAAAAAOBoQAAAAAAA4GhAAAAAAAAgakAAAAAAACBqQAAAAAAAIGtAAAAAAAAga0AAAAAAACBrQAAAAAAAIGtAAAAAAADAa0AAAAAAAMBrQAAAAAAAIG1AAAAAAAAgbUAAAAAAAIBtQAAAAAAAgG1AAAAAAABgbkAAAAAAAGBuQAAAAAAAAHBAAAAAAAAAcEAAAAAAAABwQAAAAAAAAHBAAAAAAAAQcEAAAAAAABBwQAAAAAAAkHBAAAAAAACQcEAAAAAAAMBwQAAAAAAAwHBAAAAAAAAwcUAAAAAAADBxQAAAAAAAUHFAAAAAAABQcUAAAAAAANBxQAAAAAAA0HFAAAAAAAAwckAAAAAAADByQAAAAAAAcHJAAAAAAABwckAAAAAAANByQAAAAAAA0HJAAAAAAAAwdEAAAAAAADB0QAAAAAAAkHRAAAAAAACQdEAAAAAAAPB0QAAAAAAA8HRAAAAAAAAgdUAAAAAAACB1QAAAAAAAUHVAAAAAAABQdUAAAAAAAGB1QAAAAAAAYHVAAAAAAAAgd0AAAAAAACB3QAAAAAAAcHdAAAAAAABwd0AAAAAAAAB7QAAAAAAAAHtAAAAAAAAwgEAAAAAAADCAQAAAAAAAuIJAAAAAAAC4gkA=\",\"dtype\":\"float64\",\"order\":\"little\",\"shape\":[112]},\"y\":{\"__ndarray__\":\"AAAAAAAAAACSJEmSJEmSP5IkSZIkSZI/kiRJkiRJoj+SJEmSJEmiP9u2bdu2bas/27Zt27Ztqz+SJEmSJEmyP5IkSZIkSbI/t23btm3btj+3bdu2bdu2P9u2bdu2bbs/27Zt27Ztuz8AAAAAAADAPwAAAAAAAMA/kiRJkiRJwj+SJEmSJEnCPyVJkiRJksQ/JUmSJEmSxD+3bdu2bdvGP7dt27Zt28Y/SZIkSZIkyT9JkiRJkiTJP9u2bdu2bcs/27Zt27Ztyz9u27Zt27bNP27btm3bts0/AAAAAAAA0D8AAAAAAADQP0mSJEmSJNE/SZIkSZIk0T+SJEmSJEnSP5IkSZIkSdI/27Zt27Zt0z/btm3btm3TPyVJkiRJktQ/JUmSJEmS1D9u27Zt27bVP27btm3bttU/t23btm3b1j+3bdu2bdvWPwAAAAAAANg/AAAAAAAA2D9JkiRJkiTZP0mSJEmSJNk/kiRJkiRJ2j+SJEmSJEnaP9u2bdu2bds/27Zt27Zt2z8lSZIkSZLcPyVJkiRJktw/btu2bdu23T9u27Zt27bdP7dt27Zt294/t23btm3b3j8AAAAAAADgPwAAAAAAAOA/JUmSJEmS4D8lSZIkSZLgP0mSJEmSJOE/SZIkSZIk4T9u27Zt27bhP27btm3btuE/kiRJkiRJ4j+SJEmSJEniP7dt27Zt2+I/t23btm3b4j/btm3btm3jP9u2bdu2beM/AAAAAAAA5D8AAAAAAADkPyVJkiRJkuQ/JUmSJEmS5D9JkiRJkiTlP0mSJEmSJOU/btu2bdu25T9u27Zt27blP5IkSZIkSeY/kiRJkiRJ5j+3bdu2bdvmP7dt27Zt2+Y/27Zt27Zt5z/btm3btm3nPwAAAAAAAOg/AAAAAAAA6D8lSZIkSZLoPyVJkiRJkug/SZIkSZIk6T9JkiRJkiTpP27btm3btuk/btu2bdu26T+SJEmSJEnqP5IkSZIkSeo/t23btm3b6j+3bdu2bdvqP9u2bdu2bes/27Zt27Zt6z8AAAAAAADsPwAAAAAAAOw/JUmSJEmS7D8lSZIkSZLsP0mSJEmSJO0/SZIkSZIk7T9u27Zt27btP27btm3btu0/kiRJkiRJ7j+SJEmSJEnuP7dt27Zt2+4/t23btm3b7j/btm3btm3vP9u2bdu2be8/AAAAAAAA8D8=\",\"dtype\":\"float64\",\"order\":\"little\",\"shape\":[112]}},\"selected\":{\"id\":\"14423\"},\"selection_policy\":{\"id\":\"14424\"}},\"id\":\"14411\",\"type\":\"ColumnDataSource\"},{\"attributes\":{\"angle\":{\"units\":\"rad\",\"value\":0},\"line_color\":{\"value\":\"#79b5d9\"},\"line_width\":{\"value\":2},\"x\":{\"value\":1335.0},\"y\":{\"value\":1}},\"id\":\"15436\",\"type\":\"Ray\"},{\"attributes\":{},\"id\":\"14714\",\"type\":\"Selection\"},{\"attributes\":{\"data\":{},\"selected\":{\"id\":\"14526\"},\"selection_policy\":{\"id\":\"14527\"}},\"id\":\"14504\",\"type\":\"ColumnDataSource\"},{\"attributes\":{\"data\":{},\"selected\":{\"id\":\"14714\"},\"selection_policy\":{\"id\":\"14715\"}},\"id\":\"14680\",\"type\":\"ColumnDataSource\"},{\"attributes\":{\"data\":{\"x\":{\"__ndarray__\":\"AAAAAACAXEAAAAAAAIBcQAAAAAAAAF5AAAAAAAAAXkAAAAAAAIBgQAAAAAAAgGBAAAAAAAAgYUAAAAAAACBhQAAAAAAAIGNAAAAAAAAgY0AAAAAAACBjQAAAAAAAIGNAAAAAAACAY0AAAAAAAIBjQAAAAAAAQGRAAAAAAABAZEAAAAAAAKBkQAAAAAAAoGRAAAAAAAAAZUAAAAAAAABlQAAAAAAAoGVAAAAAAACgZUAAAAAAAKBlQAAAAAAAoGVAAAAAAACAZkAAAAAAAIBmQAAAAAAAQGdAAAAAAABAZ0AAAAAAAMBnQAAAAAAAwGdAAAAAAACAaEAAAAAAAIBoQAAAAAAAwGtAAAAAAADAa0AAAAAAAOBrQAAAAAAA4GtAAAAAAAAAbEAAAAAAAABsQAAAAAAAQGxAAAAAAABAbEAAAAAAAMBsQAAAAAAAwGxAAAAAAACAbUAAAAAAAIBtQAAAAAAAYG5AAAAAAABgbkAAAAAAAOBvQAAAAAAA4G9AAAAAAAAAcEAAAAAAAABwQAAAAAAAIHBAAAAAAAAgcEAAAAAAAEBxQAAAAAAAQHFAAAAAAABQcUAAAAAAAFBxQAAAAAAAcHFAAAAAAABwcUAAAAAAAHBxQAAAAAAAcHFAAAAAAADAcUAAAAAAAMBxQAAAAAAAIHJAAAAAAAAgckAAAAAAADByQAAAAAAAMHJAAAAAAABAckAAAAAAAEByQAAAAAAAEHNAAAAAAAAQc0AAAAAAALBzQAAAAAAAsHNAAAAAAACgdEAAAAAAAKB0QAAAAAAA0HRAAAAAAADQdEAAAAAAAOB0QAAAAAAA4HRAAAAAAAAAdUAAAAAAAAB1QAAAAAAAIHVAAAAAAAAgdUAAAAAAAFB1QAAAAAAAUHVAAAAAAAAwdkAAAAAAADB2QAAAAAAAIHdAAAAAAAAgd0AAAAAAAOB3QAAAAAAA4HdAAAAAAADgd0AAAAAAAOB3QAAAAAAAcHhAAAAAAABweEAAAAAAALB4QAAAAAAAsHhAAAAAAACgekAAAAAAAKB6QAAAAAAAUHtAAAAAAABQe0AAAAAAAEB8QAAAAAAAQHxAAAAAAAAAfUAAAAAAAAB9QAAAAAAAYH1AAAAAAABgfUAAAAAAAAB+QAAAAAAAAH5AAAAAAABgf0AAAAAAAGB/QA==\",\"dtype\":\"float64\",\"order\":\"little\",\"shape\":[110]},\"y\":{\"__ndarray__\":\"AAAAAAAAAACeEuQpQZ6SP54S5ClBnpI/nhLkKUGeoj+eEuQpQZ6iP+0b1r5h7as/7RvWvmHtqz+eEuQpQZ6yP54S5ClBnrI/RhdddNFFtz9GF1100UW3P+0b1r5h7bs/7RvWvmHtuz9KkKcEeUrAP0qQpwR5SsA/nhLkKUGewj+eEuQpQZ7CP/KUIE8J8sQ/8pQgTwnyxD9GF1100UXHP0YXXXTRRcc/mpmZmZmZyT+amZmZmZnJP+0b1r5h7cs/7RvWvmHtyz9BnhLkKUHOP0GeEuQpQc4/SpCnBHlK0D9KkKcEeUrQP3TRRRdddNE/dNFFF1100T+eEuQpQZ7SP54S5ClBntI/yFOCPCXI0z/IU4I8JcjTP/KUIE8J8tQ/8pQgTwny1D8c1r5h7RvWPxzWvmHtG9Y/RhdddNFF1z9GF1100UXXP3BY+4a1b9g/cFj7hrVv2D+amZmZmZnZP5qZmZmZmdk/w9o3rH3D2j/D2jesfcPaP+0b1r5h7ds/7RvWvmHt2z8XXXTRRRfdPxdddNFFF90/QZ4S5ClB3j9BnhLkKUHeP2vfsPYNa98/a9+w9g1r3z9KkKcEeUrgP0qQpwR5SuA/37D2DWvf4D/fsPYNa9/gP3TRRRdddOE/dNFFF1104T8J8pQgTwniPwnylCBPCeI/nhLkKUGe4j+eEuQpQZ7iPzMzMzMzM+M/MzMzMzMz4z/IU4I8JcjjP8hTgjwlyOM/XXTRRRdd5D9ddNFFF13kP/KUIE8J8uQ/8pQgTwny5D+HtW9Y+4blP4e1b1j7huU/HNa+Ye0b5j8c1r5h7RvmP7H2DWvfsOY/sfYNa9+w5j9GF1100UXnP0YXXXTRRec/2zesfcPa5z/bN6x9w9rnP3BY+4a1b+g/cFj7hrVv6D8FeUqQpwTpPwV5SpCnBOk/mpmZmZmZ6T+amZmZmZnpPy+66KKLLuo/L7rooosu6j/D2jesfcPqP8PaN6x9w+o/WPuGtW9Y6z9Y+4a1b1jrP+0b1r5h7es/7RvWvmHt6z+CPCXIU4LsP4I8JchTguw/F1100UUX7T8XXXTRRRftP6x9w9o3rO0/rH3D2jes7T9BnhLkKUHuP0GeEuQpQe4/1r5h7RvW7j/WvmHtG9buP2vfsPYNa+8/a9+w9g1r7z8AAAAAAADwPw==\",\"dtype\":\"float64\",\"order\":\"little\",\"shape\":[110]}},\"selected\":{\"id\":\"14479\"},\"selection_policy\":{\"id\":\"14480\"}},\"id\":\"14461\",\"type\":\"ColumnDataSource\"},{\"attributes\":{},\"id\":\"14397\",\"type\":\"PanTool\"},{\"attributes\":{\"angle\":{\"units\":\"rad\",\"value\":0},\"line_alpha\":{\"value\":0.1},\"line_color\":{\"value\":\"#3787c0\"},\"line_width\":{\"value\":2},\"x\":{\"value\":713.0},\"y\":{\"value\":1}},\"id\":\"14930\",\"type\":\"Ray\"},{\"attributes\":{\"data\":{},\"selected\":{\"id\":\"14974\"},\"selection_policy\":{\"id\":\"14975\"}},\"id\":\"14928\",\"type\":\"ColumnDataSource\"},{\"attributes\":{},\"id\":\"14398\",\"type\":\"WheelZoomTool\"},{\"attributes\":{\"overlay\":{\"id\":\"14403\"}},\"id\":\"14399\",\"type\":\"BoxZoomTool\"},{\"attributes\":{\"data\":{},\"selected\":{\"id\":\"15077\"},\"selection_policy\":{\"id\":\"15078\"}},\"id\":\"15027\",\"type\":\"ColumnDataSource\"},{\"attributes\":{},\"id\":\"14400\",\"type\":\"SaveTool\"},{\"attributes\":{\"label\":{\"value\":\"mo21\"},\"renderers\":[{\"id\":\"15136\"},{\"id\":\"15193\"},{\"id\":\"15251\"}]},\"id\":\"15189\",\"type\":\"LegendItem\"},{\"attributes\":{},\"id\":\"14402\",\"type\":\"HelpTool\"},{\"attributes\":{\"data_source\":{\"id\":\"15190\"},\"glyph\":{\"id\":\"15191\"},\"hover_glyph\":null,\"muted_glyph\":null,\"nonselection_glyph\":{\"id\":\"15192\"},\"selection_glyph\":null,\"view\":{\"id\":\"15194\"}},\"id\":\"15193\",\"type\":\"GlyphRenderer\"},{\"attributes\":{},\"id\":\"14401\",\"type\":\"ResetTool\"},{\"attributes\":{\"data_source\":{\"id\":\"15435\"},\"glyph\":{\"id\":\"15436\"},\"hover_glyph\":null,\"muted_glyph\":null,\"nonselection_glyph\":{\"id\":\"15437\"},\"selection_glyph\":null,\"view\":{\"id\":\"15439\"}},\"id\":\"15438\",\"type\":\"GlyphRenderer\"},{\"attributes\":{\"label\":{\"value\":\"mo3\"},\"renderers\":[{\"id\":\"14464\"},{\"id\":\"14485\"},{\"id\":\"14507\"}]},\"id\":\"14481\",\"type\":\"LegendItem\"},{\"attributes\":{\"label\":{\"value\":\"mo9\"},\"renderers\":[{\"id\":\"14616\"},{\"id\":\"14649\"},{\"id\":\"14683\"}]},\"id\":\"14645\",\"type\":\"LegendItem\"},{\"attributes\":{\"angle\":{\"units\":\"rad\",\"value\":3.141592653589793},\"line_color\":{\"value\":\"#60a7d2\"},\"line_width\":{\"value\":2},\"x\":{\"value\":49.0},\"y\":{\"value\":0}},\"id\":\"15191\",\"type\":\"Ray\"},{\"attributes\":{\"label\":{\"value\":\"mo15\"},\"renderers\":[{\"id\":\"14840\"},{\"id\":\"14885\"},{\"id\":\"14931\"}]},\"id\":\"14881\",\"type\":\"LegendItem\"},{\"attributes\":{\"data_source\":{\"id\":\"14482\"},\"glyph\":{\"id\":\"14483\"},\"hover_glyph\":null,\"muted_glyph\":null,\"nonselection_glyph\":{\"id\":\"14484\"},\"selection_glyph\":null,\"view\":{\"id\":\"14486\"}},\"id\":\"14485\",\"type\":\"GlyphRenderer\"},{\"attributes\":{\"data_source\":{\"id\":\"14646\"},\"glyph\":{\"id\":\"14647\"},\"hover_glyph\":null,\"muted_glyph\":null,\"nonselection_glyph\":{\"id\":\"14648\"},\"selection_glyph\":null,\"view\":{\"id\":\"14650\"}},\"id\":\"14649\",\"type\":\"GlyphRenderer\"},{\"attributes\":{\"data_source\":{\"id\":\"14882\"},\"glyph\":{\"id\":\"14883\"},\"hover_glyph\":null,\"muted_glyph\":null,\"nonselection_glyph\":{\"id\":\"14884\"},\"selection_glyph\":null,\"view\":{\"id\":\"14886\"}},\"id\":\"14885\",\"type\":\"GlyphRenderer\"},{\"attributes\":{\"line_alpha\":0.1,\"line_color\":\"#3787c0\",\"line_width\":2,\"x\":{\"field\":\"x\"},\"y\":{\"field\":\"y\"}},\"id\":\"14839\",\"type\":\"Line\"},{\"attributes\":{\"angle\":{\"units\":\"rad\",\"value\":0},\"line_alpha\":{\"value\":0.1},\"line_color\":{\"value\":\"#79b5d9\"},\"line_width\":{\"value\":2},\"x\":{\"value\":1335.0},\"y\":{\"value\":1}},\"id\":\"15437\",\"type\":\"Ray\"},{\"attributes\":{\"data_source\":{\"id\":\"14928\"},\"glyph\":{\"id\":\"14929\"},\"hover_glyph\":null,\"muted_glyph\":null,\"nonselection_glyph\":{\"id\":\"14930\"},\"selection_glyph\":null,\"view\":{\"id\":\"14932\"}},\"id\":\"14931\",\"type\":\"GlyphRenderer\"},{\"attributes\":{\"line_color\":\"#3787c0\",\"line_width\":2,\"x\":{\"field\":\"x\"},\"y\":{\"field\":\"y\"}},\"id\":\"14838\",\"type\":\"Line\"},{\"attributes\":{\"angle\":{\"units\":\"rad\",\"value\":3.141592653589793},\"line_color\":{\"value\":\"#084285\"},\"line_width\":{\"value\":2},\"x\":{\"value\":114.0},\"y\":{\"value\":0}},\"id\":\"14483\",\"type\":\"Ray\"},{\"attributes\":{\"angle\":{\"units\":\"rad\",\"value\":3.141592653589793},\"line_color\":{\"value\":\"#1764ab\"},\"line_width\":{\"value\":2},\"x\":{\"value\":34.0},\"y\":{\"value\":0}},\"id\":\"14647\",\"type\":\"Ray\"},{\"attributes\":{},\"id\":\"14424\",\"type\":\"UnionRenderers\"},{\"attributes\":{\"data_source\":{\"id\":\"15308\"},\"glyph\":{\"id\":\"15309\"},\"hover_glyph\":null,\"muted_glyph\":null,\"nonselection_glyph\":{\"id\":\"15310\"},\"selection_glyph\":null,\"view\":{\"id\":\"15312\"}},\"id\":\"15311\",\"type\":\"GlyphRenderer\"},{\"attributes\":{\"angle\":{\"units\":\"rad\",\"value\":3.141592653589793},\"line_alpha\":{\"value\":0.1},\"line_color\":{\"value\":\"#60a7d2\"},\"line_width\":{\"value\":2},\"x\":{\"value\":49.0},\"y\":{\"value\":0}},\"id\":\"15192\",\"type\":\"Ray\"},{\"attributes\":{\"angle\":{\"units\":\"rad\",\"value\":3.141592653589793},\"line_color\":{\"value\":\"#3787c0\"},\"line_width\":{\"value\":2},\"x\":{\"value\":44.0},\"y\":{\"value\":0}},\"id\":\"14883\",\"type\":\"Ray\"},{\"attributes\":{\"source\":{\"id\":\"15435\"}},\"id\":\"15439\",\"type\":\"CDSView\"},{\"attributes\":{\"click_policy\":\"hide\",\"items\":[{\"id\":\"14426\"},{\"id\":\"14481\"},{\"id\":\"14554\"},{\"id\":\"14645\"},{\"id\":\"14754\"},{\"id\":\"14881\"},{\"id\":\"15026\"},{\"id\":\"15189\"},{\"id\":\"15370\"}],\"location\":\"bottom_right\"},\"id\":\"14425\",\"type\":\"Legend\"},{\"attributes\":{\"data\":{},\"selected\":{\"id\":\"15246\"},\"selection_policy\":{\"id\":\"15247\"}},\"id\":\"15190\",\"type\":\"ColumnDataSource\"},{\"attributes\":{\"source\":{\"id\":\"15308\"}},\"id\":\"15312\",\"type\":\"CDSView\"},{\"attributes\":{\"data_source\":{\"id\":\"14716\"},\"glyph\":{\"id\":\"14717\"},\"hover_glyph\":null,\"muted_glyph\":null,\"nonselection_glyph\":{\"id\":\"14718\"},\"selection_glyph\":null,\"view\":{\"id\":\"14720\"}},\"id\":\"14719\",\"type\":\"GlyphRenderer\"},{\"attributes\":{\"angle\":{\"units\":\"rad\",\"value\":3.141592653589793},\"line_alpha\":{\"value\":0.1},\"line_color\":{\"value\":\"#084285\"},\"line_width\":{\"value\":2},\"x\":{\"value\":114.0},\"y\":{\"value\":0}},\"id\":\"14484\",\"type\":\"Ray\"},{\"attributes\":{\"angle\":{\"units\":\"rad\",\"value\":3.141592653589793},\"line_alpha\":{\"value\":0.1},\"line_color\":{\"value\":\"#1764ab\"},\"line_width\":{\"value\":2},\"x\":{\"value\":34.0},\"y\":{\"value\":0}},\"id\":\"14648\",\"type\":\"Ray\"},{\"attributes\":{\"source\":{\"id\":\"15190\"}},\"id\":\"15194\",\"type\":\"CDSView\"},{\"attributes\":{},\"id\":\"15368\",\"type\":\"Selection\"},{\"attributes\":{},\"id\":\"15500\",\"type\":\"UnionRenderers\"},{\"attributes\":{},\"id\":\"14418\",\"type\":\"BasicTickFormatter\"},{\"attributes\":{\"angle\":{\"units\":\"rad\",\"value\":3.141592653589793},\"line_alpha\":{\"value\":0.1},\"line_color\":{\"value\":\"#3787c0\"},\"line_width\":{\"value\":2},\"x\":{\"value\":44.0},\"y\":{\"value\":0}},\"id\":\"14884\",\"type\":\"Ray\"},{\"attributes\":{\"active_drag\":\"auto\",\"active_inspect\":\"auto\",\"active_multi\":null,\"active_scroll\":\"auto\",\"active_tap\":\"auto\",\"tools\":[{\"id\":\"14397\"},{\"id\":\"14398\"},{\"id\":\"14399\"},{\"id\":\"14400\"},{\"id\":\"14401\"},{\"id\":\"14402\"}]},\"id\":\"14404\",\"type\":\"Toolbar\"},{\"attributes\":{\"source\":{\"id\":\"14716\"}},\"id\":\"14720\",\"type\":\"CDSView\"},{\"attributes\":{},\"id\":\"15369\",\"type\":\"UnionRenderers\"},{\"attributes\":{\"source\":{\"id\":\"14482\"}},\"id\":\"14486\",\"type\":\"CDSView\"},{\"attributes\":{\"source\":{\"id\":\"14646\"}},\"id\":\"14650\",\"type\":\"CDSView\"},{\"attributes\":{},\"id\":\"14420\",\"type\":\"BasicTickFormatter\"},{\"attributes\":{},\"id\":\"15246\",\"type\":\"Selection\"},{\"attributes\":{},\"id\":\"14423\",\"type\":\"Selection\"},{\"attributes\":{},\"id\":\"14752\",\"type\":\"Selection\"},{\"attributes\":{},\"id\":\"15247\",\"type\":\"UnionRenderers\"},{\"attributes\":{},\"id\":\"15499\",\"type\":\"Selection\"},{\"attributes\":{\"source\":{\"id\":\"14882\"}},\"id\":\"14886\",\"type\":\"CDSView\"},{\"attributes\":{\"data\":{},\"selected\":{\"id\":\"15499\"},\"selection_policy\":{\"id\":\"15500\"}},\"id\":\"15435\",\"type\":\"ColumnDataSource\"},{\"attributes\":{\"bottom_units\":\"screen\",\"fill_alpha\":0.5,\"fill_color\":\"lightgrey\",\"left_units\":\"screen\",\"level\":\"overlay\",\"line_alpha\":1.0,\"line_color\":\"black\",\"line_dash\":[4,4],\"line_width\":2,\"right_units\":\"screen\",\"top_units\":\"screen\"},\"id\":\"14403\",\"type\":\"BoxAnnotation\"},{\"attributes\":{},\"id\":\"14753\",\"type\":\"UnionRenderers\"},{\"attributes\":{},\"id\":\"14678\",\"type\":\"Selection\"},{\"attributes\":{},\"id\":\"14502\",\"type\":\"Selection\"},{\"attributes\":{},\"id\":\"14679\",\"type\":\"UnionRenderers\"},{\"attributes\":{},\"id\":\"14503\",\"type\":\"UnionRenderers\"},{\"attributes\":{},\"id\":\"14926\",\"type\":\"Selection\"},{\"attributes\":{},\"id\":\"14927\",\"type\":\"UnionRenderers\"},{\"attributes\":{\"label\":{\"value\":\"mo24\"},\"renderers\":[{\"id\":\"15311\"},{\"id\":\"15374\"},{\"id\":\"15438\"}]},\"id\":\"15370\",\"type\":\"LegendItem\"}],\"root_ids\":[\"14380\"]},\"title\":\"Bokeh Application\",\"version\":\"2.1.0\"}};\n",
       "  var render_items = [{\"docid\":\"73f60544-7f3d-47c9-839a-dc6187031213\",\"root_ids\":[\"14380\"],\"roots\":{\"14380\":\"8c284a11-2d1c-40c4-9ffa-40aa56f4dafd\"}}];\n",
       "  root.Bokeh.embed.embed_items_notebook(docs_json, render_items);\n",
       "\n",
       "  }\n",
       "  if (root.Bokeh !== undefined) {\n",
       "    embed_document(root);\n",
       "  } else {\n",
       "    var attempts = 0;\n",
       "    var timer = setInterval(function(root) {\n",
       "      if (root.Bokeh !== undefined) {\n",
       "        clearInterval(timer);\n",
       "        embed_document(root);\n",
       "      } else {\n",
       "        attempts++;\n",
       "        if (attempts > 100) {\n",
       "          clearInterval(timer);\n",
       "          console.log(\"Bokeh: ERROR: Unable to run BokehJS code because BokehJS library is missing\");\n",
       "        }\n",
       "      }\n",
       "    }, 10, root)\n",
       "  }\n",
       "})(window);"
      ],
      "application/vnd.bokehjs_exec.v0+json": ""
     },
     "metadata": {
      "application/vnd.bokehjs_exec.v0+json": {
       "id": "14380"
      }
     },
     "output_type": "display_data"
    }
   ],
   "source": [
    "p = bokeh_catplot.ecdf(\n",
    "    data=df,\n",
    "    cats='ID',\n",
    "    val='ctx (pg/ml)',\n",
    "    style='staircase',\n",
    "    show_legend=True,\n",
    "    palette=bokeh.palettes.Blues256[:-100:17]\n",
    ")\n",
    "\n",
    "bokeh.io.show(p)"
   ]
  },
  {
   "cell_type": "code",
   "execution_count": 6,
   "metadata": {},
   "outputs": [],
   "source": [
    "p.output_backend = 'svg'\n",
    "bokeh.io.export_svgs(p, filename='nbha_ctx_24jun2020.svg')\n",
    "p.output_backend = 'canvas'"
   ]
  },
  {
   "cell_type": "code",
   "execution_count": 7,
   "metadata": {},
   "outputs": [],
   "source": [
    "rg = np.random.default_rng()"
   ]
  },
  {
   "cell_type": "code",
   "execution_count": 8,
   "metadata": {},
   "outputs": [],
   "source": [
    "#create two numpy array for 2 categories mo0 and mo3 with the ctx values\n",
    "ctx_mo0 = df.loc[df['ID']=='mo0', 'ctx (pg/ml)'].values\n",
    "ctx_mo3 = df.loc[df['ID']=='mo3', 'ctx (pg/ml)'].values\n",
    "ctx_mo6 = df.loc[df['ID']=='mo6', 'ctx (pg/ml)'].values\n",
    "ctx_mo9 = df.loc[df['ID']=='mo9', 'ctx (pg/ml)'].values\n",
    "ctx_mo12 = df.loc[df['ID']=='mo12', 'ctx (pg/ml)'].values\n",
    "ctx_mo15 = df.loc[df['ID']=='mo15', 'ctx (pg/ml)'].values\n",
    "ctx_mo18 = df.loc[df['ID']=='mo18', 'ctx (pg/ml)'].values\n",
    "ctx_mo21 = df.loc[df['ID']=='mo21', 'ctx (pg/ml)'].values\n",
    "ctx_mo24 = df.loc[df['ID']=='mo24', 'ctx (pg/ml)'].values"
   ]
  },
  {
   "cell_type": "markdown",
   "metadata": {},
   "source": [
    "# bootstrap CI for %change between baseline and mo3"
   ]
  },
  {
   "cell_type": "code",
   "execution_count": 9,
   "metadata": {},
   "outputs": [
    {
     "name": "stdout",
     "output_type": "stream",
     "text": [
      "CI for %change between month 0 and month 3\n"
     ]
    },
    {
     "data": {
      "text/plain": [
       "array([0.03873743, 0.41106429])"
      ]
     },
     "execution_count": 9,
     "metadata": {},
     "output_type": "execute_result"
    }
   ],
   "source": [
    "def draw_bs_rep(data, func, rg):\n",
    "    \"\"\"Compute a bootstrap replicate from data.\"\"\"\n",
    "    bs_sample = rg.choice(data, size=len(data))\n",
    "    return func(bs_sample)\n",
    "\n",
    "\n",
    "# Perform the drug holiday experiment 100,000 times with a random number generator that picks out#\n",
    "#n=66 @ mo0 and n=64 @mo3.##\n",
    "n_reps = 100000\n",
    "bs_reps_mo0 = np.array(\n",
    "    [draw_bs_rep(ctx_mo0, np.mean, rg) for _ in range(n_reps)]\n",
    ")\n",
    "bs_reps_mo3 = np.array(\n",
    "    [draw_bs_rep(ctx_mo3, np.mean, rg) for _ in range(n_reps)]\n",
    ")\n",
    "\n",
    "# 100,000 difference of means were also generated \n",
    "bd_reps_diff = (bs_reps_mo3 - bs_reps_mo0)/(bs_reps_mo0)\n",
    "\n",
    "# Report the confidence interval with 95% confidence for the difference of means \n",
    "\n",
    "print ('CI for %change between month 0 and month 3')\n",
    "np.percentile(bd_reps_diff, [2.5, 97.5])"
   ]
  },
  {
   "cell_type": "markdown",
   "metadata": {},
   "source": [
    "# bootstrap CI for %change between baseline and month 6"
   ]
  },
  {
   "cell_type": "code",
   "execution_count": 10,
   "metadata": {},
   "outputs": [
    {
     "name": "stdout",
     "output_type": "stream",
     "text": [
      "CI for %change between month 0 and month 6\n"
     ]
    },
    {
     "data": {
      "text/plain": [
       "array([0.15274771, 0.59117057])"
      ]
     },
     "execution_count": 10,
     "metadata": {},
     "output_type": "execute_result"
    }
   ],
   "source": [
    "def draw_bs_rep(data, func, rg):\n",
    "    \"\"\"Compute a bootstrap replicate from data.\"\"\"\n",
    "    bs_sample = rg.choice(data, size=len(data))\n",
    "    return func(bs_sample)\n",
    "\n",
    "\n",
    "# Perform the drug holiday experiment 100,000 times with a random number generator that picks out#\n",
    "#n=66 @ mo0 and n=64 @mo3.##\n",
    "n_reps = 100000\n",
    "bs_reps_mo0 = np.array(\n",
    "    [draw_bs_rep(ctx_mo0, np.mean, rg) for _ in range(n_reps)]\n",
    ")\n",
    "bs_reps_mo6 = np.array(\n",
    "    [draw_bs_rep(ctx_mo6, np.mean, rg) for _ in range(n_reps)]\n",
    ")\n",
    "\n",
    "# 100,000 difference of means were also generated \n",
    "bd_reps_diff = (bs_reps_mo6 - bs_reps_mo0)/(bs_reps_mo0)\n",
    "\n",
    "# Report the confidence interval with 95% confidence for the difference of means \n",
    "print ('CI for %change between month 0 and month 6')\n",
    "np.percentile(bd_reps_diff, [2.5, 97.5])"
   ]
  },
  {
   "cell_type": "markdown",
   "metadata": {},
   "source": [
    "## Bootstrap for CI of %change between baseline and mo24"
   ]
  },
  {
   "cell_type": "code",
   "execution_count": 11,
   "metadata": {},
   "outputs": [
    {
     "name": "stdout",
     "output_type": "stream",
     "text": [
      "CI for %change between month 0 and month 24\n"
     ]
    },
    {
     "data": {
      "text/plain": [
       "array([0.19388124, 1.15110095])"
      ]
     },
     "execution_count": 11,
     "metadata": {},
     "output_type": "execute_result"
    }
   ],
   "source": [
    "def draw_bs_rep(data, func, rg):\n",
    "    \"\"\"Compute a bootstrap replicate from data.\"\"\"\n",
    "    bs_sample = rg.choice(data, size=len(data))\n",
    "    return func(bs_sample)\n",
    "\n",
    "\n",
    "# Perform the drug holiday experiment 100,000 times with a random number generator that picks out#\n",
    "#n=66 @ mo0 and n=64 @mo3.##\n",
    "n_reps = 100000\n",
    "bs_reps_mo0 = np.array(\n",
    "    [draw_bs_rep(ctx_mo0, np.mean, rg) for _ in range(n_reps)]\n",
    ")\n",
    "bs_reps_mo24 = np.array(\n",
    "    [draw_bs_rep(ctx_mo24, np.mean, rg) for _ in range(n_reps)]\n",
    ")\n",
    "\n",
    "# 100,000 difference of means were also generated \n",
    "bd_reps_diff = (bs_reps_mo24 - bs_reps_mo0)/(bs_reps_mo0)\n",
    "\n",
    "# Report the confidence interval with 95% confidence for the difference of means \n",
    "print ('CI for %change between month 0 and month 24')\n",
    "np.percentile(bd_reps_diff, [2.5, 97.5])"
   ]
  },
  {
   "cell_type": "code",
   "execution_count": 12,
   "metadata": {},
   "outputs": [
    {
     "ename": "NameError",
     "evalue": "name 'conf_int_1975' is not defined",
     "output_type": "error",
     "traceback": [
      "\u001b[1;31m---------------------------------------------------------------------------\u001b[0m",
      "\u001b[1;31mNameError\u001b[0m                                 Traceback (most recent call last)",
      "\u001b[1;32m<ipython-input-12-4da8eb94d96a>\u001b[0m in \u001b[0;36m<module>\u001b[1;34m\u001b[0m\n\u001b[0;32m      8\u001b[0m \u001b[1;33m\u001b[0m\u001b[0m\n\u001b[0;32m      9\u001b[0m \u001b[0mp\u001b[0m\u001b[1;33m.\u001b[0m\u001b[0mcircle\u001b[0m\u001b[1;33m(\u001b[0m\u001b[1;33m[\u001b[0m\u001b[0mctx_mo0\u001b[0m\u001b[1;33m.\u001b[0m\u001b[0mmean\u001b[0m\u001b[1;33m(\u001b[0m\u001b[1;33m)\u001b[0m\u001b[1;33m,\u001b[0m \u001b[0mctx_mo3\u001b[0m\u001b[1;33m.\u001b[0m\u001b[0mmean\u001b[0m\u001b[1;33m(\u001b[0m\u001b[1;33m)\u001b[0m\u001b[1;33m]\u001b[0m\u001b[1;33m,\u001b[0m \u001b[0myears\u001b[0m\u001b[1;33m,\u001b[0m \u001b[0msize\u001b[0m\u001b[1;33m=\u001b[0m\u001b[1;36m5\u001b[0m\u001b[1;33m)\u001b[0m\u001b[1;33m\u001b[0m\u001b[1;33m\u001b[0m\u001b[0m\n\u001b[1;32m---> 10\u001b[1;33m \u001b[0mp\u001b[0m\u001b[1;33m.\u001b[0m\u001b[0mline\u001b[0m\u001b[1;33m(\u001b[0m\u001b[0mconf_int_1975\u001b[0m\u001b[1;33m,\u001b[0m \u001b[1;33m[\u001b[0m\u001b[1;34m'mo0'\u001b[0m\u001b[1;33m]\u001b[0m\u001b[1;33m*\u001b[0m\u001b[1;36m2\u001b[0m\u001b[1;33m,\u001b[0m \u001b[0mline_width\u001b[0m\u001b[1;33m=\u001b[0m\u001b[1;36m3\u001b[0m\u001b[1;33m)\u001b[0m\u001b[1;33m\u001b[0m\u001b[1;33m\u001b[0m\u001b[0m\n\u001b[0m\u001b[0;32m     11\u001b[0m \u001b[0mp\u001b[0m\u001b[1;33m.\u001b[0m\u001b[0mline\u001b[0m\u001b[1;33m(\u001b[0m\u001b[0mconf_int_2012\u001b[0m\u001b[1;33m,\u001b[0m \u001b[1;33m[\u001b[0m\u001b[1;34m'mo3'\u001b[0m\u001b[1;33m]\u001b[0m\u001b[1;33m*\u001b[0m\u001b[1;36m2\u001b[0m\u001b[1;33m,\u001b[0m \u001b[0mline_width\u001b[0m\u001b[1;33m=\u001b[0m\u001b[1;36m3\u001b[0m\u001b[1;33m)\u001b[0m\u001b[1;33m\u001b[0m\u001b[1;33m\u001b[0m\u001b[0m\n\u001b[0;32m     12\u001b[0m \u001b[0mbokeh\u001b[0m\u001b[1;33m.\u001b[0m\u001b[0mio\u001b[0m\u001b[1;33m.\u001b[0m\u001b[0mshow\u001b[0m\u001b[1;33m(\u001b[0m\u001b[0mp\u001b[0m\u001b[1;33m)\u001b[0m\u001b[1;33m\u001b[0m\u001b[1;33m\u001b[0m\u001b[0m\n",
      "\u001b[1;31mNameError\u001b[0m: name 'conf_int_1975' is not defined"
     ]
    }
   ],
   "source": [
    "years = ['mo0', 'mo3']\n",
    "p = bokeh.plotting.figure(\n",
    "    frame_height=100,\n",
    "    frame_width=250,\n",
    "    x_axis_label='ctx (pg/ml)',\n",
    "    y_range=years,\n",
    ")\n",
    "\n",
    "p.circle([ctx_mo0.mean(), ctx_mo3.mean()], years, size=5)\n",
    "p.line(conf_int_1975, ['mo0']*2, line_width=3)\n",
    "p.line(conf_int_2012, ['mo3']*2, line_width=3)\n",
    "bokeh.io.show(p)"
   ]
  },
  {
   "cell_type": "code",
   "execution_count": null,
   "metadata": {},
   "outputs": [],
   "source": []
  }
 ],
 "metadata": {
  "kernelspec": {
   "display_name": "Python 3",
   "language": "python",
   "name": "python3"
  },
  "language_info": {
   "codemirror_mode": {
    "name": "ipython",
    "version": 3
   },
   "file_extension": ".py",
   "mimetype": "text/x-python",
   "name": "python",
   "nbconvert_exporter": "python",
   "pygments_lexer": "ipython3",
   "version": "3.7.7"
  }
 },
 "nbformat": 4,
 "nbformat_minor": 4
}
