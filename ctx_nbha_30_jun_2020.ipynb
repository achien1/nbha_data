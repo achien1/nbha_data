{
 "cells": [
  {
   "cell_type": "code",
   "execution_count": 1,
   "metadata": {},
   "outputs": [
    {
     "data": {
      "text/html": [
       "\n",
       "    <div class=\"bk-root\">\n",
       "        <a href=\"https://bokeh.org\" target=\"_blank\" class=\"bk-logo bk-logo-small bk-logo-notebook\"></a>\n",
       "        <span id=\"1001\">Loading BokehJS ...</span>\n",
       "    </div>"
      ]
     },
     "metadata": {},
     "output_type": "display_data"
    },
    {
     "data": {
      "application/javascript": [
       "\n",
       "(function(root) {\n",
       "  function now() {\n",
       "    return new Date();\n",
       "  }\n",
       "\n",
       "  var force = true;\n",
       "\n",
       "  if (typeof root._bokeh_onload_callbacks === \"undefined\" || force === true) {\n",
       "    root._bokeh_onload_callbacks = [];\n",
       "    root._bokeh_is_loading = undefined;\n",
       "  }\n",
       "\n",
       "  var JS_MIME_TYPE = 'application/javascript';\n",
       "  var HTML_MIME_TYPE = 'text/html';\n",
       "  var EXEC_MIME_TYPE = 'application/vnd.bokehjs_exec.v0+json';\n",
       "  var CLASS_NAME = 'output_bokeh rendered_html';\n",
       "\n",
       "  /**\n",
       "   * Render data to the DOM node\n",
       "   */\n",
       "  function render(props, node) {\n",
       "    var script = document.createElement(\"script\");\n",
       "    node.appendChild(script);\n",
       "  }\n",
       "\n",
       "  /**\n",
       "   * Handle when an output is cleared or removed\n",
       "   */\n",
       "  function handleClearOutput(event, handle) {\n",
       "    var cell = handle.cell;\n",
       "\n",
       "    var id = cell.output_area._bokeh_element_id;\n",
       "    var server_id = cell.output_area._bokeh_server_id;\n",
       "    // Clean up Bokeh references\n",
       "    if (id != null && id in Bokeh.index) {\n",
       "      Bokeh.index[id].model.document.clear();\n",
       "      delete Bokeh.index[id];\n",
       "    }\n",
       "\n",
       "    if (server_id !== undefined) {\n",
       "      // Clean up Bokeh references\n",
       "      var cmd = \"from bokeh.io.state import curstate; print(curstate().uuid_to_server['\" + server_id + \"'].get_sessions()[0].document.roots[0]._id)\";\n",
       "      cell.notebook.kernel.execute(cmd, {\n",
       "        iopub: {\n",
       "          output: function(msg) {\n",
       "            var id = msg.content.text.trim();\n",
       "            if (id in Bokeh.index) {\n",
       "              Bokeh.index[id].model.document.clear();\n",
       "              delete Bokeh.index[id];\n",
       "            }\n",
       "          }\n",
       "        }\n",
       "      });\n",
       "      // Destroy server and session\n",
       "      var cmd = \"import bokeh.io.notebook as ion; ion.destroy_server('\" + server_id + \"')\";\n",
       "      cell.notebook.kernel.execute(cmd);\n",
       "    }\n",
       "  }\n",
       "\n",
       "  /**\n",
       "   * Handle when a new output is added\n",
       "   */\n",
       "  function handleAddOutput(event, handle) {\n",
       "    var output_area = handle.output_area;\n",
       "    var output = handle.output;\n",
       "\n",
       "    // limit handleAddOutput to display_data with EXEC_MIME_TYPE content only\n",
       "    if ((output.output_type != \"display_data\") || (!output.data.hasOwnProperty(EXEC_MIME_TYPE))) {\n",
       "      return\n",
       "    }\n",
       "\n",
       "    var toinsert = output_area.element.find(\".\" + CLASS_NAME.split(' ')[0]);\n",
       "\n",
       "    if (output.metadata[EXEC_MIME_TYPE][\"id\"] !== undefined) {\n",
       "      toinsert[toinsert.length - 1].firstChild.textContent = output.data[JS_MIME_TYPE];\n",
       "      // store reference to embed id on output_area\n",
       "      output_area._bokeh_element_id = output.metadata[EXEC_MIME_TYPE][\"id\"];\n",
       "    }\n",
       "    if (output.metadata[EXEC_MIME_TYPE][\"server_id\"] !== undefined) {\n",
       "      var bk_div = document.createElement(\"div\");\n",
       "      bk_div.innerHTML = output.data[HTML_MIME_TYPE];\n",
       "      var script_attrs = bk_div.children[0].attributes;\n",
       "      for (var i = 0; i < script_attrs.length; i++) {\n",
       "        toinsert[toinsert.length - 1].firstChild.setAttribute(script_attrs[i].name, script_attrs[i].value);\n",
       "        toinsert[toinsert.length - 1].firstChild.textContent = bk_div.children[0].textContent\n",
       "      }\n",
       "      // store reference to server id on output_area\n",
       "      output_area._bokeh_server_id = output.metadata[EXEC_MIME_TYPE][\"server_id\"];\n",
       "    }\n",
       "  }\n",
       "\n",
       "  function register_renderer(events, OutputArea) {\n",
       "\n",
       "    function append_mime(data, metadata, element) {\n",
       "      // create a DOM node to render to\n",
       "      var toinsert = this.create_output_subarea(\n",
       "        metadata,\n",
       "        CLASS_NAME,\n",
       "        EXEC_MIME_TYPE\n",
       "      );\n",
       "      this.keyboard_manager.register_events(toinsert);\n",
       "      // Render to node\n",
       "      var props = {data: data, metadata: metadata[EXEC_MIME_TYPE]};\n",
       "      render(props, toinsert[toinsert.length - 1]);\n",
       "      element.append(toinsert);\n",
       "      return toinsert\n",
       "    }\n",
       "\n",
       "    /* Handle when an output is cleared or removed */\n",
       "    events.on('clear_output.CodeCell', handleClearOutput);\n",
       "    events.on('delete.Cell', handleClearOutput);\n",
       "\n",
       "    /* Handle when a new output is added */\n",
       "    events.on('output_added.OutputArea', handleAddOutput);\n",
       "\n",
       "    /**\n",
       "     * Register the mime type and append_mime function with output_area\n",
       "     */\n",
       "    OutputArea.prototype.register_mime_type(EXEC_MIME_TYPE, append_mime, {\n",
       "      /* Is output safe? */\n",
       "      safe: true,\n",
       "      /* Index of renderer in `output_area.display_order` */\n",
       "      index: 0\n",
       "    });\n",
       "  }\n",
       "\n",
       "  // register the mime type if in Jupyter Notebook environment and previously unregistered\n",
       "  if (root.Jupyter !== undefined) {\n",
       "    var events = require('base/js/events');\n",
       "    var OutputArea = require('notebook/js/outputarea').OutputArea;\n",
       "\n",
       "    if (OutputArea.prototype.mime_types().indexOf(EXEC_MIME_TYPE) == -1) {\n",
       "      register_renderer(events, OutputArea);\n",
       "    }\n",
       "  }\n",
       "\n",
       "  \n",
       "  if (typeof (root._bokeh_timeout) === \"undefined\" || force === true) {\n",
       "    root._bokeh_timeout = Date.now() + 5000;\n",
       "    root._bokeh_failed_load = false;\n",
       "  }\n",
       "\n",
       "  var NB_LOAD_WARNING = {'data': {'text/html':\n",
       "     \"<div style='background-color: #fdd'>\\n\"+\n",
       "     \"<p>\\n\"+\n",
       "     \"BokehJS does not appear to have successfully loaded. If loading BokehJS from CDN, this \\n\"+\n",
       "     \"may be due to a slow or bad network connection. Possible fixes:\\n\"+\n",
       "     \"</p>\\n\"+\n",
       "     \"<ul>\\n\"+\n",
       "     \"<li>re-rerun `output_notebook()` to attempt to load from CDN again, or</li>\\n\"+\n",
       "     \"<li>use INLINE resources instead, as so:</li>\\n\"+\n",
       "     \"</ul>\\n\"+\n",
       "     \"<code>\\n\"+\n",
       "     \"from bokeh.resources import INLINE\\n\"+\n",
       "     \"output_notebook(resources=INLINE)\\n\"+\n",
       "     \"</code>\\n\"+\n",
       "     \"</div>\"}};\n",
       "\n",
       "  function display_loaded() {\n",
       "    var el = document.getElementById(\"1001\");\n",
       "    if (el != null) {\n",
       "      el.textContent = \"BokehJS is loading...\";\n",
       "    }\n",
       "    if (root.Bokeh !== undefined) {\n",
       "      if (el != null) {\n",
       "        el.textContent = \"BokehJS \" + root.Bokeh.version + \" successfully loaded.\";\n",
       "      }\n",
       "    } else if (Date.now() < root._bokeh_timeout) {\n",
       "      setTimeout(display_loaded, 100)\n",
       "    }\n",
       "  }\n",
       "\n",
       "\n",
       "  function run_callbacks() {\n",
       "    try {\n",
       "      root._bokeh_onload_callbacks.forEach(function(callback) {\n",
       "        if (callback != null)\n",
       "          callback();\n",
       "      });\n",
       "    } finally {\n",
       "      delete root._bokeh_onload_callbacks\n",
       "    }\n",
       "    console.debug(\"Bokeh: all callbacks have finished\");\n",
       "  }\n",
       "\n",
       "  function load_libs(css_urls, js_urls, callback) {\n",
       "    if (css_urls == null) css_urls = [];\n",
       "    if (js_urls == null) js_urls = [];\n",
       "\n",
       "    root._bokeh_onload_callbacks.push(callback);\n",
       "    if (root._bokeh_is_loading > 0) {\n",
       "      console.debug(\"Bokeh: BokehJS is being loaded, scheduling callback at\", now());\n",
       "      return null;\n",
       "    }\n",
       "    if (js_urls == null || js_urls.length === 0) {\n",
       "      run_callbacks();\n",
       "      return null;\n",
       "    }\n",
       "    console.debug(\"Bokeh: BokehJS not loaded, scheduling load and callback at\", now());\n",
       "    root._bokeh_is_loading = css_urls.length + js_urls.length;\n",
       "\n",
       "    function on_load() {\n",
       "      root._bokeh_is_loading--;\n",
       "      if (root._bokeh_is_loading === 0) {\n",
       "        console.debug(\"Bokeh: all BokehJS libraries/stylesheets loaded\");\n",
       "        run_callbacks()\n",
       "      }\n",
       "    }\n",
       "\n",
       "    function on_error() {\n",
       "      console.error(\"failed to load \" + url);\n",
       "    }\n",
       "\n",
       "    for (var i = 0; i < css_urls.length; i++) {\n",
       "      var url = css_urls[i];\n",
       "      const element = document.createElement(\"link\");\n",
       "      element.onload = on_load;\n",
       "      element.onerror = on_error;\n",
       "      element.rel = \"stylesheet\";\n",
       "      element.type = \"text/css\";\n",
       "      element.href = url;\n",
       "      console.debug(\"Bokeh: injecting link tag for BokehJS stylesheet: \", url);\n",
       "      document.body.appendChild(element);\n",
       "    }\n",
       "\n",
       "    const hashes = {\"https://cdn.bokeh.org/bokeh/release/bokeh-2.1.0.min.js\": \"YobFyzPeVUsFQydHkJGsJL1kyfHnWxOlPc3EwaV22TmBaeGoXHLWx5aRRVPS9xlE\", \"https://cdn.bokeh.org/bokeh/release/bokeh-widgets-2.1.0.min.js\": \"NuAg9+TcTQQqvQCTtkCneRrpkTiMhhfiq0KHiBzx8ECiKiLWXHN6i6ia3q7b3eHu\", \"https://cdn.bokeh.org/bokeh/release/bokeh-tables-2.1.0.min.js\": \"uMVqQc8JqHitD67bXTn9a06Mrk3EiHRaZ18EJENQenAKJ/KL71SakdXYomZQpGRr\", \"https://cdn.bokeh.org/bokeh/release/bokeh-gl-2.1.0.min.js\": \"u+eGuEXC8aw0VSCm2mH+b/tQEAitUOYiR1H6SuIVEdUmXsf4vN8m/SmXpmjb7U/X\"};\n",
       "\n",
       "    for (var i = 0; i < js_urls.length; i++) {\n",
       "      var url = js_urls[i];\n",
       "      var element = document.createElement('script');\n",
       "      element.onload = on_load;\n",
       "      element.onerror = on_error;\n",
       "      element.async = false;\n",
       "      element.src = url;\n",
       "      if (url in hashes) {\n",
       "        element.crossOrigin = \"anonymous\";\n",
       "        element.integrity = \"sha384-\" + hashes[url];\n",
       "      }\n",
       "      console.debug(\"Bokeh: injecting script tag for BokehJS library: \", url);\n",
       "      document.head.appendChild(element);\n",
       "    }\n",
       "  };\n",
       "\n",
       "  function inject_raw_css(css) {\n",
       "    const element = document.createElement(\"style\");\n",
       "    element.appendChild(document.createTextNode(css));\n",
       "    document.body.appendChild(element);\n",
       "  }\n",
       "\n",
       "  \n",
       "  var js_urls = [\"https://cdn.bokeh.org/bokeh/release/bokeh-2.1.0.min.js\", \"https://cdn.bokeh.org/bokeh/release/bokeh-widgets-2.1.0.min.js\", \"https://cdn.bokeh.org/bokeh/release/bokeh-tables-2.1.0.min.js\", \"https://cdn.bokeh.org/bokeh/release/bokeh-gl-2.1.0.min.js\"];\n",
       "  var css_urls = [];\n",
       "  \n",
       "\n",
       "  var inline_js = [\n",
       "    function(Bokeh) {\n",
       "      Bokeh.set_log_level(\"info\");\n",
       "    },\n",
       "    function(Bokeh) {\n",
       "    \n",
       "    \n",
       "    }\n",
       "  ];\n",
       "\n",
       "  function run_inline_js() {\n",
       "    \n",
       "    if (root.Bokeh !== undefined || force === true) {\n",
       "      \n",
       "    for (var i = 0; i < inline_js.length; i++) {\n",
       "      inline_js[i].call(root, root.Bokeh);\n",
       "    }\n",
       "    if (force === true) {\n",
       "        display_loaded();\n",
       "      }} else if (Date.now() < root._bokeh_timeout) {\n",
       "      setTimeout(run_inline_js, 100);\n",
       "    } else if (!root._bokeh_failed_load) {\n",
       "      console.log(\"Bokeh: BokehJS failed to load within specified timeout.\");\n",
       "      root._bokeh_failed_load = true;\n",
       "    } else if (force !== true) {\n",
       "      var cell = $(document.getElementById(\"1001\")).parents('.cell').data().cell;\n",
       "      cell.output_area.append_execute_result(NB_LOAD_WARNING)\n",
       "    }\n",
       "\n",
       "  }\n",
       "\n",
       "  if (root._bokeh_is_loading === 0) {\n",
       "    console.debug(\"Bokeh: BokehJS loaded, going straight to plotting\");\n",
       "    run_inline_js();\n",
       "  } else {\n",
       "    load_libs(css_urls, js_urls, function() {\n",
       "      console.debug(\"Bokeh: BokehJS plotting callback run at\", now());\n",
       "      run_inline_js();\n",
       "    });\n",
       "  }\n",
       "}(window));"
      ],
      "application/vnd.bokehjs_load.v0+json": "\n(function(root) {\n  function now() {\n    return new Date();\n  }\n\n  var force = true;\n\n  if (typeof root._bokeh_onload_callbacks === \"undefined\" || force === true) {\n    root._bokeh_onload_callbacks = [];\n    root._bokeh_is_loading = undefined;\n  }\n\n  \n\n  \n  if (typeof (root._bokeh_timeout) === \"undefined\" || force === true) {\n    root._bokeh_timeout = Date.now() + 5000;\n    root._bokeh_failed_load = false;\n  }\n\n  var NB_LOAD_WARNING = {'data': {'text/html':\n     \"<div style='background-color: #fdd'>\\n\"+\n     \"<p>\\n\"+\n     \"BokehJS does not appear to have successfully loaded. If loading BokehJS from CDN, this \\n\"+\n     \"may be due to a slow or bad network connection. Possible fixes:\\n\"+\n     \"</p>\\n\"+\n     \"<ul>\\n\"+\n     \"<li>re-rerun `output_notebook()` to attempt to load from CDN again, or</li>\\n\"+\n     \"<li>use INLINE resources instead, as so:</li>\\n\"+\n     \"</ul>\\n\"+\n     \"<code>\\n\"+\n     \"from bokeh.resources import INLINE\\n\"+\n     \"output_notebook(resources=INLINE)\\n\"+\n     \"</code>\\n\"+\n     \"</div>\"}};\n\n  function display_loaded() {\n    var el = document.getElementById(\"1001\");\n    if (el != null) {\n      el.textContent = \"BokehJS is loading...\";\n    }\n    if (root.Bokeh !== undefined) {\n      if (el != null) {\n        el.textContent = \"BokehJS \" + root.Bokeh.version + \" successfully loaded.\";\n      }\n    } else if (Date.now() < root._bokeh_timeout) {\n      setTimeout(display_loaded, 100)\n    }\n  }\n\n\n  function run_callbacks() {\n    try {\n      root._bokeh_onload_callbacks.forEach(function(callback) {\n        if (callback != null)\n          callback();\n      });\n    } finally {\n      delete root._bokeh_onload_callbacks\n    }\n    console.debug(\"Bokeh: all callbacks have finished\");\n  }\n\n  function load_libs(css_urls, js_urls, callback) {\n    if (css_urls == null) css_urls = [];\n    if (js_urls == null) js_urls = [];\n\n    root._bokeh_onload_callbacks.push(callback);\n    if (root._bokeh_is_loading > 0) {\n      console.debug(\"Bokeh: BokehJS is being loaded, scheduling callback at\", now());\n      return null;\n    }\n    if (js_urls == null || js_urls.length === 0) {\n      run_callbacks();\n      return null;\n    }\n    console.debug(\"Bokeh: BokehJS not loaded, scheduling load and callback at\", now());\n    root._bokeh_is_loading = css_urls.length + js_urls.length;\n\n    function on_load() {\n      root._bokeh_is_loading--;\n      if (root._bokeh_is_loading === 0) {\n        console.debug(\"Bokeh: all BokehJS libraries/stylesheets loaded\");\n        run_callbacks()\n      }\n    }\n\n    function on_error() {\n      console.error(\"failed to load \" + url);\n    }\n\n    for (var i = 0; i < css_urls.length; i++) {\n      var url = css_urls[i];\n      const element = document.createElement(\"link\");\n      element.onload = on_load;\n      element.onerror = on_error;\n      element.rel = \"stylesheet\";\n      element.type = \"text/css\";\n      element.href = url;\n      console.debug(\"Bokeh: injecting link tag for BokehJS stylesheet: \", url);\n      document.body.appendChild(element);\n    }\n\n    const hashes = {\"https://cdn.bokeh.org/bokeh/release/bokeh-2.1.0.min.js\": \"YobFyzPeVUsFQydHkJGsJL1kyfHnWxOlPc3EwaV22TmBaeGoXHLWx5aRRVPS9xlE\", \"https://cdn.bokeh.org/bokeh/release/bokeh-widgets-2.1.0.min.js\": \"NuAg9+TcTQQqvQCTtkCneRrpkTiMhhfiq0KHiBzx8ECiKiLWXHN6i6ia3q7b3eHu\", \"https://cdn.bokeh.org/bokeh/release/bokeh-tables-2.1.0.min.js\": \"uMVqQc8JqHitD67bXTn9a06Mrk3EiHRaZ18EJENQenAKJ/KL71SakdXYomZQpGRr\", \"https://cdn.bokeh.org/bokeh/release/bokeh-gl-2.1.0.min.js\": \"u+eGuEXC8aw0VSCm2mH+b/tQEAitUOYiR1H6SuIVEdUmXsf4vN8m/SmXpmjb7U/X\"};\n\n    for (var i = 0; i < js_urls.length; i++) {\n      var url = js_urls[i];\n      var element = document.createElement('script');\n      element.onload = on_load;\n      element.onerror = on_error;\n      element.async = false;\n      element.src = url;\n      if (url in hashes) {\n        element.crossOrigin = \"anonymous\";\n        element.integrity = \"sha384-\" + hashes[url];\n      }\n      console.debug(\"Bokeh: injecting script tag for BokehJS library: \", url);\n      document.head.appendChild(element);\n    }\n  };\n\n  function inject_raw_css(css) {\n    const element = document.createElement(\"style\");\n    element.appendChild(document.createTextNode(css));\n    document.body.appendChild(element);\n  }\n\n  \n  var js_urls = [\"https://cdn.bokeh.org/bokeh/release/bokeh-2.1.0.min.js\", \"https://cdn.bokeh.org/bokeh/release/bokeh-widgets-2.1.0.min.js\", \"https://cdn.bokeh.org/bokeh/release/bokeh-tables-2.1.0.min.js\", \"https://cdn.bokeh.org/bokeh/release/bokeh-gl-2.1.0.min.js\"];\n  var css_urls = [];\n  \n\n  var inline_js = [\n    function(Bokeh) {\n      Bokeh.set_log_level(\"info\");\n    },\n    function(Bokeh) {\n    \n    \n    }\n  ];\n\n  function run_inline_js() {\n    \n    if (root.Bokeh !== undefined || force === true) {\n      \n    for (var i = 0; i < inline_js.length; i++) {\n      inline_js[i].call(root, root.Bokeh);\n    }\n    if (force === true) {\n        display_loaded();\n      }} else if (Date.now() < root._bokeh_timeout) {\n      setTimeout(run_inline_js, 100);\n    } else if (!root._bokeh_failed_load) {\n      console.log(\"Bokeh: BokehJS failed to load within specified timeout.\");\n      root._bokeh_failed_load = true;\n    } else if (force !== true) {\n      var cell = $(document.getElementById(\"1001\")).parents('.cell').data().cell;\n      cell.output_area.append_execute_result(NB_LOAD_WARNING)\n    }\n\n  }\n\n  if (root._bokeh_is_loading === 0) {\n    console.debug(\"Bokeh: BokehJS loaded, going straight to plotting\");\n    run_inline_js();\n  } else {\n    load_libs(css_urls, js_urls, function() {\n      console.debug(\"Bokeh: BokehJS plotting callback run at\", now());\n      run_inline_js();\n    });\n  }\n}(window));"
     },
     "metadata": {},
     "output_type": "display_data"
    }
   ],
   "source": [
    "import numpy as np\n",
    "import pandas as pd\n",
    "\n",
    "import bokeh_catplot\n",
    "\n",
    "import bokeh.io\n",
    "import bokeh.plotting\n",
    "\n",
    "bokeh.io.output_notebook()"
   ]
  },
  {
   "cell_type": "code",
   "execution_count": 17,
   "metadata": {},
   "outputs": [
    {
     "name": "stdout",
     "output_type": "stream",
     "text": [
      "ID,ctx (pg/ml)\n",
      "\n",
      "mo0,222\n",
      "\n",
      "mo0,168\n",
      "\n",
      "mo0,341\n",
      "\n",
      "mo0,275\n",
      "\n"
     ]
    }
   ],
   "source": [
    "#What does the data look like?\n",
    "\n",
    "with open('C:/Users/yang1/git/bootcamp/data/nbha_ctx_T.csv') as f:\n",
    "    for _ in range(5): #first 5 lines\n",
    "        print(f.readline())\n",
    "        \n",
    "#Read ctx data into data frame\n",
    "\n",
    "df = pd.read_csv('C:/Users/yang1/git/bootcamp/data/nbha_ctx_T.csv',na_values='*')\n",
    "\n"
   ]
  },
  {
   "cell_type": "code",
   "execution_count": 3,
   "metadata": {},
   "outputs": [
    {
     "data": {
      "text/html": [
       "\n",
       "\n",
       "\n",
       "\n",
       "\n",
       "\n",
       "  <div class=\"bk-root\" id=\"486f9394-e949-4591-b8ea-9ffa14227b4b\" data-root-id=\"1003\"></div>\n"
      ]
     },
     "metadata": {},
     "output_type": "display_data"
    },
    {
     "data": {
      "application/javascript": [
       "(function(root) {\n",
       "  function embed_document(root) {\n",
       "    \n",
       "  var docs_json = {\"158dcf51-3510-4de4-8513-057700b00b1e\":{\"roots\":{\"references\":[{\"attributes\":{\"below\":[{\"id\":\"1011\"}],\"center\":[{\"id\":\"1013\"},{\"id\":\"1017\"}],\"left\":[{\"id\":\"1014\"}],\"plot_height\":300,\"plot_width\":400,\"renderers\":[{\"id\":\"1039\"}],\"title\":{\"id\":\"1041\"},\"toolbar\":{\"id\":\"1025\"},\"x_range\":{\"id\":\"1002\"},\"x_scale\":{\"id\":\"1007\"},\"y_range\":{\"id\":\"1005\"},\"y_scale\":{\"id\":\"1009\"}},\"id\":\"1003\",\"subtype\":\"Figure\",\"type\":\"Plot\"},{\"attributes\":{\"axis_label\":\"ctx (pg/ml)\",\"formatter\":{\"id\":\"1046\"},\"ticker\":{\"id\":\"1015\"}},\"id\":\"1014\",\"type\":\"LinearAxis\"},{\"attributes\":{},\"id\":\"1015\",\"type\":\"BasicTicker\"},{\"attributes\":{\"factors\":[\"mo0\",\"mo3\",\"mo6\",\"mo9\",\"mo12\",\"mo15\",\"mo18\",\"mo21\",\"mo24\"]},\"id\":\"1002\",\"type\":\"FactorRange\"},{\"attributes\":{\"axis\":{\"id\":\"1014\"},\"dimension\":1,\"ticker\":null},\"id\":\"1017\",\"type\":\"Grid\"},{\"attributes\":{\"data_source\":{\"id\":\"1035\"},\"glyph\":{\"id\":\"1037\"},\"hover_glyph\":null,\"muted_glyph\":null,\"nonselection_glyph\":{\"id\":\"1038\"},\"selection_glyph\":null,\"view\":{\"id\":\"1040\"}},\"id\":\"1039\",\"type\":\"GlyphRenderer\"},{\"attributes\":{\"fill_alpha\":{\"value\":0.1},\"fill_color\":{\"field\":\"cat\",\"transform\":{\"id\":\"1034\"}},\"line_alpha\":{\"value\":0.1},\"line_color\":{\"field\":\"cat\",\"transform\":{\"id\":\"1034\"}},\"x\":{\"field\":\"cat\"},\"y\":{\"field\":\"ctx (pg/ml)\"}},\"id\":\"1038\",\"type\":\"Circle\"},{\"attributes\":{\"bottom_units\":\"screen\",\"fill_alpha\":0.5,\"fill_color\":\"lightgrey\",\"left_units\":\"screen\",\"level\":\"overlay\",\"line_alpha\":1.0,\"line_color\":\"black\",\"line_dash\":[4,4],\"line_width\":2,\"right_units\":\"screen\",\"top_units\":\"screen\"},\"id\":\"1024\",\"type\":\"BoxAnnotation\"},{\"attributes\":{},\"id\":\"1046\",\"type\":\"BasicTickFormatter\"},{\"attributes\":{\"factors\":[\"mo0\",\"mo3\",\"mo6\",\"mo9\",\"mo12\",\"mo15\",\"mo18\",\"mo21\",\"mo24\"],\"palette\":[\"#1f77b3\",\"#ff7e0e\",\"#2ba02b\",\"#d62628\",\"#9367bc\",\"#8c564b\",\"#e277c1\",\"#7e7e7e\",\"#bcbc21\",\"#16bdcf\",\"#3a0182\",\"#004201\",\"#0fffa8\",\"#5d003f\",\"#bcbcff\",\"#d8afa1\",\"#b80080\",\"#004d52\",\"#6b6400\",\"#7c0100\",\"#6026ff\",\"#ffff9a\",\"#564964\",\"#8cb893\",\"#93fbff\",\"#018267\",\"#90ff00\",\"#8200a0\",\"#ac8944\",\"#5b3400\",\"#ffbff2\",\"#ff6e75\",\"#798cff\",\"#dd00ff\",\"#505646\",\"#004489\",\"#ffbf60\",\"#ff018c\",\"#bdc8cf\",\"#af97b5\",\"#b65600\",\"#017000\",\"#cd87ff\",\"#1cd646\",\"#bfebc3\",\"#7997b5\",\"#a56089\",\"#6e8956\",\"#bc7c75\",\"#8a2844\",\"#00acff\",\"#8ed4ff\",\"#4b6d77\",\"#00d4b1\",\"#9300f2\",\"#8a9500\",\"#5d5b9e\",\"#fddfba\",\"#00939e\",\"#ffdb00\",\"#00aa79\",\"#520067\",\"#000091\",\"#0a5d3d\",\"#a5e275\",\"#623b41\",\"#c6c689\",\"#ff9eb5\",\"#cd4f6b\",\"#ff07d6\",\"#8a3a05\",\"#7e3d70\",\"#ff4901\",\"#602ba5\",\"#1c00ff\",\"#e6dfff\",\"#aa3baf\",\"#d89c00\",\"#a3a39e\",\"#3f69ff\",\"#46490c\",\"#7b6985\",\"#6b978c\",\"#ff9a75\",\"#835bff\",\"#7c6b46\",\"#80b654\",\"#bc0049\",\"#fd93ff\",\"#5d0018\",\"#89d1d1\",\"#9c8cd3\",\"#da6d42\",\"#8a5700\",\"#3b5069\",\"#4b6b3b\",\"#edcfd8\",\"#cfedff\",\"#aa1500\",\"#dfff4f\",\"#ff2a56\",\"#d1499e\",\"#707cb8\",\"#598000\",\"#00e4fd\",\"#774b95\",\"#67d48c\",\"#3d3a72\",\"#ac413f\",\"#d6a166\",\"#c169cd\",\"#69595d\",\"#87aced\",\"#a0a569\",\"#d1aae6\",\"#870062\",\"#00fddb\",\"#672818\",\"#b342ff\",\"#0e59c4\",\"#168742\",\"#90d300\",\"#cd7900\",\"#f959ff\",\"#5b7466\",\"#8eaeb3\",\"#9c7c8c\",\"#4600c6\",\"#6b4d2d\",\"#a56d46\",\"#9e8972\",\"#a8afca\",\"#cd8ca7\",\"#00fd64\",\"#917900\",\"#ff62a1\",\"#f4ffd8\",\"#018cf0\",\"#13aca0\",\"#5b2d59\",\"#89859e\",\"#cfccba\",\"#d4afc4\",\"#dbdd6d\",\"#cffff4\",\"#006485\",\"#006962\",\"#a84167\",\"#2d97c4\",\"#a874ff\",\"#26ba5d\",\"#57b600\",\"#caffa7\",\"#a379aa\",\"#ffbc93\",\"#89e2c1\",\"#0fc8ff\",\"#d400c4\",\"#626d89\",\"#69858e\",\"#4b4d52\",\"#aa6067\",\"#79b5d4\",\"#2b5916\",\"#9a0024\",\"#bdd1f2\",\"#896e67\",\"#69a56b\",\"#855467\",\"#aecdba\",\"#87997e\",\"#cadb00\",\"#9a0390\",\"#ebbc1a\",\"#eb9cd1\",\"#70006e\",\"#b1a131\",\"#ca6b93\",\"#4146a3\",\"#e48c89\",\"#d44400\",\"#c68aca\",\"#b69597\",\"#d41f75\",\"#724bcc\",\"#674d00\",\"#672138\",\"#38564f\",\"#6ebaaa\",\"#853a31\",\"#a5d397\",\"#b8af8e\",\"#d8e4df\",\"#aa00df\",\"#cac1db\",\"#ffdf8c\",\"#e2524d\",\"#66696e\",\"#ff001c\",\"#522d72\",\"#4d906b\",\"#a86d11\",\"#ff9e26\",\"#5ea3af\",\"#c88556\",\"#915997\",\"#a3a1ff\",\"#fdbaba\",\"#242a87\",\"#dbe6a8\",\"#97f2a7\",\"#6793d6\",\"#ba5b3f\",\"#3a5d91\",\"#364f2f\",\"#267c95\",\"#89959a\",\"#cfb356\",\"#004664\",\"#5e5d2f\",\"#8e8e41\",\"#ac3f13\",\"#69953b\",\"#a13d85\",\"#bfb6ba\",\"#acc667\",\"#6469cf\",\"#91af00\",\"#2be2da\",\"#016e36\",\"#ff7952\",\"#42807e\",\"#4fe800\",\"#995428\",\"#5d0a00\",\"#a30057\",\"#0c8700\",\"#5982a7\",\"#ffebfb\",\"#4b6901\",\"#8775d4\",\"#e6c6ff\",\"#a5ffda\",\"#d86e77\",\"#df014b\",\"#69675b\",\"#776ba1\",\"#7e8067\",\"#594685\",\"#0000ca\",\"#7c002a\",\"#97ff72\",\"#b5e2e1\",\"#db52c8\",\"#777734\",\"#57bd8e\"]},\"id\":\"1034\",\"type\":\"CategoricalColorMapper\"},{\"attributes\":{\"callback\":null,\"tooltips\":[[\"ctx level\",\"@{ctx (pg/ml)} pg/ml\"]]},\"id\":\"1032\",\"type\":\"HoverTool\"},{\"attributes\":{\"fill_color\":{\"field\":\"cat\",\"transform\":{\"id\":\"1034\"}},\"line_color\":{\"field\":\"cat\",\"transform\":{\"id\":\"1034\"}},\"x\":{\"field\":\"cat\"},\"y\":{\"field\":\"ctx (pg/ml)\"}},\"id\":\"1037\",\"type\":\"Circle\"},{\"attributes\":{\"data\":{\"ID\":[\"mo0\",\"mo0\",\"mo0\",\"mo0\",\"mo0\",\"mo0\",\"mo0\",\"mo0\",\"mo0\",\"mo0\",\"mo0\",\"mo0\",\"mo0\",\"mo0\",\"mo0\",\"mo0\",\"mo0\",\"mo0\",\"mo0\",\"mo0\",\"mo0\",\"mo0\",\"mo0\",\"mo0\",\"mo0\",\"mo0\",\"mo0\",\"mo0\",\"mo0\",\"mo0\",\"mo0\",\"mo0\",\"mo0\",\"mo0\",\"mo0\",\"mo0\",\"mo0\",\"mo0\",\"mo0\",\"mo0\",\"mo0\",\"mo0\",\"mo0\",\"mo0\",\"mo0\",\"mo0\",\"mo0\",\"mo0\",\"mo0\",\"mo0\",\"mo0\",\"mo0\",\"mo0\",\"mo0\",\"mo0\",\"mo0\",\"mo3\",\"mo3\",\"mo3\",\"mo3\",\"mo3\",\"mo3\",\"mo3\",\"mo3\",\"mo3\",\"mo3\",\"mo3\",\"mo3\",\"mo3\",\"mo3\",\"mo3\",\"mo3\",\"mo3\",\"mo3\",\"mo3\",\"mo3\",\"mo3\",\"mo3\",\"mo3\",\"mo3\",\"mo3\",\"mo3\",\"mo3\",\"mo3\",\"mo3\",\"mo3\",\"mo3\",\"mo3\",\"mo3\",\"mo3\",\"mo3\",\"mo3\",\"mo3\",\"mo3\",\"mo3\",\"mo3\",\"mo3\",\"mo3\",\"mo3\",\"mo3\",\"mo3\",\"mo3\",\"mo3\",\"mo3\",\"mo3\",\"mo3\",\"mo3\",\"mo3\",\"mo3\",\"mo3\",\"mo3\",\"mo6\",\"mo6\",\"mo6\",\"mo6\",\"mo6\",\"mo6\",\"mo6\",\"mo6\",\"mo6\",\"mo6\",\"mo6\",\"mo6\",\"mo6\",\"mo6\",\"mo6\",\"mo6\",\"mo6\",\"mo6\",\"mo6\",\"mo6\",\"mo6\",\"mo6\",\"mo6\",\"mo6\",\"mo6\",\"mo6\",\"mo6\",\"mo6\",\"mo6\",\"mo6\",\"mo6\",\"mo6\",\"mo6\",\"mo6\",\"mo6\",\"mo6\",\"mo6\",\"mo6\",\"mo6\",\"mo6\",\"mo6\",\"mo6\",\"mo6\",\"mo6\",\"mo6\",\"mo6\",\"mo6\",\"mo6\",\"mo9\",\"mo9\",\"mo9\",\"mo9\",\"mo9\",\"mo9\",\"mo9\",\"mo9\",\"mo9\",\"mo9\",\"mo9\",\"mo9\",\"mo9\",\"mo9\",\"mo9\",\"mo9\",\"mo9\",\"mo9\",\"mo9\",\"mo9\",\"mo9\",\"mo9\",\"mo9\",\"mo9\",\"mo9\",\"mo9\",\"mo9\",\"mo9\",\"mo9\",\"mo9\",\"mo9\",\"mo9\",\"mo9\",\"mo9\",\"mo9\",\"mo9\",\"mo9\",\"mo9\",\"mo9\",\"mo9\",\"mo9\",\"mo9\",\"mo12\",\"mo12\",\"mo12\",\"mo12\",\"mo12\",\"mo12\",\"mo12\",\"mo12\",\"mo12\",\"mo12\",\"mo12\",\"mo12\",\"mo12\",\"mo12\",\"mo12\",\"mo12\",\"mo12\",\"mo12\",\"mo12\",\"mo12\",\"mo12\",\"mo12\",\"mo12\",\"mo12\",\"mo12\",\"mo12\",\"mo12\",\"mo12\",\"mo12\",\"mo12\",\"mo12\",\"mo12\",\"mo12\",\"mo12\",\"mo12\",\"mo12\",\"mo15\",\"mo15\",\"mo15\",\"mo15\",\"mo15\",\"mo15\",\"mo15\",\"mo15\",\"mo15\",\"mo15\",\"mo15\",\"mo15\",\"mo15\",\"mo15\",\"mo15\",\"mo15\",\"mo15\",\"mo15\",\"mo15\",\"mo15\",\"mo15\",\"mo15\",\"mo15\",\"mo15\",\"mo15\",\"mo15\",\"mo15\",\"mo15\",\"mo15\",\"mo15\",\"mo15\",\"mo18\",\"mo18\",\"mo18\",\"mo18\",\"mo18\",\"mo18\",\"mo18\",\"mo18\",\"mo18\",\"mo18\",\"mo18\",\"mo18\",\"mo18\",\"mo18\",\"mo18\",\"mo18\",\"mo18\",\"mo18\",\"mo18\",\"mo18\",\"mo18\",\"mo18\",\"mo18\",\"mo18\",\"mo18\",\"mo18\",\"mo18\",\"mo18\",\"mo18\",\"mo18\",\"mo18\",\"mo21\",\"mo21\",\"mo21\",\"mo21\",\"mo21\",\"mo21\",\"mo21\",\"mo21\",\"mo21\",\"mo21\",\"mo21\",\"mo21\",\"mo21\",\"mo21\",\"mo21\",\"mo21\",\"mo21\",\"mo21\",\"mo21\",\"mo21\",\"mo21\",\"mo21\",\"mo21\",\"mo21\",\"mo21\",\"mo21\",\"mo21\",\"mo21\",\"mo24\",\"mo24\",\"mo24\",\"mo24\",\"mo24\",\"mo24\",\"mo24\",\"mo24\",\"mo24\",\"mo24\",\"mo24\",\"mo24\",\"mo24\",\"mo24\",\"mo24\",\"mo24\",\"mo24\",\"mo24\",\"mo24\",\"mo24\",\"mo24\",\"mo24\",\"mo24\",\"mo24\",\"mo24\",\"mo24\"],\"__label\":[\"mo0\",\"mo0\",\"mo0\",\"mo0\",\"mo0\",\"mo0\",\"mo0\",\"mo0\",\"mo0\",\"mo0\",\"mo0\",\"mo0\",\"mo0\",\"mo0\",\"mo0\",\"mo0\",\"mo0\",\"mo0\",\"mo0\",\"mo0\",\"mo0\",\"mo0\",\"mo0\",\"mo0\",\"mo0\",\"mo0\",\"mo0\",\"mo0\",\"mo0\",\"mo0\",\"mo0\",\"mo0\",\"mo0\",\"mo0\",\"mo0\",\"mo0\",\"mo0\",\"mo0\",\"mo0\",\"mo0\",\"mo0\",\"mo0\",\"mo0\",\"mo0\",\"mo0\",\"mo0\",\"mo0\",\"mo0\",\"mo0\",\"mo0\",\"mo0\",\"mo0\",\"mo0\",\"mo0\",\"mo0\",\"mo0\",\"mo3\",\"mo3\",\"mo3\",\"mo3\",\"mo3\",\"mo3\",\"mo3\",\"mo3\",\"mo3\",\"mo3\",\"mo3\",\"mo3\",\"mo3\",\"mo3\",\"mo3\",\"mo3\",\"mo3\",\"mo3\",\"mo3\",\"mo3\",\"mo3\",\"mo3\",\"mo3\",\"mo3\",\"mo3\",\"mo3\",\"mo3\",\"mo3\",\"mo3\",\"mo3\",\"mo3\",\"mo3\",\"mo3\",\"mo3\",\"mo3\",\"mo3\",\"mo3\",\"mo3\",\"mo3\",\"mo3\",\"mo3\",\"mo3\",\"mo3\",\"mo3\",\"mo3\",\"mo3\",\"mo3\",\"mo3\",\"mo3\",\"mo3\",\"mo3\",\"mo3\",\"mo3\",\"mo3\",\"mo3\",\"mo6\",\"mo6\",\"mo6\",\"mo6\",\"mo6\",\"mo6\",\"mo6\",\"mo6\",\"mo6\",\"mo6\",\"mo6\",\"mo6\",\"mo6\",\"mo6\",\"mo6\",\"mo6\",\"mo6\",\"mo6\",\"mo6\",\"mo6\",\"mo6\",\"mo6\",\"mo6\",\"mo6\",\"mo6\",\"mo6\",\"mo6\",\"mo6\",\"mo6\",\"mo6\",\"mo6\",\"mo6\",\"mo6\",\"mo6\",\"mo6\",\"mo6\",\"mo6\",\"mo6\",\"mo6\",\"mo6\",\"mo6\",\"mo6\",\"mo6\",\"mo6\",\"mo6\",\"mo6\",\"mo6\",\"mo6\",\"mo9\",\"mo9\",\"mo9\",\"mo9\",\"mo9\",\"mo9\",\"mo9\",\"mo9\",\"mo9\",\"mo9\",\"mo9\",\"mo9\",\"mo9\",\"mo9\",\"mo9\",\"mo9\",\"mo9\",\"mo9\",\"mo9\",\"mo9\",\"mo9\",\"mo9\",\"mo9\",\"mo9\",\"mo9\",\"mo9\",\"mo9\",\"mo9\",\"mo9\",\"mo9\",\"mo9\",\"mo9\",\"mo9\",\"mo9\",\"mo9\",\"mo9\",\"mo9\",\"mo9\",\"mo9\",\"mo9\",\"mo9\",\"mo9\",\"mo12\",\"mo12\",\"mo12\",\"mo12\",\"mo12\",\"mo12\",\"mo12\",\"mo12\",\"mo12\",\"mo12\",\"mo12\",\"mo12\",\"mo12\",\"mo12\",\"mo12\",\"mo12\",\"mo12\",\"mo12\",\"mo12\",\"mo12\",\"mo12\",\"mo12\",\"mo12\",\"mo12\",\"mo12\",\"mo12\",\"mo12\",\"mo12\",\"mo12\",\"mo12\",\"mo12\",\"mo12\",\"mo12\",\"mo12\",\"mo12\",\"mo12\",\"mo15\",\"mo15\",\"mo15\",\"mo15\",\"mo15\",\"mo15\",\"mo15\",\"mo15\",\"mo15\",\"mo15\",\"mo15\",\"mo15\",\"mo15\",\"mo15\",\"mo15\",\"mo15\",\"mo15\",\"mo15\",\"mo15\",\"mo15\",\"mo15\",\"mo15\",\"mo15\",\"mo15\",\"mo15\",\"mo15\",\"mo15\",\"mo15\",\"mo15\",\"mo15\",\"mo15\",\"mo18\",\"mo18\",\"mo18\",\"mo18\",\"mo18\",\"mo18\",\"mo18\",\"mo18\",\"mo18\",\"mo18\",\"mo18\",\"mo18\",\"mo18\",\"mo18\",\"mo18\",\"mo18\",\"mo18\",\"mo18\",\"mo18\",\"mo18\",\"mo18\",\"mo18\",\"mo18\",\"mo18\",\"mo18\",\"mo18\",\"mo18\",\"mo18\",\"mo18\",\"mo18\",\"mo18\",\"mo21\",\"mo21\",\"mo21\",\"mo21\",\"mo21\",\"mo21\",\"mo21\",\"mo21\",\"mo21\",\"mo21\",\"mo21\",\"mo21\",\"mo21\",\"mo21\",\"mo21\",\"mo21\",\"mo21\",\"mo21\",\"mo21\",\"mo21\",\"mo21\",\"mo21\",\"mo21\",\"mo21\",\"mo21\",\"mo21\",\"mo21\",\"mo21\",\"mo24\",\"mo24\",\"mo24\",\"mo24\",\"mo24\",\"mo24\",\"mo24\",\"mo24\",\"mo24\",\"mo24\",\"mo24\",\"mo24\",\"mo24\",\"mo24\",\"mo24\",\"mo24\",\"mo24\",\"mo24\",\"mo24\",\"mo24\",\"mo24\",\"mo24\",\"mo24\",\"mo24\",\"mo24\",\"mo24\"],\"cat\":[\"mo0\",\"mo0\",\"mo0\",\"mo0\",\"mo0\",\"mo0\",\"mo0\",\"mo0\",\"mo0\",\"mo0\",\"mo0\",\"mo0\",\"mo0\",\"mo0\",\"mo0\",\"mo0\",\"mo0\",\"mo0\",\"mo0\",\"mo0\",\"mo0\",\"mo0\",\"mo0\",\"mo0\",\"mo0\",\"mo0\",\"mo0\",\"mo0\",\"mo0\",\"mo0\",\"mo0\",\"mo0\",\"mo0\",\"mo0\",\"mo0\",\"mo0\",\"mo0\",\"mo0\",\"mo0\",\"mo0\",\"mo0\",\"mo0\",\"mo0\",\"mo0\",\"mo0\",\"mo0\",\"mo0\",\"mo0\",\"mo0\",\"mo0\",\"mo0\",\"mo0\",\"mo0\",\"mo0\",\"mo0\",\"mo0\",\"mo3\",\"mo3\",\"mo3\",\"mo3\",\"mo3\",\"mo3\",\"mo3\",\"mo3\",\"mo3\",\"mo3\",\"mo3\",\"mo3\",\"mo3\",\"mo3\",\"mo3\",\"mo3\",\"mo3\",\"mo3\",\"mo3\",\"mo3\",\"mo3\",\"mo3\",\"mo3\",\"mo3\",\"mo3\",\"mo3\",\"mo3\",\"mo3\",\"mo3\",\"mo3\",\"mo3\",\"mo3\",\"mo3\",\"mo3\",\"mo3\",\"mo3\",\"mo3\",\"mo3\",\"mo3\",\"mo3\",\"mo3\",\"mo3\",\"mo3\",\"mo3\",\"mo3\",\"mo3\",\"mo3\",\"mo3\",\"mo3\",\"mo3\",\"mo3\",\"mo3\",\"mo3\",\"mo3\",\"mo3\",\"mo6\",\"mo6\",\"mo6\",\"mo6\",\"mo6\",\"mo6\",\"mo6\",\"mo6\",\"mo6\",\"mo6\",\"mo6\",\"mo6\",\"mo6\",\"mo6\",\"mo6\",\"mo6\",\"mo6\",\"mo6\",\"mo6\",\"mo6\",\"mo6\",\"mo6\",\"mo6\",\"mo6\",\"mo6\",\"mo6\",\"mo6\",\"mo6\",\"mo6\",\"mo6\",\"mo6\",\"mo6\",\"mo6\",\"mo6\",\"mo6\",\"mo6\",\"mo6\",\"mo6\",\"mo6\",\"mo6\",\"mo6\",\"mo6\",\"mo6\",\"mo6\",\"mo6\",\"mo6\",\"mo6\",\"mo6\",\"mo9\",\"mo9\",\"mo9\",\"mo9\",\"mo9\",\"mo9\",\"mo9\",\"mo9\",\"mo9\",\"mo9\",\"mo9\",\"mo9\",\"mo9\",\"mo9\",\"mo9\",\"mo9\",\"mo9\",\"mo9\",\"mo9\",\"mo9\",\"mo9\",\"mo9\",\"mo9\",\"mo9\",\"mo9\",\"mo9\",\"mo9\",\"mo9\",\"mo9\",\"mo9\",\"mo9\",\"mo9\",\"mo9\",\"mo9\",\"mo9\",\"mo9\",\"mo9\",\"mo9\",\"mo9\",\"mo9\",\"mo9\",\"mo9\",\"mo12\",\"mo12\",\"mo12\",\"mo12\",\"mo12\",\"mo12\",\"mo12\",\"mo12\",\"mo12\",\"mo12\",\"mo12\",\"mo12\",\"mo12\",\"mo12\",\"mo12\",\"mo12\",\"mo12\",\"mo12\",\"mo12\",\"mo12\",\"mo12\",\"mo12\",\"mo12\",\"mo12\",\"mo12\",\"mo12\",\"mo12\",\"mo12\",\"mo12\",\"mo12\",\"mo12\",\"mo12\",\"mo12\",\"mo12\",\"mo12\",\"mo12\",\"mo15\",\"mo15\",\"mo15\",\"mo15\",\"mo15\",\"mo15\",\"mo15\",\"mo15\",\"mo15\",\"mo15\",\"mo15\",\"mo15\",\"mo15\",\"mo15\",\"mo15\",\"mo15\",\"mo15\",\"mo15\",\"mo15\",\"mo15\",\"mo15\",\"mo15\",\"mo15\",\"mo15\",\"mo15\",\"mo15\",\"mo15\",\"mo15\",\"mo15\",\"mo15\",\"mo15\",\"mo18\",\"mo18\",\"mo18\",\"mo18\",\"mo18\",\"mo18\",\"mo18\",\"mo18\",\"mo18\",\"mo18\",\"mo18\",\"mo18\",\"mo18\",\"mo18\",\"mo18\",\"mo18\",\"mo18\",\"mo18\",\"mo18\",\"mo18\",\"mo18\",\"mo18\",\"mo18\",\"mo18\",\"mo18\",\"mo18\",\"mo18\",\"mo18\",\"mo18\",\"mo18\",\"mo18\",\"mo21\",\"mo21\",\"mo21\",\"mo21\",\"mo21\",\"mo21\",\"mo21\",\"mo21\",\"mo21\",\"mo21\",\"mo21\",\"mo21\",\"mo21\",\"mo21\",\"mo21\",\"mo21\",\"mo21\",\"mo21\",\"mo21\",\"mo21\",\"mo21\",\"mo21\",\"mo21\",\"mo21\",\"mo21\",\"mo21\",\"mo21\",\"mo21\",\"mo24\",\"mo24\",\"mo24\",\"mo24\",\"mo24\",\"mo24\",\"mo24\",\"mo24\",\"mo24\",\"mo24\",\"mo24\",\"mo24\",\"mo24\",\"mo24\",\"mo24\",\"mo24\",\"mo24\",\"mo24\",\"mo24\",\"mo24\",\"mo24\",\"mo24\",\"mo24\",\"mo24\",\"mo24\",\"mo24\"],\"ctx (pg/ml)\":[222,168,341,275,285,140,291,126,85,199,110,268,295,142,191,217,257,217,195,236,181,599,335,168,209,301,256,168,179,432,96,167,125,121,147,89,171,338,265,243,198,142,76,113,370,187,256,151,166,342,375,329,518,277,233,323,336,186,279,452,502,279,341,156,114,258,137,480,382,162,277,236,426,173,315,284,330,370,223,173,243,305,395,255,333,132,153,224,226,222,165,290,464,256,382,168,180,120,153,334,355,470,190,276,437,292,230,391,291,196,338,357,65,483,518,591,239,300,158,174,262,134,486,291,232,310,228,355,317,392,301,251,300,283,392,258,391,188,201,259,279,191,231,348,412,377,464,231,139,253,542,560,329,134,385,315,317,518,250,347,112,800,476,752,329,403,145,151,329,223,827,352,216,319,325,312,390,321,278,34,357,424,183,271,267,322,242,309,294,468,442,225,120,422,570,338,318,182,406,351,478,407,95,527,425,131,160,271,237,794,328,202,271,250,263,302,282,200,212,372,306,49,341,471,280,148,291,364,189,351,519,456,433,133,207,432,249,138,385,264,358,136,117,249,206,713,282,404,282,387,145,327,299,44,340,472,162,177,267,226,185,327,460,162,411,201,223,484,318,122,678,221,372,175,156,305,177,317,447,742,208,324,312,43,362,357,160,147,257,225,203,382,655,523,128,165,199,342,493,356,101,356,251,398,116,363,202,701,711,148,349,263,674,315,378,49,207,257,239,222,426,331,211,261,545,295,248,746,99,746,466,439,216,248,689,171,294,328,1335,400,458,51,251,267,360,262,407,461,227,136,200,169,269]},\"selected\":{\"id\":\"1048\"},\"selection_policy\":{\"id\":\"1047\"}},\"id\":\"1035\",\"type\":\"ColumnDataSource\"},{\"attributes\":{\"text\":\"\"},\"id\":\"1041\",\"type\":\"Title\"},{\"attributes\":{},\"id\":\"1018\",\"type\":\"PanTool\"},{\"attributes\":{},\"id\":\"1044\",\"type\":\"CategoricalTickFormatter\"},{\"attributes\":{},\"id\":\"1019\",\"type\":\"WheelZoomTool\"},{\"attributes\":{\"overlay\":{\"id\":\"1024\"}},\"id\":\"1020\",\"type\":\"BoxZoomTool\"},{\"attributes\":{\"formatter\":{\"id\":\"1044\"},\"ticker\":{\"id\":\"1012\"}},\"id\":\"1011\",\"type\":\"CategoricalAxis\"},{\"attributes\":{},\"id\":\"1021\",\"type\":\"SaveTool\"},{\"attributes\":{},\"id\":\"1047\",\"type\":\"UnionRenderers\"},{\"attributes\":{},\"id\":\"1023\",\"type\":\"HelpTool\"},{\"attributes\":{},\"id\":\"1048\",\"type\":\"Selection\"},{\"attributes\":{\"source\":{\"id\":\"1035\"}},\"id\":\"1040\",\"type\":\"CDSView\"},{\"attributes\":{},\"id\":\"1007\",\"type\":\"CategoricalScale\"},{\"attributes\":{},\"id\":\"1022\",\"type\":\"ResetTool\"},{\"attributes\":{},\"id\":\"1009\",\"type\":\"LinearScale\"},{\"attributes\":{\"axis\":{\"id\":\"1011\"},\"grid_line_color\":null,\"ticker\":null},\"id\":\"1013\",\"type\":\"Grid\"},{\"attributes\":{\"active_drag\":\"auto\",\"active_inspect\":\"auto\",\"active_multi\":null,\"active_scroll\":\"auto\",\"active_tap\":\"auto\",\"tools\":[{\"id\":\"1018\"},{\"id\":\"1019\"},{\"id\":\"1020\"},{\"id\":\"1021\"},{\"id\":\"1022\"},{\"id\":\"1023\"},{\"id\":\"1032\"}]},\"id\":\"1025\",\"type\":\"Toolbar\"},{\"attributes\":{},\"id\":\"1005\",\"type\":\"DataRange1d\"},{\"attributes\":{},\"id\":\"1012\",\"type\":\"CategoricalTicker\"}],\"root_ids\":[\"1003\"]},\"title\":\"Bokeh Application\",\"version\":\"2.1.0\"}};\n",
       "  var render_items = [{\"docid\":\"158dcf51-3510-4de4-8513-057700b00b1e\",\"root_ids\":[\"1003\"],\"roots\":{\"1003\":\"486f9394-e949-4591-b8ea-9ffa14227b4b\"}}];\n",
       "  root.Bokeh.embed.embed_items_notebook(docs_json, render_items);\n",
       "\n",
       "  }\n",
       "  if (root.Bokeh !== undefined) {\n",
       "    embed_document(root);\n",
       "  } else {\n",
       "    var attempts = 0;\n",
       "    var timer = setInterval(function(root) {\n",
       "      if (root.Bokeh !== undefined) {\n",
       "        clearInterval(timer);\n",
       "        embed_document(root);\n",
       "      } else {\n",
       "        attempts++;\n",
       "        if (attempts > 100) {\n",
       "          clearInterval(timer);\n",
       "          console.log(\"Bokeh: ERROR: Unable to run BokehJS code because BokehJS library is missing\");\n",
       "        }\n",
       "      }\n",
       "    }, 10, root)\n",
       "  }\n",
       "})(window);"
      ],
      "application/vnd.bokehjs_exec.v0+json": ""
     },
     "metadata": {
      "application/vnd.bokehjs_exec.v0+json": {
       "id": "1003"
      }
     },
     "output_type": "display_data"
    }
   ],
   "source": [
    "#Question: How do CTX levels change over 2 years\n",
    "p = bokeh_catplot.strip(\n",
    "    data=df,\n",
    "    cats='ID',\n",
    "    val='ctx (pg/ml)',\n",
    "    tooltips=[\n",
    "        ('ctx level', '@{ctx (pg/ml)} pg/ml')\n",
    "     ],\n",
    "        \n",
    ")\n",
    "%config InlineBackend.figure_format = 'png'\n",
    "\n",
    "bokeh.io.show(p)\n"
   ]
  },
  {
   "cell_type": "code",
   "execution_count": 4,
   "metadata": {},
   "outputs": [
    {
     "data": {
      "text/html": [
       "\n",
       "\n",
       "\n",
       "\n",
       "\n",
       "\n",
       "  <div class=\"bk-root\" id=\"e89b6ca8-a27a-4aac-947f-b91b8951b7ea\" data-root-id=\"1105\"></div>\n"
      ]
     },
     "metadata": {},
     "output_type": "display_data"
    },
    {
     "data": {
      "application/javascript": [
       "(function(root) {\n",
       "  function embed_document(root) {\n",
       "    \n",
       "  var docs_json = {\"44afaab2-319a-47a6-a0fe-758240846433\":{\"roots\":{\"references\":[{\"attributes\":{\"below\":[{\"id\":\"1113\"}],\"center\":[{\"id\":\"1115\"},{\"id\":\"1119\"}],\"frame_height\":250,\"left\":[{\"id\":\"1116\"}],\"plot_height\":300,\"plot_width\":400,\"renderers\":[{\"id\":\"1142\"},{\"id\":\"1150\"},{\"id\":\"1155\"},{\"id\":\"1160\"},{\"id\":\"1165\"},{\"id\":\"1170\"},{\"id\":\"1175\"}],\"title\":{\"id\":\"1186\"},\"toolbar\":{\"id\":\"1127\"},\"x_range\":{\"id\":\"1104\"},\"x_scale\":{\"id\":\"1109\"},\"y_range\":{\"id\":\"1107\"},\"y_scale\":{\"id\":\"1111\"}},\"id\":\"1105\",\"subtype\":\"Figure\",\"type\":\"Plot\"},{\"attributes\":{\"axis\":{\"id\":\"1113\"},\"grid_line_color\":null,\"ticker\":null},\"id\":\"1115\",\"type\":\"Grid\"},{\"attributes\":{\"source\":{\"id\":\"1145\"}},\"id\":\"1166\",\"type\":\"CDSView\"},{\"attributes\":{},\"id\":\"1125\",\"type\":\"HelpTool\"},{\"attributes\":{\"bottom\":{\"field\":\"bottom\"},\"fill_color\":{\"value\":null},\"line_color\":{\"value\":\"gray\"},\"top\":{\"field\":\"top\"},\"width\":{\"value\":0.4},\"x\":{\"field\":\"cat\"}},\"id\":\"1168\",\"type\":\"VBar\"},{\"attributes\":{},\"id\":\"1114\",\"type\":\"CategoricalTicker\"},{\"attributes\":{\"line_alpha\":{\"value\":0.1},\"line_color\":{\"value\":\"gray\"},\"x0\":{\"field\":\"cat\"},\"x1\":{\"field\":\"cat\"},\"y0\":{\"field\":\"bottom\"},\"y1\":{\"field\":\"bottom_whisker\"}},\"id\":\"1154\",\"type\":\"Segment\"},{\"attributes\":{\"line_color\":{\"value\":\"gray\"},\"x0\":{\"field\":\"cat\"},\"x1\":{\"field\":\"cat\"},\"y0\":{\"field\":\"bottom\"},\"y1\":{\"field\":\"bottom_whisker\"}},\"id\":\"1153\",\"type\":\"Segment\"},{\"attributes\":{\"source\":{\"id\":\"1145\"}},\"id\":\"1161\",\"type\":\"CDSView\"},{\"attributes\":{},\"id\":\"1194\",\"type\":\"UnionRenderers\"},{\"attributes\":{\"data_source\":{\"id\":\"1145\"},\"glyph\":{\"id\":\"1148\"},\"hover_glyph\":null,\"muted_glyph\":null,\"nonselection_glyph\":{\"id\":\"1149\"},\"selection_glyph\":null,\"view\":{\"id\":\"1151\"}},\"id\":\"1150\",\"type\":\"GlyphRenderer\"},{\"attributes\":{\"data_source\":{\"id\":\"1145\"},\"glyph\":{\"id\":\"1163\"},\"hover_glyph\":null,\"muted_glyph\":null,\"nonselection_glyph\":{\"id\":\"1164\"},\"selection_glyph\":null,\"view\":{\"id\":\"1166\"}},\"id\":\"1165\",\"type\":\"GlyphRenderer\"},{\"attributes\":{\"fill_color\":{\"field\":\"cat\",\"transform\":{\"id\":\"1136\"}},\"line_color\":{\"field\":\"cat\",\"transform\":{\"id\":\"1136\"}},\"x\":{\"field\":\"cat\",\"transform\":{\"id\":\"1138\"}},\"y\":{\"field\":\"ctx (pg/ml)\"}},\"id\":\"1140\",\"type\":\"Circle\"},{\"attributes\":{},\"id\":\"1193\",\"type\":\"Selection\"},{\"attributes\":{},\"id\":\"1189\",\"type\":\"CategoricalTickFormatter\"},{\"attributes\":{\"axis_label\":\"ctx (pg/ml)\",\"formatter\":{\"id\":\"1191\"},\"ticker\":{\"id\":\"1117\"}},\"id\":\"1116\",\"type\":\"LinearAxis\"},{\"attributes\":{\"data_source\":{\"id\":\"1145\"},\"glyph\":{\"id\":\"1173\"},\"hover_glyph\":null,\"muted_glyph\":null,\"nonselection_glyph\":{\"id\":\"1174\"},\"selection_glyph\":null,\"view\":{\"id\":\"1176\"}},\"id\":\"1175\",\"type\":\"GlyphRenderer\"},{\"attributes\":{\"data_source\":{\"id\":\"1137\"},\"glyph\":{\"id\":\"1140\"},\"hover_glyph\":null,\"muted_glyph\":null,\"nonselection_glyph\":{\"id\":\"1141\"},\"selection_glyph\":null,\"view\":{\"id\":\"1143\"}},\"id\":\"1142\",\"type\":\"GlyphRenderer\"},{\"attributes\":{},\"id\":\"1117\",\"type\":\"BasicTicker\"},{\"attributes\":{\"factors\":[\"mo0\",\"mo3\",\"mo6\",\"mo9\",\"mo12\",\"mo15\",\"mo18\",\"mo21\",\"mo24\"]},\"id\":\"1104\",\"type\":\"FactorRange\"},{\"attributes\":{\"axis\":{\"id\":\"1116\"},\"dimension\":1,\"ticker\":null},\"id\":\"1119\",\"type\":\"Grid\"},{\"attributes\":{\"bottom\":{\"field\":\"top_whisker\"},\"fill_alpha\":{\"value\":0.1},\"fill_color\":{\"value\":\"#1f77b4\"},\"line_alpha\":{\"value\":0.1},\"line_color\":{\"value\":\"gray\"},\"top\":{\"field\":\"top_whisker\"},\"width\":{\"value\":0.1},\"x\":{\"field\":\"cat\"}},\"id\":\"1159\",\"type\":\"VBar\"},{\"attributes\":{\"source\":{\"id\":\"1145\"}},\"id\":\"1176\",\"type\":\"CDSView\"},{\"attributes\":{\"source\":{\"id\":\"1145\"}},\"id\":\"1151\",\"type\":\"CDSView\"},{\"attributes\":{\"fill_alpha\":{\"value\":0.1},\"fill_color\":{\"field\":\"cat\",\"transform\":{\"id\":\"1136\"}},\"line_alpha\":{\"value\":0.1},\"line_color\":{\"field\":\"cat\",\"transform\":{\"id\":\"1136\"}},\"x\":{\"field\":\"cat\",\"transform\":{\"id\":\"1138\"}},\"y\":{\"field\":\"ctx (pg/ml)\"}},\"id\":\"1141\",\"type\":\"Circle\"},{\"attributes\":{},\"id\":\"1195\",\"type\":\"Selection\"},{\"attributes\":{\"active_drag\":\"auto\",\"active_inspect\":\"auto\",\"active_multi\":null,\"active_scroll\":\"auto\",\"active_tap\":\"auto\",\"tools\":[{\"id\":\"1120\"},{\"id\":\"1121\"},{\"id\":\"1122\"},{\"id\":\"1123\"},{\"id\":\"1124\"},{\"id\":\"1125\"},{\"id\":\"1134\"}]},\"id\":\"1127\",\"type\":\"Toolbar\"},{\"attributes\":{\"source\":{\"id\":\"1137\"}},\"id\":\"1143\",\"type\":\"CDSView\"},{\"attributes\":{\"source\":{\"id\":\"1145\"}},\"id\":\"1156\",\"type\":\"CDSView\"},{\"attributes\":{\"bottom\":{\"field\":\"bottom\"},\"fill_alpha\":{\"value\":0.1},\"fill_color\":{\"value\":null},\"line_alpha\":{\"value\":0.1},\"line_color\":{\"value\":\"gray\"},\"top\":{\"field\":\"top\"},\"width\":{\"value\":0.4},\"x\":{\"field\":\"cat\"}},\"id\":\"1169\",\"type\":\"VBar\"},{\"attributes\":{\"data_source\":{\"id\":\"1145\"},\"glyph\":{\"id\":\"1153\"},\"hover_glyph\":null,\"muted_glyph\":null,\"nonselection_glyph\":{\"id\":\"1154\"},\"selection_glyph\":null,\"view\":{\"id\":\"1156\"}},\"id\":\"1155\",\"type\":\"GlyphRenderer\"},{\"attributes\":{\"text\":\"\"},\"id\":\"1186\",\"type\":\"Title\"},{\"attributes\":{\"bottom\":{\"field\":\"middle\"},\"fill_alpha\":{\"value\":0.1},\"fill_color\":{\"value\":\"#1f77b4\"},\"line_alpha\":{\"value\":0.1},\"line_color\":{\"value\":\"gray\"},\"top\":{\"field\":\"middle\"},\"width\":{\"value\":0.4},\"x\":{\"field\":\"cat\"}},\"id\":\"1174\",\"type\":\"VBar\"},{\"attributes\":{\"data_source\":{\"id\":\"1145\"},\"glyph\":{\"id\":\"1158\"},\"hover_glyph\":null,\"muted_glyph\":null,\"nonselection_glyph\":{\"id\":\"1159\"},\"selection_glyph\":null,\"view\":{\"id\":\"1161\"}},\"id\":\"1160\",\"type\":\"GlyphRenderer\"},{\"attributes\":{\"bottom_units\":\"screen\",\"fill_alpha\":0.5,\"fill_color\":\"lightgrey\",\"left_units\":\"screen\",\"level\":\"overlay\",\"line_alpha\":1.0,\"line_color\":\"black\",\"line_dash\":[4,4],\"line_width\":2,\"right_units\":\"screen\",\"top_units\":\"screen\"},\"id\":\"1126\",\"type\":\"BoxAnnotation\"},{\"attributes\":{\"data\":{\"ID\":[\"mo0\",\"mo0\",\"mo0\",\"mo0\",\"mo0\",\"mo0\",\"mo0\",\"mo0\",\"mo0\",\"mo0\",\"mo0\",\"mo0\",\"mo0\",\"mo0\",\"mo0\",\"mo0\",\"mo0\",\"mo0\",\"mo0\",\"mo0\",\"mo0\",\"mo0\",\"mo0\",\"mo0\",\"mo0\",\"mo0\",\"mo0\",\"mo0\",\"mo0\",\"mo0\",\"mo0\",\"mo0\",\"mo0\",\"mo0\",\"mo0\",\"mo0\",\"mo0\",\"mo0\",\"mo0\",\"mo0\",\"mo0\",\"mo0\",\"mo0\",\"mo0\",\"mo0\",\"mo0\",\"mo0\",\"mo0\",\"mo0\",\"mo0\",\"mo0\",\"mo0\",\"mo0\",\"mo0\",\"mo0\",\"mo0\",\"mo3\",\"mo3\",\"mo3\",\"mo3\",\"mo3\",\"mo3\",\"mo3\",\"mo3\",\"mo3\",\"mo3\",\"mo3\",\"mo3\",\"mo3\",\"mo3\",\"mo3\",\"mo3\",\"mo3\",\"mo3\",\"mo3\",\"mo3\",\"mo3\",\"mo3\",\"mo3\",\"mo3\",\"mo3\",\"mo3\",\"mo3\",\"mo3\",\"mo3\",\"mo3\",\"mo3\",\"mo3\",\"mo3\",\"mo3\",\"mo3\",\"mo3\",\"mo3\",\"mo3\",\"mo3\",\"mo3\",\"mo3\",\"mo3\",\"mo3\",\"mo3\",\"mo3\",\"mo3\",\"mo3\",\"mo3\",\"mo3\",\"mo3\",\"mo3\",\"mo3\",\"mo3\",\"mo3\",\"mo3\",\"mo6\",\"mo6\",\"mo6\",\"mo6\",\"mo6\",\"mo6\",\"mo6\",\"mo6\",\"mo6\",\"mo6\",\"mo6\",\"mo6\",\"mo6\",\"mo6\",\"mo6\",\"mo6\",\"mo6\",\"mo6\",\"mo6\",\"mo6\",\"mo6\",\"mo6\",\"mo6\",\"mo6\",\"mo6\",\"mo6\",\"mo6\",\"mo6\",\"mo6\",\"mo6\",\"mo6\",\"mo6\",\"mo6\",\"mo6\",\"mo6\",\"mo6\",\"mo6\",\"mo6\",\"mo6\",\"mo6\",\"mo6\",\"mo6\",\"mo6\",\"mo6\",\"mo6\",\"mo6\",\"mo6\",\"mo6\",\"mo9\",\"mo9\",\"mo9\",\"mo9\",\"mo9\",\"mo9\",\"mo9\",\"mo9\",\"mo9\",\"mo9\",\"mo9\",\"mo9\",\"mo9\",\"mo9\",\"mo9\",\"mo9\",\"mo9\",\"mo9\",\"mo9\",\"mo9\",\"mo9\",\"mo9\",\"mo9\",\"mo9\",\"mo9\",\"mo9\",\"mo9\",\"mo9\",\"mo9\",\"mo9\",\"mo9\",\"mo9\",\"mo9\",\"mo9\",\"mo9\",\"mo9\",\"mo9\",\"mo9\",\"mo9\",\"mo9\",\"mo9\",\"mo9\",\"mo12\",\"mo12\",\"mo12\",\"mo12\",\"mo12\",\"mo12\",\"mo12\",\"mo12\",\"mo12\",\"mo12\",\"mo12\",\"mo12\",\"mo12\",\"mo12\",\"mo12\",\"mo12\",\"mo12\",\"mo12\",\"mo12\",\"mo12\",\"mo12\",\"mo12\",\"mo12\",\"mo12\",\"mo12\",\"mo12\",\"mo12\",\"mo12\",\"mo12\",\"mo12\",\"mo12\",\"mo12\",\"mo12\",\"mo12\",\"mo12\",\"mo12\",\"mo15\",\"mo15\",\"mo15\",\"mo15\",\"mo15\",\"mo15\",\"mo15\",\"mo15\",\"mo15\",\"mo15\",\"mo15\",\"mo15\",\"mo15\",\"mo15\",\"mo15\",\"mo15\",\"mo15\",\"mo15\",\"mo15\",\"mo15\",\"mo15\",\"mo15\",\"mo15\",\"mo15\",\"mo15\",\"mo15\",\"mo15\",\"mo15\",\"mo15\",\"mo15\",\"mo15\",\"mo18\",\"mo18\",\"mo18\",\"mo18\",\"mo18\",\"mo18\",\"mo18\",\"mo18\",\"mo18\",\"mo18\",\"mo18\",\"mo18\",\"mo18\",\"mo18\",\"mo18\",\"mo18\",\"mo18\",\"mo18\",\"mo18\",\"mo18\",\"mo18\",\"mo18\",\"mo18\",\"mo18\",\"mo18\",\"mo18\",\"mo18\",\"mo18\",\"mo18\",\"mo18\",\"mo18\",\"mo21\",\"mo21\",\"mo21\",\"mo21\",\"mo21\",\"mo21\",\"mo21\",\"mo21\",\"mo21\",\"mo21\",\"mo21\",\"mo21\",\"mo21\",\"mo21\",\"mo21\",\"mo21\",\"mo21\",\"mo21\",\"mo21\",\"mo21\",\"mo21\",\"mo21\",\"mo21\",\"mo21\",\"mo21\",\"mo21\",\"mo21\",\"mo21\",\"mo24\",\"mo24\",\"mo24\",\"mo24\",\"mo24\",\"mo24\",\"mo24\",\"mo24\",\"mo24\",\"mo24\",\"mo24\",\"mo24\",\"mo24\",\"mo24\",\"mo24\",\"mo24\",\"mo24\",\"mo24\",\"mo24\",\"mo24\",\"mo24\",\"mo24\",\"mo24\",\"mo24\",\"mo24\",\"mo24\"],\"__label\":[\"mo0\",\"mo0\",\"mo0\",\"mo0\",\"mo0\",\"mo0\",\"mo0\",\"mo0\",\"mo0\",\"mo0\",\"mo0\",\"mo0\",\"mo0\",\"mo0\",\"mo0\",\"mo0\",\"mo0\",\"mo0\",\"mo0\",\"mo0\",\"mo0\",\"mo0\",\"mo0\",\"mo0\",\"mo0\",\"mo0\",\"mo0\",\"mo0\",\"mo0\",\"mo0\",\"mo0\",\"mo0\",\"mo0\",\"mo0\",\"mo0\",\"mo0\",\"mo0\",\"mo0\",\"mo0\",\"mo0\",\"mo0\",\"mo0\",\"mo0\",\"mo0\",\"mo0\",\"mo0\",\"mo0\",\"mo0\",\"mo0\",\"mo0\",\"mo0\",\"mo0\",\"mo0\",\"mo0\",\"mo0\",\"mo0\",\"mo3\",\"mo3\",\"mo3\",\"mo3\",\"mo3\",\"mo3\",\"mo3\",\"mo3\",\"mo3\",\"mo3\",\"mo3\",\"mo3\",\"mo3\",\"mo3\",\"mo3\",\"mo3\",\"mo3\",\"mo3\",\"mo3\",\"mo3\",\"mo3\",\"mo3\",\"mo3\",\"mo3\",\"mo3\",\"mo3\",\"mo3\",\"mo3\",\"mo3\",\"mo3\",\"mo3\",\"mo3\",\"mo3\",\"mo3\",\"mo3\",\"mo3\",\"mo3\",\"mo3\",\"mo3\",\"mo3\",\"mo3\",\"mo3\",\"mo3\",\"mo3\",\"mo3\",\"mo3\",\"mo3\",\"mo3\",\"mo3\",\"mo3\",\"mo3\",\"mo3\",\"mo3\",\"mo3\",\"mo3\",\"mo6\",\"mo6\",\"mo6\",\"mo6\",\"mo6\",\"mo6\",\"mo6\",\"mo6\",\"mo6\",\"mo6\",\"mo6\",\"mo6\",\"mo6\",\"mo6\",\"mo6\",\"mo6\",\"mo6\",\"mo6\",\"mo6\",\"mo6\",\"mo6\",\"mo6\",\"mo6\",\"mo6\",\"mo6\",\"mo6\",\"mo6\",\"mo6\",\"mo6\",\"mo6\",\"mo6\",\"mo6\",\"mo6\",\"mo6\",\"mo6\",\"mo6\",\"mo6\",\"mo6\",\"mo6\",\"mo6\",\"mo6\",\"mo6\",\"mo6\",\"mo6\",\"mo6\",\"mo6\",\"mo6\",\"mo6\",\"mo9\",\"mo9\",\"mo9\",\"mo9\",\"mo9\",\"mo9\",\"mo9\",\"mo9\",\"mo9\",\"mo9\",\"mo9\",\"mo9\",\"mo9\",\"mo9\",\"mo9\",\"mo9\",\"mo9\",\"mo9\",\"mo9\",\"mo9\",\"mo9\",\"mo9\",\"mo9\",\"mo9\",\"mo9\",\"mo9\",\"mo9\",\"mo9\",\"mo9\",\"mo9\",\"mo9\",\"mo9\",\"mo9\",\"mo9\",\"mo9\",\"mo9\",\"mo9\",\"mo9\",\"mo9\",\"mo9\",\"mo9\",\"mo9\",\"mo12\",\"mo12\",\"mo12\",\"mo12\",\"mo12\",\"mo12\",\"mo12\",\"mo12\",\"mo12\",\"mo12\",\"mo12\",\"mo12\",\"mo12\",\"mo12\",\"mo12\",\"mo12\",\"mo12\",\"mo12\",\"mo12\",\"mo12\",\"mo12\",\"mo12\",\"mo12\",\"mo12\",\"mo12\",\"mo12\",\"mo12\",\"mo12\",\"mo12\",\"mo12\",\"mo12\",\"mo12\",\"mo12\",\"mo12\",\"mo12\",\"mo12\",\"mo15\",\"mo15\",\"mo15\",\"mo15\",\"mo15\",\"mo15\",\"mo15\",\"mo15\",\"mo15\",\"mo15\",\"mo15\",\"mo15\",\"mo15\",\"mo15\",\"mo15\",\"mo15\",\"mo15\",\"mo15\",\"mo15\",\"mo15\",\"mo15\",\"mo15\",\"mo15\",\"mo15\",\"mo15\",\"mo15\",\"mo15\",\"mo15\",\"mo15\",\"mo15\",\"mo15\",\"mo18\",\"mo18\",\"mo18\",\"mo18\",\"mo18\",\"mo18\",\"mo18\",\"mo18\",\"mo18\",\"mo18\",\"mo18\",\"mo18\",\"mo18\",\"mo18\",\"mo18\",\"mo18\",\"mo18\",\"mo18\",\"mo18\",\"mo18\",\"mo18\",\"mo18\",\"mo18\",\"mo18\",\"mo18\",\"mo18\",\"mo18\",\"mo18\",\"mo18\",\"mo18\",\"mo18\",\"mo21\",\"mo21\",\"mo21\",\"mo21\",\"mo21\",\"mo21\",\"mo21\",\"mo21\",\"mo21\",\"mo21\",\"mo21\",\"mo21\",\"mo21\",\"mo21\",\"mo21\",\"mo21\",\"mo21\",\"mo21\",\"mo21\",\"mo21\",\"mo21\",\"mo21\",\"mo21\",\"mo21\",\"mo21\",\"mo21\",\"mo21\",\"mo21\",\"mo24\",\"mo24\",\"mo24\",\"mo24\",\"mo24\",\"mo24\",\"mo24\",\"mo24\",\"mo24\",\"mo24\",\"mo24\",\"mo24\",\"mo24\",\"mo24\",\"mo24\",\"mo24\",\"mo24\",\"mo24\",\"mo24\",\"mo24\",\"mo24\",\"mo24\",\"mo24\",\"mo24\",\"mo24\",\"mo24\"],\"cat\":[\"mo0\",\"mo0\",\"mo0\",\"mo0\",\"mo0\",\"mo0\",\"mo0\",\"mo0\",\"mo0\",\"mo0\",\"mo0\",\"mo0\",\"mo0\",\"mo0\",\"mo0\",\"mo0\",\"mo0\",\"mo0\",\"mo0\",\"mo0\",\"mo0\",\"mo0\",\"mo0\",\"mo0\",\"mo0\",\"mo0\",\"mo0\",\"mo0\",\"mo0\",\"mo0\",\"mo0\",\"mo0\",\"mo0\",\"mo0\",\"mo0\",\"mo0\",\"mo0\",\"mo0\",\"mo0\",\"mo0\",\"mo0\",\"mo0\",\"mo0\",\"mo0\",\"mo0\",\"mo0\",\"mo0\",\"mo0\",\"mo0\",\"mo0\",\"mo0\",\"mo0\",\"mo0\",\"mo0\",\"mo0\",\"mo0\",\"mo3\",\"mo3\",\"mo3\",\"mo3\",\"mo3\",\"mo3\",\"mo3\",\"mo3\",\"mo3\",\"mo3\",\"mo3\",\"mo3\",\"mo3\",\"mo3\",\"mo3\",\"mo3\",\"mo3\",\"mo3\",\"mo3\",\"mo3\",\"mo3\",\"mo3\",\"mo3\",\"mo3\",\"mo3\",\"mo3\",\"mo3\",\"mo3\",\"mo3\",\"mo3\",\"mo3\",\"mo3\",\"mo3\",\"mo3\",\"mo3\",\"mo3\",\"mo3\",\"mo3\",\"mo3\",\"mo3\",\"mo3\",\"mo3\",\"mo3\",\"mo3\",\"mo3\",\"mo3\",\"mo3\",\"mo3\",\"mo3\",\"mo3\",\"mo3\",\"mo3\",\"mo3\",\"mo3\",\"mo3\",\"mo6\",\"mo6\",\"mo6\",\"mo6\",\"mo6\",\"mo6\",\"mo6\",\"mo6\",\"mo6\",\"mo6\",\"mo6\",\"mo6\",\"mo6\",\"mo6\",\"mo6\",\"mo6\",\"mo6\",\"mo6\",\"mo6\",\"mo6\",\"mo6\",\"mo6\",\"mo6\",\"mo6\",\"mo6\",\"mo6\",\"mo6\",\"mo6\",\"mo6\",\"mo6\",\"mo6\",\"mo6\",\"mo6\",\"mo6\",\"mo6\",\"mo6\",\"mo6\",\"mo6\",\"mo6\",\"mo6\",\"mo6\",\"mo6\",\"mo6\",\"mo6\",\"mo6\",\"mo6\",\"mo6\",\"mo6\",\"mo9\",\"mo9\",\"mo9\",\"mo9\",\"mo9\",\"mo9\",\"mo9\",\"mo9\",\"mo9\",\"mo9\",\"mo9\",\"mo9\",\"mo9\",\"mo9\",\"mo9\",\"mo9\",\"mo9\",\"mo9\",\"mo9\",\"mo9\",\"mo9\",\"mo9\",\"mo9\",\"mo9\",\"mo9\",\"mo9\",\"mo9\",\"mo9\",\"mo9\",\"mo9\",\"mo9\",\"mo9\",\"mo9\",\"mo9\",\"mo9\",\"mo9\",\"mo9\",\"mo9\",\"mo9\",\"mo9\",\"mo9\",\"mo9\",\"mo12\",\"mo12\",\"mo12\",\"mo12\",\"mo12\",\"mo12\",\"mo12\",\"mo12\",\"mo12\",\"mo12\",\"mo12\",\"mo12\",\"mo12\",\"mo12\",\"mo12\",\"mo12\",\"mo12\",\"mo12\",\"mo12\",\"mo12\",\"mo12\",\"mo12\",\"mo12\",\"mo12\",\"mo12\",\"mo12\",\"mo12\",\"mo12\",\"mo12\",\"mo12\",\"mo12\",\"mo12\",\"mo12\",\"mo12\",\"mo12\",\"mo12\",\"mo15\",\"mo15\",\"mo15\",\"mo15\",\"mo15\",\"mo15\",\"mo15\",\"mo15\",\"mo15\",\"mo15\",\"mo15\",\"mo15\",\"mo15\",\"mo15\",\"mo15\",\"mo15\",\"mo15\",\"mo15\",\"mo15\",\"mo15\",\"mo15\",\"mo15\",\"mo15\",\"mo15\",\"mo15\",\"mo15\",\"mo15\",\"mo15\",\"mo15\",\"mo15\",\"mo15\",\"mo18\",\"mo18\",\"mo18\",\"mo18\",\"mo18\",\"mo18\",\"mo18\",\"mo18\",\"mo18\",\"mo18\",\"mo18\",\"mo18\",\"mo18\",\"mo18\",\"mo18\",\"mo18\",\"mo18\",\"mo18\",\"mo18\",\"mo18\",\"mo18\",\"mo18\",\"mo18\",\"mo18\",\"mo18\",\"mo18\",\"mo18\",\"mo18\",\"mo18\",\"mo18\",\"mo18\",\"mo21\",\"mo21\",\"mo21\",\"mo21\",\"mo21\",\"mo21\",\"mo21\",\"mo21\",\"mo21\",\"mo21\",\"mo21\",\"mo21\",\"mo21\",\"mo21\",\"mo21\",\"mo21\",\"mo21\",\"mo21\",\"mo21\",\"mo21\",\"mo21\",\"mo21\",\"mo21\",\"mo21\",\"mo21\",\"mo21\",\"mo21\",\"mo21\",\"mo24\",\"mo24\",\"mo24\",\"mo24\",\"mo24\",\"mo24\",\"mo24\",\"mo24\",\"mo24\",\"mo24\",\"mo24\",\"mo24\",\"mo24\",\"mo24\",\"mo24\",\"mo24\",\"mo24\",\"mo24\",\"mo24\",\"mo24\",\"mo24\",\"mo24\",\"mo24\",\"mo24\",\"mo24\",\"mo24\"],\"ctx (pg/ml)\":[222,168,341,275,285,140,291,126,85,199,110,268,295,142,191,217,257,217,195,236,181,599,335,168,209,301,256,168,179,432,96,167,125,121,147,89,171,338,265,243,198,142,76,113,370,187,256,151,166,342,375,329,518,277,233,323,336,186,279,452,502,279,341,156,114,258,137,480,382,162,277,236,426,173,315,284,330,370,223,173,243,305,395,255,333,132,153,224,226,222,165,290,464,256,382,168,180,120,153,334,355,470,190,276,437,292,230,391,291,196,338,357,65,483,518,591,239,300,158,174,262,134,486,291,232,310,228,355,317,392,301,251,300,283,392,258,391,188,201,259,279,191,231,348,412,377,464,231,139,253,542,560,329,134,385,315,317,518,250,347,112,800,476,752,329,403,145,151,329,223,827,352,216,319,325,312,390,321,278,34,357,424,183,271,267,322,242,309,294,468,442,225,120,422,570,338,318,182,406,351,478,407,95,527,425,131,160,271,237,794,328,202,271,250,263,302,282,200,212,372,306,49,341,471,280,148,291,364,189,351,519,456,433,133,207,432,249,138,385,264,358,136,117,249,206,713,282,404,282,387,145,327,299,44,340,472,162,177,267,226,185,327,460,162,411,201,223,484,318,122,678,221,372,175,156,305,177,317,447,742,208,324,312,43,362,357,160,147,257,225,203,382,655,523,128,165,199,342,493,356,101,356,251,398,116,363,202,701,711,148,349,263,674,315,378,49,207,257,239,222,426,331,211,261,545,295,248,746,99,746,466,439,216,248,689,171,294,328,1335,400,458,51,251,267,360,262,407,461,227,136,200,169,269]},\"selected\":{\"id\":\"1193\"},\"selection_policy\":{\"id\":\"1192\"}},\"id\":\"1137\",\"type\":\"ColumnDataSource\"},{\"attributes\":{\"data_source\":{\"id\":\"1145\"},\"glyph\":{\"id\":\"1168\"},\"hover_glyph\":null,\"muted_glyph\":null,\"nonselection_glyph\":{\"id\":\"1169\"},\"selection_glyph\":null,\"view\":{\"id\":\"1171\"}},\"id\":\"1170\",\"type\":\"GlyphRenderer\"},{\"attributes\":{\"factors\":[\"mo0\",\"mo3\",\"mo6\",\"mo9\",\"mo12\",\"mo15\",\"mo18\",\"mo21\",\"mo24\"],\"palette\":[\"#1f77b3\",\"#ff7e0e\",\"#2ba02b\",\"#d62628\",\"#9367bc\",\"#8c564b\",\"#e277c1\",\"#7e7e7e\",\"#bcbc21\",\"#16bdcf\",\"#3a0182\",\"#004201\",\"#0fffa8\",\"#5d003f\",\"#bcbcff\",\"#d8afa1\",\"#b80080\",\"#004d52\",\"#6b6400\",\"#7c0100\",\"#6026ff\",\"#ffff9a\",\"#564964\",\"#8cb893\",\"#93fbff\",\"#018267\",\"#90ff00\",\"#8200a0\",\"#ac8944\",\"#5b3400\",\"#ffbff2\",\"#ff6e75\",\"#798cff\",\"#dd00ff\",\"#505646\",\"#004489\",\"#ffbf60\",\"#ff018c\",\"#bdc8cf\",\"#af97b5\",\"#b65600\",\"#017000\",\"#cd87ff\",\"#1cd646\",\"#bfebc3\",\"#7997b5\",\"#a56089\",\"#6e8956\",\"#bc7c75\",\"#8a2844\",\"#00acff\",\"#8ed4ff\",\"#4b6d77\",\"#00d4b1\",\"#9300f2\",\"#8a9500\",\"#5d5b9e\",\"#fddfba\",\"#00939e\",\"#ffdb00\",\"#00aa79\",\"#520067\",\"#000091\",\"#0a5d3d\",\"#a5e275\",\"#623b41\",\"#c6c689\",\"#ff9eb5\",\"#cd4f6b\",\"#ff07d6\",\"#8a3a05\",\"#7e3d70\",\"#ff4901\",\"#602ba5\",\"#1c00ff\",\"#e6dfff\",\"#aa3baf\",\"#d89c00\",\"#a3a39e\",\"#3f69ff\",\"#46490c\",\"#7b6985\",\"#6b978c\",\"#ff9a75\",\"#835bff\",\"#7c6b46\",\"#80b654\",\"#bc0049\",\"#fd93ff\",\"#5d0018\",\"#89d1d1\",\"#9c8cd3\",\"#da6d42\",\"#8a5700\",\"#3b5069\",\"#4b6b3b\",\"#edcfd8\",\"#cfedff\",\"#aa1500\",\"#dfff4f\",\"#ff2a56\",\"#d1499e\",\"#707cb8\",\"#598000\",\"#00e4fd\",\"#774b95\",\"#67d48c\",\"#3d3a72\",\"#ac413f\",\"#d6a166\",\"#c169cd\",\"#69595d\",\"#87aced\",\"#a0a569\",\"#d1aae6\",\"#870062\",\"#00fddb\",\"#672818\",\"#b342ff\",\"#0e59c4\",\"#168742\",\"#90d300\",\"#cd7900\",\"#f959ff\",\"#5b7466\",\"#8eaeb3\",\"#9c7c8c\",\"#4600c6\",\"#6b4d2d\",\"#a56d46\",\"#9e8972\",\"#a8afca\",\"#cd8ca7\",\"#00fd64\",\"#917900\",\"#ff62a1\",\"#f4ffd8\",\"#018cf0\",\"#13aca0\",\"#5b2d59\",\"#89859e\",\"#cfccba\",\"#d4afc4\",\"#dbdd6d\",\"#cffff4\",\"#006485\",\"#006962\",\"#a84167\",\"#2d97c4\",\"#a874ff\",\"#26ba5d\",\"#57b600\",\"#caffa7\",\"#a379aa\",\"#ffbc93\",\"#89e2c1\",\"#0fc8ff\",\"#d400c4\",\"#626d89\",\"#69858e\",\"#4b4d52\",\"#aa6067\",\"#79b5d4\",\"#2b5916\",\"#9a0024\",\"#bdd1f2\",\"#896e67\",\"#69a56b\",\"#855467\",\"#aecdba\",\"#87997e\",\"#cadb00\",\"#9a0390\",\"#ebbc1a\",\"#eb9cd1\",\"#70006e\",\"#b1a131\",\"#ca6b93\",\"#4146a3\",\"#e48c89\",\"#d44400\",\"#c68aca\",\"#b69597\",\"#d41f75\",\"#724bcc\",\"#674d00\",\"#672138\",\"#38564f\",\"#6ebaaa\",\"#853a31\",\"#a5d397\",\"#b8af8e\",\"#d8e4df\",\"#aa00df\",\"#cac1db\",\"#ffdf8c\",\"#e2524d\",\"#66696e\",\"#ff001c\",\"#522d72\",\"#4d906b\",\"#a86d11\",\"#ff9e26\",\"#5ea3af\",\"#c88556\",\"#915997\",\"#a3a1ff\",\"#fdbaba\",\"#242a87\",\"#dbe6a8\",\"#97f2a7\",\"#6793d6\",\"#ba5b3f\",\"#3a5d91\",\"#364f2f\",\"#267c95\",\"#89959a\",\"#cfb356\",\"#004664\",\"#5e5d2f\",\"#8e8e41\",\"#ac3f13\",\"#69953b\",\"#a13d85\",\"#bfb6ba\",\"#acc667\",\"#6469cf\",\"#91af00\",\"#2be2da\",\"#016e36\",\"#ff7952\",\"#42807e\",\"#4fe800\",\"#995428\",\"#5d0a00\",\"#a30057\",\"#0c8700\",\"#5982a7\",\"#ffebfb\",\"#4b6901\",\"#8775d4\",\"#e6c6ff\",\"#a5ffda\",\"#d86e77\",\"#df014b\",\"#69675b\",\"#776ba1\",\"#7e8067\",\"#594685\",\"#0000ca\",\"#7c002a\",\"#97ff72\",\"#b5e2e1\",\"#db52c8\",\"#777734\",\"#57bd8e\"]},\"id\":\"1136\",\"type\":\"CategoricalColorMapper\"},{\"attributes\":{},\"id\":\"1107\",\"type\":\"DataRange1d\"},{\"attributes\":{\"data\":{\"__label\":[\"mo0\",\"mo3\",\"mo6\",\"mo9\",\"mo12\",\"mo15\",\"mo18\",\"mo21\",\"mo24\"],\"bottom\":[162.25,188.0,231.75,248.25,205.75,181.0,176.0,219.25,218.75],\"bottom_whisker\":[76.0,114.0,65.0,34.0,49.0,44.0,43.0,49.0,51.0],\"cat\":[\"mo0\",\"mo3\",\"mo6\",\"mo9\",\"mo12\",\"mo15\",\"mo18\",\"mo21\",\"mo24\"],\"middle\":[213.0,277.0,300.0,323.5,281.0,267.0,305.0,279.0,281.5],\"top\":[286.5,339.5,386.5,405.25,380.75,371.5,367.0,366.75,453.25],\"top_whisker\":[432.0,502.0,591.0,570.0,527.0,484.0,523.0,545.0,746.0]},\"selected\":{\"id\":\"1195\"},\"selection_policy\":{\"id\":\"1194\"}},\"id\":\"1145\",\"type\":\"ColumnDataSource\"},{\"attributes\":{\"bottom\":{\"field\":\"bottom_whisker\"},\"fill_alpha\":{\"value\":0.1},\"fill_color\":{\"value\":\"#1f77b4\"},\"line_alpha\":{\"value\":0.1},\"line_color\":{\"value\":\"gray\"},\"top\":{\"field\":\"bottom_whisker\"},\"width\":{\"value\":0.1},\"x\":{\"field\":\"cat\"}},\"id\":\"1164\",\"type\":\"VBar\"},{\"attributes\":{},\"id\":\"1124\",\"type\":\"ResetTool\"},{\"attributes\":{\"callback\":null,\"tooltips\":[[\"ctx level\",\"@{ctx (pg/ml)} pg/ml\"]]},\"id\":\"1134\",\"type\":\"HoverTool\"},{\"attributes\":{\"bottom\":{\"field\":\"top_whisker\"},\"fill_color\":{\"value\":\"#1f77b4\"},\"line_color\":{\"value\":\"gray\"},\"top\":{\"field\":\"top_whisker\"},\"width\":{\"value\":0.1},\"x\":{\"field\":\"cat\"}},\"id\":\"1158\",\"type\":\"VBar\"},{\"attributes\":{\"bottom\":{\"field\":\"bottom_whisker\"},\"fill_color\":{\"value\":\"#1f77b4\"},\"line_color\":{\"value\":\"gray\"},\"top\":{\"field\":\"bottom_whisker\"},\"width\":{\"value\":0.1},\"x\":{\"field\":\"cat\"}},\"id\":\"1163\",\"type\":\"VBar\"},{\"attributes\":{},\"id\":\"1120\",\"type\":\"PanTool\"},{\"attributes\":{\"line_color\":{\"value\":\"gray\"},\"x0\":{\"field\":\"cat\"},\"x1\":{\"field\":\"cat\"},\"y0\":{\"field\":\"top\"},\"y1\":{\"field\":\"top_whisker\"}},\"id\":\"1148\",\"type\":\"Segment\"},{\"attributes\":{},\"id\":\"1121\",\"type\":\"WheelZoomTool\"},{\"attributes\":{\"formatter\":{\"id\":\"1189\"},\"ticker\":{\"id\":\"1114\"}},\"id\":\"1113\",\"type\":\"CategoricalAxis\"},{\"attributes\":{\"overlay\":{\"id\":\"1126\"}},\"id\":\"1122\",\"type\":\"BoxZoomTool\"},{\"attributes\":{},\"id\":\"1123\",\"type\":\"SaveTool\"},{\"attributes\":{\"bottom\":{\"field\":\"middle\"},\"fill_color\":{\"value\":\"#1f77b4\"},\"line_color\":{\"value\":\"gray\"},\"top\":{\"field\":\"middle\"},\"width\":{\"value\":0.4},\"x\":{\"field\":\"cat\"}},\"id\":\"1173\",\"type\":\"VBar\"},{\"attributes\":{\"line_alpha\":{\"value\":0.1},\"line_color\":{\"value\":\"gray\"},\"x0\":{\"field\":\"cat\"},\"x1\":{\"field\":\"cat\"},\"y0\":{\"field\":\"top\"},\"y1\":{\"field\":\"top_whisker\"}},\"id\":\"1149\",\"type\":\"Segment\"},{\"attributes\":{\"distribution\":\"normal\",\"range\":{\"id\":\"1104\"},\"width\":0.1},\"id\":\"1138\",\"type\":\"Jitter\"},{\"attributes\":{},\"id\":\"1191\",\"type\":\"BasicTickFormatter\"},{\"attributes\":{},\"id\":\"1109\",\"type\":\"CategoricalScale\"},{\"attributes\":{\"source\":{\"id\":\"1145\"}},\"id\":\"1171\",\"type\":\"CDSView\"},{\"attributes\":{},\"id\":\"1192\",\"type\":\"UnionRenderers\"},{\"attributes\":{},\"id\":\"1111\",\"type\":\"LinearScale\"}],\"root_ids\":[\"1105\"]},\"title\":\"Bokeh Application\",\"version\":\"2.1.0\"}};\n",
       "  var render_items = [{\"docid\":\"44afaab2-319a-47a6-a0fe-758240846433\",\"root_ids\":[\"1105\"],\"roots\":{\"1105\":\"e89b6ca8-a27a-4aac-947f-b91b8951b7ea\"}}];\n",
       "  root.Bokeh.embed.embed_items_notebook(docs_json, render_items);\n",
       "\n",
       "  }\n",
       "  if (root.Bokeh !== undefined) {\n",
       "    embed_document(root);\n",
       "  } else {\n",
       "    var attempts = 0;\n",
       "    var timer = setInterval(function(root) {\n",
       "      if (root.Bokeh !== undefined) {\n",
       "        clearInterval(timer);\n",
       "        embed_document(root);\n",
       "      } else {\n",
       "        attempts++;\n",
       "        if (attempts > 100) {\n",
       "          clearInterval(timer);\n",
       "          console.log(\"Bokeh: ERROR: Unable to run BokehJS code because BokehJS library is missing\");\n",
       "        }\n",
       "      }\n",
       "    }, 10, root)\n",
       "  }\n",
       "})(window);"
      ],
      "application/vnd.bokehjs_exec.v0+json": ""
     },
     "metadata": {
      "application/vnd.bokehjs_exec.v0+json": {
       "id": "1105"
      }
     },
     "output_type": "display_data"
    }
   ],
   "source": [
    "p = bokeh_catplot.strip(\n",
    "    data=df,\n",
    "    cats='ID',\n",
    "    val='ctx (pg/ml)',\n",
    "    horizontal=False,\n",
    "    jitter=True,\n",
    "    frame_height=250,\n",
    "    tooltips=[\n",
    "        ('ctx level', '@{ctx (pg/ml)} pg/ml')\n",
    "     ],\n",
    ")\n",
    "\n",
    "p = bokeh_catplot.box(\n",
    "    data=df,\n",
    "    cats='ID',\n",
    "    val='ctx (pg/ml)',\n",
    "    horizontal=False,\n",
    "    whisker_caps=True,\n",
    "    display_points=False,\n",
    "    box_kwargs=dict(fill_color=None, line_color='gray'),\n",
    "    median_kwargs=dict(line_color='gray'),\n",
    "    whisker_kwargs=dict(line_color='gray'),\n",
    "    p=p,\n",
    ")\n",
    "\n",
    "\n",
    "bokeh.io.show(p)\n"
   ]
  },
  {
   "cell_type": "code",
   "execution_count": 5,
   "metadata": {},
   "outputs": [
    {
     "data": {
      "text/html": [
       "\n",
       "\n",
       "\n",
       "\n",
       "\n",
       "\n",
       "  <div class=\"bk-root\" id=\"7f8673c7-802c-4051-ba63-c2e0052f1d7c\" data-root-id=\"1263\"></div>\n"
      ]
     },
     "metadata": {},
     "output_type": "display_data"
    },
    {
     "data": {
      "application/javascript": [
       "(function(root) {\n",
       "  function embed_document(root) {\n",
       "    \n",
       "  var docs_json = {\"ddd43a74-68e6-4d17-a3f1-6c00e82ed896\":{\"roots\":{\"references\":[{\"attributes\":{\"below\":[{\"id\":\"1272\"}],\"center\":[{\"id\":\"1275\"},{\"id\":\"1279\"},{\"id\":\"1309\"}],\"left\":[{\"id\":\"1276\"}],\"plot_height\":300,\"plot_width\":400,\"renderers\":[{\"id\":\"1298\"},{\"id\":\"1315\"},{\"id\":\"1333\"},{\"id\":\"1353\"},{\"id\":\"1375\"},{\"id\":\"1399\"},{\"id\":\"1425\"},{\"id\":\"1453\"},{\"id\":\"1483\"}],\"title\":{\"id\":\"1300\"},\"toolbar\":{\"id\":\"1287\"},\"x_range\":{\"id\":\"1264\"},\"x_scale\":{\"id\":\"1268\"},\"y_range\":{\"id\":\"1266\"},\"y_scale\":{\"id\":\"1270\"}},\"id\":\"1263\",\"subtype\":\"Figure\",\"type\":\"Plot\"},{\"attributes\":{\"text\":\"\"},\"id\":\"1300\",\"type\":\"Title\"},{\"attributes\":{\"data\":{\"ID\":[\"mo24\",\"mo24\",\"mo24\",\"mo24\",\"mo24\",\"mo24\",\"mo24\",\"mo24\",\"mo24\",\"mo24\",\"mo24\",\"mo24\",\"mo24\",\"mo24\",\"mo24\",\"mo24\",\"mo24\",\"mo24\",\"mo24\",\"mo24\",\"mo24\",\"mo24\",\"mo24\",\"mo24\",\"mo24\",\"mo24\"],\"__ECDF\":{\"__ndarray__\":\"CXRgW8J07z/SnkWgA9uiPwe2JUz3i+8/OfLyUe927D9HXj7q3Y7rP8Qy+gcVw9M/ai7AV+dh2T8QKoanuQDvP3Amq5QTBck/5IYGV4jE4T+0CHRgW8LkPwAAAAAAAPA/YPwk7VkE6j9AqBie5gLsP+p+8ZO0Z5E/VsqJgsym2j8ZnuYCfHXeP4PMplpj1+c/LQId2JYw3T9YRv+gYnjqPz0so39QMew/mO4XP0l71j91HpbRP6i4P+z6ZrJKOdE/exaBDmxLyD8TpvvFT9LePw==\",\"dtype\":\"float64\",\"order\":\"little\",\"shape\":[26]},\"__label\":[\"mo24\",\"mo24\",\"mo24\",\"mo24\",\"mo24\",\"mo24\",\"mo24\",\"mo24\",\"mo24\",\"mo24\",\"mo24\",\"mo24\",\"mo24\",\"mo24\",\"mo24\",\"mo24\",\"mo24\",\"mo24\",\"mo24\",\"mo24\",\"mo24\",\"mo24\",\"mo24\",\"mo24\",\"mo24\",\"mo24\"],\"ctx (pg/ml)\":[746,99,746,466,439,216,248,689,171,294,328,1335,400,458,51,251,267,360,262,407,461,227,136,200,169,269],\"index\":[327,328,329,330,331,332,333,334,335,336,337,338,339,340,341,342,343,344,345,346,347,348,349,350,351,352]},\"selected\":{\"id\":\"1508\"},\"selection_policy\":{\"id\":\"1507\"}},\"id\":\"1479\",\"type\":\"ColumnDataSource\"},{\"attributes\":{\"data_source\":{\"id\":\"1294\"},\"glyph\":{\"id\":\"1296\"},\"hover_glyph\":null,\"muted_glyph\":null,\"nonselection_glyph\":{\"id\":\"1297\"},\"selection_glyph\":null,\"view\":{\"id\":\"1299\"}},\"id\":\"1298\",\"type\":\"GlyphRenderer\"},{\"attributes\":{\"data\":{\"ID\":[\"mo21\",\"mo21\",\"mo21\",\"mo21\",\"mo21\",\"mo21\",\"mo21\",\"mo21\",\"mo21\",\"mo21\",\"mo21\",\"mo21\",\"mo21\",\"mo21\",\"mo21\",\"mo21\",\"mo21\",\"mo21\",\"mo21\",\"mo21\",\"mo21\",\"mo21\",\"mo21\",\"mo21\",\"mo21\",\"mo21\",\"mo21\",\"mo21\"],\"__ECDF\":{\"__ndarray__\":\"i0AHtiVM5z+7vpmsUk6kP4qCzKZaY+c/WEb/oGJ42j9hul/8JO3pP0dePurdjqs/gFAxPM0F6D/hCpE48vLRPw9sS5juF+8/Da4QiSMv7z/1bscNDa7AP5S0ZxHowOY/Jwoym2qN3T8TpvvFT9LuP8oq5URBZuM/dGBbwnS/6D8wfpL2LAKNP9Uau76ZrNI/Purdjhsa3D94mgvw1XnYP7JKOVGQ2dQ/ThRkNtUa6z+rlBMFmU3lP82mWmPXN9M/M/oHFcPT3D8cGlwhEkfuP+EKkTjy8uE/bao1dn0z2T8=\",\"dtype\":\"float64\",\"order\":\"little\",\"shape\":[28]},\"__label\":[\"mo21\",\"mo21\",\"mo21\",\"mo21\",\"mo21\",\"mo21\",\"mo21\",\"mo21\",\"mo21\",\"mo21\",\"mo21\",\"mo21\",\"mo21\",\"mo21\",\"mo21\",\"mo21\",\"mo21\",\"mo21\",\"mo21\",\"mo21\",\"mo21\",\"mo21\",\"mo21\",\"mo21\",\"mo21\",\"mo21\",\"mo21\",\"mo21\"],\"ctx (pg/ml)\":[356,101,356,251,398,116,363,202,701,711,148,349,263,674,315,378,49,207,257,239,222,426,331,211,261,545,295,248],\"index\":[299,300,301,302,303,304,305,306,307,308,309,310,311,312,313,314,315,316,317,318,319,320,321,322,323,324,325,326]},\"selected\":{\"id\":\"1476\"},\"selection_policy\":{\"id\":\"1475\"}},\"id\":\"1449\",\"type\":\"ColumnDataSource\"},{\"attributes\":{\"fill_color\":{\"value\":\"#1f77b3\"},\"line_color\":{\"value\":\"#1f77b3\"},\"x\":{\"field\":\"ctx (pg/ml)\"},\"y\":{\"field\":\"__ECDF\"}},\"id\":\"1296\",\"type\":\"Circle\"},{\"attributes\":{\"active_drag\":\"auto\",\"active_inspect\":\"auto\",\"active_multi\":null,\"active_scroll\":\"auto\",\"active_tap\":\"auto\",\"tools\":[{\"id\":\"1280\"},{\"id\":\"1281\"},{\"id\":\"1282\"},{\"id\":\"1283\"},{\"id\":\"1284\"},{\"id\":\"1285\"}]},\"id\":\"1287\",\"type\":\"Toolbar\"},{\"attributes\":{},\"id\":\"1303\",\"type\":\"BasicTickFormatter\"},{\"attributes\":{\"bottom_units\":\"screen\",\"fill_alpha\":0.5,\"fill_color\":\"lightgrey\",\"left_units\":\"screen\",\"level\":\"overlay\",\"line_alpha\":1.0,\"line_color\":\"black\",\"line_dash\":[4,4],\"line_width\":2,\"right_units\":\"screen\",\"top_units\":\"screen\"},\"id\":\"1286\",\"type\":\"BoxAnnotation\"},{\"attributes\":{\"label\":{\"value\":\"mo9\"},\"renderers\":[{\"id\":\"1353\"}]},\"id\":\"1370\",\"type\":\"LegendItem\"},{\"attributes\":{\"source\":{\"id\":\"1479\"}},\"id\":\"1484\",\"type\":\"CDSView\"},{\"attributes\":{},\"id\":\"1508\",\"type\":\"Selection\"},{\"attributes\":{\"data_source\":{\"id\":\"1479\"},\"glyph\":{\"id\":\"1481\"},\"hover_glyph\":null,\"muted_glyph\":null,\"nonselection_glyph\":{\"id\":\"1482\"},\"selection_glyph\":null,\"view\":{\"id\":\"1484\"}},\"id\":\"1483\",\"type\":\"GlyphRenderer\"},{\"attributes\":{},\"id\":\"1367\",\"type\":\"UnionRenderers\"},{\"attributes\":{\"click_policy\":\"hide\",\"items\":[{\"id\":\"1310\"},{\"id\":\"1328\"},{\"id\":\"1348\"},{\"id\":\"1370\"},{\"id\":\"1394\"},{\"id\":\"1420\"},{\"id\":\"1448\"},{\"id\":\"1478\"},{\"id\":\"1510\"}],\"location\":\"bottom_right\"},\"id\":\"1309\",\"type\":\"Legend\"},{\"attributes\":{\"fill_alpha\":{\"value\":0.1},\"fill_color\":{\"value\":\"#1f77b3\"},\"line_alpha\":{\"value\":0.1},\"line_color\":{\"value\":\"#1f77b3\"},\"x\":{\"field\":\"ctx (pg/ml)\"},\"y\":{\"field\":\"__ECDF\"}},\"id\":\"1297\",\"type\":\"Circle\"},{\"attributes\":{\"source\":{\"id\":\"1294\"}},\"id\":\"1299\",\"type\":\"CDSView\"},{\"attributes\":{\"fill_alpha\":{\"value\":0.1},\"fill_color\":{\"value\":\"#ff7e0e\"},\"line_alpha\":{\"value\":0.1},\"line_color\":{\"value\":\"#ff7e0e\"},\"x\":{\"field\":\"ctx (pg/ml)\"},\"y\":{\"field\":\"__ECDF\"}},\"id\":\"1314\",\"type\":\"Circle\"},{\"attributes\":{\"label\":{\"value\":\"mo24\"},\"renderers\":[{\"id\":\"1483\"}]},\"id\":\"1510\",\"type\":\"LegendItem\"},{\"attributes\":{\"fill_color\":{\"value\":\"#ff7e0e\"},\"line_color\":{\"value\":\"#ff7e0e\"},\"x\":{\"field\":\"ctx (pg/ml)\"},\"y\":{\"field\":\"__ECDF\"}},\"id\":\"1313\",\"type\":\"Circle\"},{\"attributes\":{\"data_source\":{\"id\":\"1311\"},\"glyph\":{\"id\":\"1313\"},\"hover_glyph\":null,\"muted_glyph\":null,\"nonselection_glyph\":{\"id\":\"1314\"},\"selection_glyph\":null,\"view\":{\"id\":\"1316\"}},\"id\":\"1315\",\"type\":\"GlyphRenderer\"},{\"attributes\":{},\"id\":\"1273\",\"type\":\"BasicTicker\"},{\"attributes\":{},\"id\":\"1307\",\"type\":\"Selection\"},{\"attributes\":{\"data\":{\"ID\":[\"mo0\",\"mo0\",\"mo0\",\"mo0\",\"mo0\",\"mo0\",\"mo0\",\"mo0\",\"mo0\",\"mo0\",\"mo0\",\"mo0\",\"mo0\",\"mo0\",\"mo0\",\"mo0\",\"mo0\",\"mo0\",\"mo0\",\"mo0\",\"mo0\",\"mo0\",\"mo0\",\"mo0\",\"mo0\",\"mo0\",\"mo0\",\"mo0\",\"mo0\",\"mo0\",\"mo0\",\"mo0\",\"mo0\",\"mo0\",\"mo0\",\"mo0\",\"mo0\",\"mo0\",\"mo0\",\"mo0\",\"mo0\",\"mo0\",\"mo0\",\"mo0\",\"mo0\",\"mo0\",\"mo0\",\"mo0\",\"mo0\",\"mo0\",\"mo0\",\"mo0\",\"mo0\",\"mo0\",\"mo0\",\"mo0\"],\"__ECDF\":{\"__ndarray__\":\"uEIkjrx81D+S9iwCHdjGP57mAnx1HuY/B7YlTPeL3z/vdtzQ4ArhP0dePurdjrs/7Ppmsko54T/SnkWgA9uyP14+6t2OG5o/9W7HDQ2u0D+k3u24ocGlPxYiceTlo94/4sjLR73b4T87bmhwhUi8Pwe2JUz3i88/wbaE6X7x0z9E4sjLR73bP746D8voH9Q//uInac8i0D+EiuFpLsDXPztuaHCFSMw/FiJx5OWj7j+nWmPXN5PlP43+QcXwNMc/zyLQgW0J0z/bEqb7xU/iP01WKScKMts/hwZXiMSRxz9HXj7q3Y7LP01WKScKMus/6n7xk7RnoT+Y7hc/SXvGP96OGxpcIbI/9W7HDQ2usD8NrhCJIy+/PzB+kvYsAp0/dR6W0T+oyD+k3u24ocHlPyESR14+6t0/c6Igs6nW2D/46jwso3/QPzB+kvYsAr0/jf5BxfA0lz91HpbRP6ioP33Uux03NOg/HpbRP6gYzj9K2rMIdGDbP+923NDgCsE/nuYCfHUexj+arFJOFGTmP3fc0OAKkeg/sko5UZDZ5D8mTPeLn6TtPwG+Og/L6N8/hwZXiMSR1z+9fNS7HTfkPw==\",\"dtype\":\"float64\",\"order\":\"little\",\"shape\":[56]},\"__label\":[\"mo0\",\"mo0\",\"mo0\",\"mo0\",\"mo0\",\"mo0\",\"mo0\",\"mo0\",\"mo0\",\"mo0\",\"mo0\",\"mo0\",\"mo0\",\"mo0\",\"mo0\",\"mo0\",\"mo0\",\"mo0\",\"mo0\",\"mo0\",\"mo0\",\"mo0\",\"mo0\",\"mo0\",\"mo0\",\"mo0\",\"mo0\",\"mo0\",\"mo0\",\"mo0\",\"mo0\",\"mo0\",\"mo0\",\"mo0\",\"mo0\",\"mo0\",\"mo0\",\"mo0\",\"mo0\",\"mo0\",\"mo0\",\"mo0\",\"mo0\",\"mo0\",\"mo0\",\"mo0\",\"mo0\",\"mo0\",\"mo0\",\"mo0\",\"mo0\",\"mo0\",\"mo0\",\"mo0\",\"mo0\",\"mo0\"],\"ctx (pg/ml)\":[222,168,341,275,285,140,291,126,85,199,110,268,295,142,191,217,257,217,195,236,181,599,335,168,209,301,256,168,179,432,96,167,125,121,147,89,171,338,265,243,198,142,76,113,370,187,256,151,166,342,375,329,518,277,233,323],\"index\":[0,1,2,3,4,5,6,7,8,9,10,11,12,13,14,15,16,17,18,19,20,21,22,23,24,25,26,27,28,29,30,31,32,33,34,35,36,37,38,39,40,41,42,43,44,45,46,47,48,49,50,51,52,53,54,55]},\"selected\":{\"id\":\"1307\"},\"selection_policy\":{\"id\":\"1306\"}},\"id\":\"1294\",\"type\":\"ColumnDataSource\"},{\"attributes\":{\"source\":{\"id\":\"1449\"}},\"id\":\"1454\",\"type\":\"CDSView\"},{\"attributes\":{\"label\":{\"value\":\"mo0\"},\"renderers\":[{\"id\":\"1298\"}]},\"id\":\"1310\",\"type\":\"LegendItem\"},{\"attributes\":{\"data\":{\"ID\":[\"mo15\",\"mo15\",\"mo15\",\"mo15\",\"mo15\",\"mo15\",\"mo15\",\"mo15\",\"mo15\",\"mo15\",\"mo15\",\"mo15\",\"mo15\",\"mo15\",\"mo15\",\"mo15\",\"mo15\",\"mo15\",\"mo15\",\"mo15\",\"mo15\",\"mo15\",\"mo15\",\"mo15\",\"mo15\",\"mo15\",\"mo15\",\"mo15\",\"mo15\",\"mo15\",\"mo15\"],\"__ECDF\":{\"__ndarray__\":\"Xj7q3Y4buj9tqjV2fTPpPySOvHzUu90/hIrhaS7A5z+BDmxLmO63PzB+kvYsAq0/ZDbVGru+2T/bEqb7xU/SPwzw1XlYRu8/9W7HDQ2u4D9dgK/OwzLqP/SwjP5BxeA/a+z6ZrJK6T8ZnuYCfHW+P7hCJI68fOQ/30xWKScK4j/qfvGTtGeBP6CkPYtAB+Y/M/oHFcPT7D+1xq5vJqvEP1NOFGQ21co/HBpcIRJH3j+bao1d30zWPyqGp7kAX80/t4TpfvGT5D8+6t2OGxrsP7DOwzL6B8U/V4jEkZeP6j/nAnx1HpbRP6rW2PXNZNU/LETiyMtH7T8=\",\"dtype\":\"float64\",\"order\":\"little\",\"shape\":[31]},\"__label\":[\"mo15\",\"mo15\",\"mo15\",\"mo15\",\"mo15\",\"mo15\",\"mo15\",\"mo15\",\"mo15\",\"mo15\",\"mo15\",\"mo15\",\"mo15\",\"mo15\",\"mo15\",\"mo15\",\"mo15\",\"mo15\",\"mo15\",\"mo15\",\"mo15\",\"mo15\",\"mo15\",\"mo15\",\"mo15\",\"mo15\",\"mo15\",\"mo15\",\"mo15\",\"mo15\",\"mo15\"],\"ctx (pg/ml)\":[138,385,264,358,136,117,249,206,713,282,404,282,387,145,327,299,44,340,472,162,177,267,226,185,327,460,162,411,201,223,484],\"index\":[237,238,239,240,241,242,243,244,245,246,247,248,249,250,251,252,253,254,255,256,257,258,259,260,261,262,263,264,265,266,267]},\"selected\":{\"id\":\"1418\"},\"selection_policy\":{\"id\":\"1417\"}},\"id\":\"1395\",\"type\":\"ColumnDataSource\"},{\"attributes\":{\"data\":{\"ID\":[\"mo18\",\"mo18\",\"mo18\",\"mo18\",\"mo18\",\"mo18\",\"mo18\",\"mo18\",\"mo18\",\"mo18\",\"mo18\",\"mo18\",\"mo18\",\"mo18\",\"mo18\",\"mo18\",\"mo18\",\"mo18\",\"mo18\",\"mo18\",\"mo18\",\"mo18\",\"mo18\",\"mo18\",\"mo18\",\"mo18\",\"mo18\",\"mo18\",\"mo18\",\"mo18\",\"mo18\"],\"__ECDF\":{\"__ndarray__\":\"wnS/+Ena4z/qfvGTtGexPxHowLaE6e4/u76ZrFJO1D94mgvw1XnoP1hG/6BieMo/0p5FoAPbwj/VGru+maziP01WKScKMss/xfA0F+Cr4z9E4sjLR73rPwoym2qNXe8/0p5FoAPb0j+7vpmsUk7kP85klXKiIOM/jf5BxfA0dz+BDmxLmO7nP4VIHHn5qOc/wbaE6X7xwz8BvjoPy+i/P0FmU62x69s/oWJ4mgvw1T/ejhsaXCHSP3Amq5QTBek/FGQ21Rq77j8gVAxPcwHuP8eubyarlLM/pN7tuKHBxT/y8lHvdtzQP5juFz9Je+Y/KchsqjV27T8=\",\"dtype\":\"float64\",\"order\":\"little\",\"shape\":[31]},\"__label\":[\"mo18\",\"mo18\",\"mo18\",\"mo18\",\"mo18\",\"mo18\",\"mo18\",\"mo18\",\"mo18\",\"mo18\",\"mo18\",\"mo18\",\"mo18\",\"mo18\",\"mo18\",\"mo18\",\"mo18\",\"mo18\",\"mo18\",\"mo18\",\"mo18\",\"mo18\",\"mo18\",\"mo18\",\"mo18\",\"mo18\",\"mo18\",\"mo18\",\"mo18\",\"mo18\",\"mo18\"],\"ctx (pg/ml)\":[318,122,678,221,372,175,156,305,177,317,447,742,208,324,312,43,362,357,160,147,257,225,203,382,655,523,128,165,199,342,493],\"index\":[268,269,270,271,272,273,274,275,276,277,278,279,280,281,282,283,284,285,286,287,288,289,290,291,292,293,294,295,296,297,298]},\"selected\":{\"id\":\"1446\"},\"selection_policy\":{\"id\":\"1445\"}},\"id\":\"1421\",\"type\":\"ColumnDataSource\"},{\"attributes\":{\"data\":{\"ID\":[\"mo12\",\"mo12\",\"mo12\",\"mo12\",\"mo12\",\"mo12\",\"mo12\",\"mo12\",\"mo12\",\"mo12\",\"mo12\",\"mo12\",\"mo12\",\"mo12\",\"mo12\",\"mo12\",\"mo12\",\"mo12\",\"mo12\",\"mo12\",\"mo12\",\"mo12\",\"mo12\",\"mo12\",\"mo12\",\"mo12\",\"mo12\",\"mo12\",\"mo12\",\"mo12\",\"mo12\",\"mo12\",\"mo12\",\"mo12\",\"mo12\",\"mo12\"],\"__ECDF\":{\"__ndarray__\":\"WgQ6sC1h6j8BvjoPy+ifPx6W0T+oGO4/UZDZVGvs6j+7vpmsUk60P8eubyarlMM/Da4QiSMv3z9+kvYsAh3YPwQ6sC1huu8/tcaubyar5D/khgZXiMTRPwoym2qNXd8/Xj7q3Y4b2j8qhqe5AF/dP9iWMN0vfuI/9ywCHdiW4D/vdtzQ4ArRP8oq5URBZtM/elhG/6Bi6D/UXICvzsPiP43+QcXwNIc/m2qNXd9M5j80uEIkjrzsP/jqPCyjf+A/+2aySjlRwD/owLaE6X7hP36S9iwCHeg/E6b7xU/Szj+ROPLyUe/mPyESR14+6u0/QWZTrbHr6z9K2rMIdGDrP6Te7bihwbU/2JYw3S9+0j9LmO4XP0nrP2eySjlRkNk/\",\"dtype\":\"float64\",\"order\":\"little\",\"shape\":[36]},\"__label\":[\"mo12\",\"mo12\",\"mo12\",\"mo12\",\"mo12\",\"mo12\",\"mo12\",\"mo12\",\"mo12\",\"mo12\",\"mo12\",\"mo12\",\"mo12\",\"mo12\",\"mo12\",\"mo12\",\"mo12\",\"mo12\",\"mo12\",\"mo12\",\"mo12\",\"mo12\",\"mo12\",\"mo12\",\"mo12\",\"mo12\",\"mo12\",\"mo12\",\"mo12\",\"mo12\",\"mo12\",\"mo12\",\"mo12\",\"mo12\",\"mo12\",\"mo12\"],\"ctx (pg/ml)\":[407,95,527,425,131,160,271,237,794,328,202,271,250,263,302,282,200,212,372,306,49,341,471,280,148,291,364,189,351,519,456,433,133,207,432,249],\"index\":[201,202,203,204,205,206,207,208,209,210,211,212,213,214,215,216,217,218,219,220,221,222,223,224,225,226,227,228,229,230,231,232,233,234,235,236]},\"selected\":{\"id\":\"1392\"},\"selection_policy\":{\"id\":\"1391\"}},\"id\":\"1371\",\"type\":\"ColumnDataSource\"},{\"attributes\":{\"label\":{\"value\":\"mo15\"},\"renderers\":[{\"id\":\"1399\"}]},\"id\":\"1420\",\"type\":\"LegendItem\"},{\"attributes\":{},\"id\":\"1368\",\"type\":\"Selection\"},{\"attributes\":{\"fill_alpha\":{\"value\":0.1},\"fill_color\":{\"value\":\"#8c564b\"},\"line_alpha\":{\"value\":0.1},\"line_color\":{\"value\":\"#8c564b\"},\"x\":{\"field\":\"ctx (pg/ml)\"},\"y\":{\"field\":\"__ECDF\"}},\"id\":\"1398\",\"type\":\"Circle\"},{\"attributes\":{\"data_source\":{\"id\":\"1329\"},\"glyph\":{\"id\":\"1331\"},\"hover_glyph\":null,\"muted_glyph\":null,\"nonselection_glyph\":{\"id\":\"1332\"},\"selection_glyph\":null,\"view\":{\"id\":\"1334\"}},\"id\":\"1333\",\"type\":\"GlyphRenderer\"},{\"attributes\":{\"data\":{\"ID\":[\"mo9\",\"mo9\",\"mo9\",\"mo9\",\"mo9\",\"mo9\",\"mo9\",\"mo9\",\"mo9\",\"mo9\",\"mo9\",\"mo9\",\"mo9\",\"mo9\",\"mo9\",\"mo9\",\"mo9\",\"mo9\",\"mo9\",\"mo9\",\"mo9\",\"mo9\",\"mo9\",\"mo9\",\"mo9\",\"mo9\",\"mo9\",\"mo9\",\"mo9\",\"mo9\",\"mo9\",\"mo9\",\"mo9\",\"mo9\",\"mo9\",\"mo9\",\"mo9\",\"mo9\",\"mo9\",\"mo9\",\"mo9\",\"mo9\"],\"__ECDF\":{\"__ndarray__\":\"lzDdL36S5j+N/kHF8DSnPwN8dR6W0e8/MTzNBfjq7D8G+Oo8LKPvP7DOwzL6B+U/Xj7q3Y4b6j8kjrx81Lu9P+p+8ZO0Z8E/rhCJIy8f5T+tUk4UZDbVPwG+Og/L6O8/kHq344YG5z/Hrm8mq5TTP8G2hOl+8eM/ugBfnYdl5D/PItCBbQnjP2ouwFfnYek/v/hJ2rMI5D/+4idpzyLgP43+QcXwNGc/hwZXiMSR5z9TThRkNtXqPzB+kvYsAs0/ECqGp7kA3z8eltE/qBjeP746D8voH+Q/dR6W0T+o2D/SnkWgA9viP+VEQWZTreE/NzS4QiSO7D9GoAPbEqbrP6Te7bihwdU/Ab46D8vorz9UDE9zAb7qPxme5gJ8de4/oWJ4mgvw5T/EMvoHFcPjPzZ2fTNZpcw/W8J0v/hJ6j+S9iwCHdjmPzB+kvYsAu0/\",\"dtype\":\"float64\",\"order\":\"little\",\"shape\":[42]},\"__label\":[\"mo9\",\"mo9\",\"mo9\",\"mo9\",\"mo9\",\"mo9\",\"mo9\",\"mo9\",\"mo9\",\"mo9\",\"mo9\",\"mo9\",\"mo9\",\"mo9\",\"mo9\",\"mo9\",\"mo9\",\"mo9\",\"mo9\",\"mo9\",\"mo9\",\"mo9\",\"mo9\",\"mo9\",\"mo9\",\"mo9\",\"mo9\",\"mo9\",\"mo9\",\"mo9\",\"mo9\",\"mo9\",\"mo9\",\"mo9\",\"mo9\",\"mo9\",\"mo9\",\"mo9\",\"mo9\",\"mo9\",\"mo9\",\"mo9\"],\"ctx (pg/ml)\":[347,112,800,476,752,329,403,145,151,329,223,827,352,216,319,325,312,390,321,278,34,357,424,183,271,267,322,242,309,294,468,442,225,120,422,570,338,318,182,406,351,478],\"index\":[159,160,161,162,163,164,165,166,167,168,169,170,171,172,173,174,175,176,177,178,179,180,181,182,183,184,185,186,187,188,189,190,191,192,193,194,195,196,197,198,199,200]},\"selected\":{\"id\":\"1368\"},\"selection_policy\":{\"id\":\"1367\"}},\"id\":\"1349\",\"type\":\"ColumnDataSource\"},{\"attributes\":{\"data\":{\"ID\":[\"mo6\",\"mo6\",\"mo6\",\"mo6\",\"mo6\",\"mo6\",\"mo6\",\"mo6\",\"mo6\",\"mo6\",\"mo6\",\"mo6\",\"mo6\",\"mo6\",\"mo6\",\"mo6\",\"mo6\",\"mo6\",\"mo6\",\"mo6\",\"mo6\",\"mo6\",\"mo6\",\"mo6\",\"mo6\",\"mo6\",\"mo6\",\"mo6\",\"mo6\",\"mo6\",\"mo6\",\"mo6\",\"mo6\",\"mo6\",\"mo6\",\"mo6\",\"mo6\",\"mo6\",\"mo6\",\"mo6\",\"mo6\",\"mo6\",\"mo6\",\"mo6\",\"mo6\",\"mo6\",\"mo6\",\"mo6\"],\"__ECDF\":{\"__ndarray__\":\"iMSRl4965z+7vpmsUk6UPy0CHdiWMO0/JI68fNS77T8X4KvzsIzuP3sWgQ5sS9g/3o4bGlwh4j/Nplpj1zfDP14+6t2OG8o/MH6S9iwC3T+Y7hc/SXu2PyqGp7kAX+0/6n7xk7Rn4T+KgsymWmPXP9HgCpE48uI/lXKiILOp1j+N/kHF8DTnP8hsqjV2feM/ZvQPKoan6T/aVGvs+mbiP1vCdL/4Sdo/3NDgCpE44j/y8lHvdtzgP2Q21Rq7vuk/OfLyUe923D9nsko5UZDpPxme5gJ8dc4/6n7xk7Rn0T82dn0zWaXcP/modztuaOA/Ab46D8vozz+QerfjhgbXP5VyoiCzqeY/VsqJgsym6j91HpbRP6joPzqwLWG6X+w/jf5BxfA01z9TThRkNtW6P1NOFGQ21do/HdiWMN0v7j8aXCESR17uP7GM/kHF8OQ/jf5BxfA0tz9uaHCFSBzpP8voH1QMT+M/x65vJquU4z8j0IFtCdPtP2G6X/wk7dk/\",\"dtype\":\"float64\",\"order\":\"little\",\"shape\":[48]},\"__label\":[\"mo6\",\"mo6\",\"mo6\",\"mo6\",\"mo6\",\"mo6\",\"mo6\",\"mo6\",\"mo6\",\"mo6\",\"mo6\",\"mo6\",\"mo6\",\"mo6\",\"mo6\",\"mo6\",\"mo6\",\"mo6\",\"mo6\",\"mo6\",\"mo6\",\"mo6\",\"mo6\",\"mo6\",\"mo6\",\"mo6\",\"mo6\",\"mo6\",\"mo6\",\"mo6\",\"mo6\",\"mo6\",\"mo6\",\"mo6\",\"mo6\",\"mo6\",\"mo6\",\"mo6\",\"mo6\",\"mo6\",\"mo6\",\"mo6\",\"mo6\",\"mo6\",\"mo6\",\"mo6\",\"mo6\",\"mo6\"],\"ctx (pg/ml)\":[357,65,483,518,591,239,300,158,174,262,134,486,291,232,310,228,355,317,392,301,251,300,283,392,258,391,188,201,259,279,191,231,348,412,377,464,231,139,253,542,560,329,134,385,315,317,518,250],\"index\":[111,112,113,114,115,116,117,118,119,120,121,122,123,124,125,126,127,128,129,130,131,132,133,134,135,136,137,138,139,140,141,142,143,144,145,146,147,148,149,150,151,152,153,154,155,156,157,158]},\"selected\":{\"id\":\"1346\"},\"selection_policy\":{\"id\":\"1345\"}},\"id\":\"1329\",\"type\":\"ColumnDataSource\"},{\"attributes\":{\"fill_alpha\":{\"value\":0.1},\"fill_color\":{\"value\":\"#7e7e7e\"},\"line_alpha\":{\"value\":0.1},\"line_color\":{\"value\":\"#7e7e7e\"},\"x\":{\"field\":\"ctx (pg/ml)\"},\"y\":{\"field\":\"__ECDF\"}},\"id\":\"1452\",\"type\":\"Circle\"},{\"attributes\":{\"data_source\":{\"id\":\"1349\"},\"glyph\":{\"id\":\"1351\"},\"hover_glyph\":null,\"muted_glyph\":null,\"nonselection_glyph\":{\"id\":\"1352\"},\"selection_glyph\":null,\"view\":{\"id\":\"1354\"}},\"id\":\"1353\",\"type\":\"GlyphRenderer\"},{\"attributes\":{},\"id\":\"1345\",\"type\":\"UnionRenderers\"},{\"attributes\":{},\"id\":\"1417\",\"type\":\"UnionRenderers\"},{\"attributes\":{},\"id\":\"1507\",\"type\":\"UnionRenderers\"},{\"attributes\":{\"data_source\":{\"id\":\"1395\"},\"glyph\":{\"id\":\"1397\"},\"hover_glyph\":null,\"muted_glyph\":null,\"nonselection_glyph\":{\"id\":\"1398\"},\"selection_glyph\":null,\"view\":{\"id\":\"1400\"}},\"id\":\"1399\",\"type\":\"GlyphRenderer\"},{\"attributes\":{\"source\":{\"id\":\"1329\"}},\"id\":\"1334\",\"type\":\"CDSView\"},{\"attributes\":{},\"id\":\"1305\",\"type\":\"BasicTickFormatter\"},{\"attributes\":{\"fill_alpha\":{\"value\":0.1},\"fill_color\":{\"value\":\"#9367bc\"},\"line_alpha\":{\"value\":0.1},\"line_color\":{\"value\":\"#9367bc\"},\"x\":{\"field\":\"ctx (pg/ml)\"},\"y\":{\"field\":\"__ECDF\"}},\"id\":\"1374\",\"type\":\"Circle\"},{\"attributes\":{\"label\":{\"value\":\"mo12\"},\"renderers\":[{\"id\":\"1375\"}]},\"id\":\"1394\",\"type\":\"LegendItem\"},{\"attributes\":{},\"id\":\"1475\",\"type\":\"UnionRenderers\"},{\"attributes\":{\"data_source\":{\"id\":\"1421\"},\"glyph\":{\"id\":\"1423\"},\"hover_glyph\":null,\"muted_glyph\":null,\"nonselection_glyph\":{\"id\":\"1424\"},\"selection_glyph\":null,\"view\":{\"id\":\"1426\"}},\"id\":\"1425\",\"type\":\"GlyphRenderer\"},{\"attributes\":{\"fill_color\":{\"value\":\"#7e7e7e\"},\"line_color\":{\"value\":\"#7e7e7e\"},\"x\":{\"field\":\"ctx (pg/ml)\"},\"y\":{\"field\":\"__ECDF\"}},\"id\":\"1451\",\"type\":\"Circle\"},{\"attributes\":{},\"id\":\"1264\",\"type\":\"DataRange1d\"},{\"attributes\":{\"fill_color\":{\"value\":\"#8c564b\"},\"line_color\":{\"value\":\"#8c564b\"},\"x\":{\"field\":\"ctx (pg/ml)\"},\"y\":{\"field\":\"__ECDF\"}},\"id\":\"1397\",\"type\":\"Circle\"},{\"attributes\":{\"label\":{\"value\":\"mo6\"},\"renderers\":[{\"id\":\"1333\"}]},\"id\":\"1348\",\"type\":\"LegendItem\"},{\"attributes\":{\"axis\":{\"id\":\"1272\"},\"ticker\":null},\"id\":\"1275\",\"type\":\"Grid\"},{\"attributes\":{\"fill_color\":{\"value\":\"#2ba02b\"},\"line_color\":{\"value\":\"#2ba02b\"},\"x\":{\"field\":\"ctx (pg/ml)\"},\"y\":{\"field\":\"__ECDF\"}},\"id\":\"1331\",\"type\":\"Circle\"},{\"attributes\":{\"fill_alpha\":{\"value\":0.1},\"fill_color\":{\"value\":\"#e277c1\"},\"line_alpha\":{\"value\":0.1},\"line_color\":{\"value\":\"#e277c1\"},\"x\":{\"field\":\"ctx (pg/ml)\"},\"y\":{\"field\":\"__ECDF\"}},\"id\":\"1424\",\"type\":\"Circle\"},{\"attributes\":{},\"id\":\"1306\",\"type\":\"UnionRenderers\"},{\"attributes\":{\"data\":{\"ID\":[\"mo3\",\"mo3\",\"mo3\",\"mo3\",\"mo3\",\"mo3\",\"mo3\",\"mo3\",\"mo3\",\"mo3\",\"mo3\",\"mo3\",\"mo3\",\"mo3\",\"mo3\",\"mo3\",\"mo3\",\"mo3\",\"mo3\",\"mo3\",\"mo3\",\"mo3\",\"mo3\",\"mo3\",\"mo3\",\"mo3\",\"mo3\",\"mo3\",\"mo3\",\"mo3\",\"mo3\",\"mo3\",\"mo3\",\"mo3\",\"mo3\",\"mo3\",\"mo3\",\"mo3\",\"mo3\",\"mo3\",\"mo3\",\"mo3\",\"mo3\",\"mo3\",\"mo3\",\"mo3\",\"mo3\",\"mo3\",\"mo3\",\"mo3\",\"mo3\",\"mo3\",\"mo3\",\"mo3\",\"mo3\"],\"__ECDF\":{\"__ndarray__\":\"pZwoyGyq5T8kjrx81LvNP/wk7VkEOuA/QySOvHzU6z8nCjKbao3tP/tmsko5UeA/nSjIbKo15j/YljDdL37CP14+6t2OG6o/O25ocIVI3D9qLsBX52G5Py7AV+dhGe0/c6Igs6nW6D+7vpmsUk7EP/+gYniaC+A/gQ5sS5ju1z9Q0p5FoAPrP2ouwFfnYck/zaZaY9c34z/xNBfgq/PgP61SThRkNuU/exaBDmxL6D+wzsMy+gfVP2Q21Rq7vsk/cCarlBMF2T/X2PXNZJXiP2N4mgvw1ek/UNKeRaAD2z+q1tj1zWTlP7DOwzL6B7U/5IYGV4jEwT+nWmPXN5PVP57mAnx1HtY/tcaubyar1D+q1tj1zWTFP+64ocEVIuE/O25ocIVI7D9HXj7q3Y7bP3Hk5aPe7eg/gQ5sS5juxz9BZlOtsevLPxme5gJ8da4/3o4bGlwhwj+oGJ7mAnzlP468fNS7Hec/NnZ9M1ml7D8NrhCJIy/PPwQ6sC1hut8/SRx5+ah36z/nAnx1HpbhP5L2LAId2NY/aHCFSBx56T/rPCyjf1DhP/tmsko5UdA/oiCzqdbY5T8=\",\"dtype\":\"float64\",\"order\":\"little\",\"shape\":[55]},\"__label\":[\"mo3\",\"mo3\",\"mo3\",\"mo3\",\"mo3\",\"mo3\",\"mo3\",\"mo3\",\"mo3\",\"mo3\",\"mo3\",\"mo3\",\"mo3\",\"mo3\",\"mo3\",\"mo3\",\"mo3\",\"mo3\",\"mo3\",\"mo3\",\"mo3\",\"mo3\",\"mo3\",\"mo3\",\"mo3\",\"mo3\",\"mo3\",\"mo3\",\"mo3\",\"mo3\",\"mo3\",\"mo3\",\"mo3\",\"mo3\",\"mo3\",\"mo3\",\"mo3\",\"mo3\",\"mo3\",\"mo3\",\"mo3\",\"mo3\",\"mo3\",\"mo3\",\"mo3\",\"mo3\",\"mo3\",\"mo3\",\"mo3\",\"mo3\",\"mo3\",\"mo3\",\"mo3\",\"mo3\",\"mo3\"],\"ctx (pg/ml)\":[336,186,279,452,502,279,341,156,114,258,137,480,382,162,277,236,426,173,315,284,330,370,223,173,243,305,395,255,333,132,153,224,226,222,165,290,464,256,382,168,180,120,153,334,355,470,190,276,437,292,230,391,291,196,338],\"index\":[56,57,58,59,60,61,62,63,64,65,66,67,68,69,70,71,72,73,74,75,76,77,78,79,80,81,82,83,84,85,86,87,88,89,90,91,92,93,94,95,96,97,98,99,100,101,102,103,104,105,106,107,108,109,110]},\"selected\":{\"id\":\"1326\"},\"selection_policy\":{\"id\":\"1325\"}},\"id\":\"1311\",\"type\":\"ColumnDataSource\"},{\"attributes\":{\"data_source\":{\"id\":\"1449\"},\"glyph\":{\"id\":\"1451\"},\"hover_glyph\":null,\"muted_glyph\":null,\"nonselection_glyph\":{\"id\":\"1452\"},\"selection_glyph\":null,\"view\":{\"id\":\"1454\"}},\"id\":\"1453\",\"type\":\"GlyphRenderer\"},{\"attributes\":{\"source\":{\"id\":\"1311\"}},\"id\":\"1316\",\"type\":\"CDSView\"},{\"attributes\":{\"axis_label\":\"ECDF\",\"formatter\":{\"id\":\"1305\"},\"ticker\":{\"id\":\"1277\"}},\"id\":\"1276\",\"type\":\"LinearAxis\"},{\"attributes\":{\"fill_alpha\":{\"value\":0.1},\"fill_color\":{\"value\":\"#d62628\"},\"line_alpha\":{\"value\":0.1},\"line_color\":{\"value\":\"#d62628\"},\"x\":{\"field\":\"ctx (pg/ml)\"},\"y\":{\"field\":\"__ECDF\"}},\"id\":\"1352\",\"type\":\"Circle\"},{\"attributes\":{},\"id\":\"1277\",\"type\":\"BasicTicker\"},{\"attributes\":{},\"id\":\"1346\",\"type\":\"Selection\"},{\"attributes\":{},\"id\":\"1391\",\"type\":\"UnionRenderers\"},{\"attributes\":{\"data_source\":{\"id\":\"1371\"},\"glyph\":{\"id\":\"1373\"},\"hover_glyph\":null,\"muted_glyph\":null,\"nonselection_glyph\":{\"id\":\"1374\"},\"selection_glyph\":null,\"view\":{\"id\":\"1376\"}},\"id\":\"1375\",\"type\":\"GlyphRenderer\"},{\"attributes\":{\"axis\":{\"id\":\"1276\"},\"dimension\":1,\"ticker\":null},\"id\":\"1279\",\"type\":\"Grid\"},{\"attributes\":{\"source\":{\"id\":\"1371\"}},\"id\":\"1376\",\"type\":\"CDSView\"},{\"attributes\":{},\"id\":\"1392\",\"type\":\"Selection\"},{\"attributes\":{},\"id\":\"1268\",\"type\":\"LinearScale\"},{\"attributes\":{},\"id\":\"1446\",\"type\":\"Selection\"},{\"attributes\":{\"source\":{\"id\":\"1349\"}},\"id\":\"1354\",\"type\":\"CDSView\"},{\"attributes\":{},\"id\":\"1266\",\"type\":\"DataRange1d\"},{\"attributes\":{\"fill_color\":{\"value\":\"#e277c1\"},\"line_color\":{\"value\":\"#e277c1\"},\"x\":{\"field\":\"ctx (pg/ml)\"},\"y\":{\"field\":\"__ECDF\"}},\"id\":\"1423\",\"type\":\"Circle\"},{\"attributes\":{},\"id\":\"1476\",\"type\":\"Selection\"},{\"attributes\":{\"label\":{\"value\":\"mo21\"},\"renderers\":[{\"id\":\"1453\"}]},\"id\":\"1478\",\"type\":\"LegendItem\"},{\"attributes\":{\"label\":{\"value\":\"mo18\"},\"renderers\":[{\"id\":\"1425\"}]},\"id\":\"1448\",\"type\":\"LegendItem\"},{\"attributes\":{\"fill_alpha\":{\"value\":0.1},\"fill_color\":{\"value\":\"#bcbc21\"},\"line_alpha\":{\"value\":0.1},\"line_color\":{\"value\":\"#bcbc21\"},\"x\":{\"field\":\"ctx (pg/ml)\"},\"y\":{\"field\":\"__ECDF\"}},\"id\":\"1482\",\"type\":\"Circle\"},{\"attributes\":{},\"id\":\"1280\",\"type\":\"PanTool\"},{\"attributes\":{},\"id\":\"1325\",\"type\":\"UnionRenderers\"},{\"attributes\":{},\"id\":\"1281\",\"type\":\"WheelZoomTool\"},{\"attributes\":{\"overlay\":{\"id\":\"1286\"}},\"id\":\"1282\",\"type\":\"BoxZoomTool\"},{\"attributes\":{},\"id\":\"1283\",\"type\":\"SaveTool\"},{\"attributes\":{},\"id\":\"1326\",\"type\":\"Selection\"},{\"attributes\":{},\"id\":\"1270\",\"type\":\"LinearScale\"},{\"attributes\":{},\"id\":\"1285\",\"type\":\"HelpTool\"},{\"attributes\":{},\"id\":\"1445\",\"type\":\"UnionRenderers\"},{\"attributes\":{\"source\":{\"id\":\"1421\"}},\"id\":\"1426\",\"type\":\"CDSView\"},{\"attributes\":{},\"id\":\"1284\",\"type\":\"ResetTool\"},{\"attributes\":{},\"id\":\"1418\",\"type\":\"Selection\"},{\"attributes\":{\"fill_color\":{\"value\":\"#d62628\"},\"line_color\":{\"value\":\"#d62628\"},\"x\":{\"field\":\"ctx (pg/ml)\"},\"y\":{\"field\":\"__ECDF\"}},\"id\":\"1351\",\"type\":\"Circle\"},{\"attributes\":{\"label\":{\"value\":\"mo3\"},\"renderers\":[{\"id\":\"1315\"}]},\"id\":\"1328\",\"type\":\"LegendItem\"},{\"attributes\":{\"fill_color\":{\"value\":\"#9367bc\"},\"line_color\":{\"value\":\"#9367bc\"},\"x\":{\"field\":\"ctx (pg/ml)\"},\"y\":{\"field\":\"__ECDF\"}},\"id\":\"1373\",\"type\":\"Circle\"},{\"attributes\":{\"source\":{\"id\":\"1395\"}},\"id\":\"1400\",\"type\":\"CDSView\"},{\"attributes\":{\"fill_color\":{\"value\":\"#bcbc21\"},\"line_color\":{\"value\":\"#bcbc21\"},\"x\":{\"field\":\"ctx (pg/ml)\"},\"y\":{\"field\":\"__ECDF\"}},\"id\":\"1481\",\"type\":\"Circle\"},{\"attributes\":{\"axis_label\":\"ctx (pg/ml)\",\"formatter\":{\"id\":\"1303\"},\"ticker\":{\"id\":\"1273\"}},\"id\":\"1272\",\"type\":\"LinearAxis\"},{\"attributes\":{\"fill_alpha\":{\"value\":0.1},\"fill_color\":{\"value\":\"#2ba02b\"},\"line_alpha\":{\"value\":0.1},\"line_color\":{\"value\":\"#2ba02b\"},\"x\":{\"field\":\"ctx (pg/ml)\"},\"y\":{\"field\":\"__ECDF\"}},\"id\":\"1332\",\"type\":\"Circle\"}],\"root_ids\":[\"1263\"]},\"title\":\"Bokeh Application\",\"version\":\"2.1.0\"}};\n",
       "  var render_items = [{\"docid\":\"ddd43a74-68e6-4d17-a3f1-6c00e82ed896\",\"root_ids\":[\"1263\"],\"roots\":{\"1263\":\"7f8673c7-802c-4051-ba63-c2e0052f1d7c\"}}];\n",
       "  root.Bokeh.embed.embed_items_notebook(docs_json, render_items);\n",
       "\n",
       "  }\n",
       "  if (root.Bokeh !== undefined) {\n",
       "    embed_document(root);\n",
       "  } else {\n",
       "    var attempts = 0;\n",
       "    var timer = setInterval(function(root) {\n",
       "      if (root.Bokeh !== undefined) {\n",
       "        clearInterval(timer);\n",
       "        embed_document(root);\n",
       "      } else {\n",
       "        attempts++;\n",
       "        if (attempts > 100) {\n",
       "          clearInterval(timer);\n",
       "          console.log(\"Bokeh: ERROR: Unable to run BokehJS code because BokehJS library is missing\");\n",
       "        }\n",
       "      }\n",
       "    }, 10, root)\n",
       "  }\n",
       "})(window);"
      ],
      "application/vnd.bokehjs_exec.v0+json": ""
     },
     "metadata": {
      "application/vnd.bokehjs_exec.v0+json": {
       "id": "1263"
      }
     },
     "output_type": "display_data"
    }
   ],
   "source": [
    "p = bokeh_catplot.ecdf(\n",
    "    data=df,\n",
    "    cats='ID',\n",
    "    val='ctx (pg/ml)',\n",
    "    kind='colored',\n",
    ")\n",
    "\n",
    "bokeh.io.show(p)"
   ]
  },
  {
   "cell_type": "code",
   "execution_count": 6,
   "metadata": {},
   "outputs": [],
   "source": [
    "p.output_backend = 'svg'\n",
    "bokeh.io.export_svgs(p, filename='nbha_ctx_24jun2020.svg')\n",
    "p.output_backend = 'canvas'"
   ]
  },
  {
   "cell_type": "code",
   "execution_count": 7,
   "metadata": {},
   "outputs": [],
   "source": [
    "rg = np.random.default_rng()"
   ]
  },
  {
   "cell_type": "code",
   "execution_count": 8,
   "metadata": {},
   "outputs": [],
   "source": [
    "#create two numpy array for 2 categories mo0 and mo3 with the ctx values\n",
    "ctx_mo0 = df.loc[df['ID']=='mo0', 'ctx (pg/ml)'].values\n",
    "ctx_mo3 = df.loc[df['ID']=='mo3', 'ctx (pg/ml)'].values\n",
    "ctx_mo6 = df.loc[df['ID']=='mo6', 'ctx (pg/ml)'].values\n",
    "ctx_mo9 = df.loc[df['ID']=='mo9', 'ctx (pg/ml)'].values\n",
    "ctx_mo12 = df.loc[df['ID']=='mo12', 'ctx (pg/ml)'].values\n",
    "ctx_mo15 = df.loc[df['ID']=='mo15', 'ctx (pg/ml)'].values\n",
    "ctx_mo18 = df.loc[df['ID']=='mo18', 'ctx (pg/ml)'].values\n",
    "ctx_mo21 = df.loc[df['ID']=='mo21', 'ctx (pg/ml)'].values\n",
    "ctx_mo24 = df.loc[df['ID']=='mo24', 'ctx (pg/ml)'].values"
   ]
  },
  {
   "cell_type": "markdown",
   "metadata": {},
   "source": [
    "# bootstrap CI for %change between baseline and mo3"
   ]
  },
  {
   "cell_type": "code",
   "execution_count": 9,
   "metadata": {},
   "outputs": [
    {
     "name": "stdout",
     "output_type": "stream",
     "text": [
      "CI for %change between month 0 and month 3\n"
     ]
    },
    {
     "data": {
      "text/plain": [
       "array([0.03976234, 0.41030081])"
      ]
     },
     "execution_count": 9,
     "metadata": {},
     "output_type": "execute_result"
    }
   ],
   "source": [
    "def draw_bs_rep(data, func, rg):\n",
    "    \"\"\"Compute a bootstrap replicate from data.\"\"\"\n",
    "    bs_sample = rg.choice(data, size=len(data))\n",
    "    return func(bs_sample)\n",
    "\n",
    "\n",
    "# Perform the drug holiday experiment 100,000 times with a random number generator that picks out#\n",
    "#n=66 @ mo0 and n=64 @mo3.##\n",
    "n_reps = 100000\n",
    "bs_reps_mo0 = np.array(\n",
    "    [draw_bs_rep(ctx_mo0, np.mean, rg) for _ in range(n_reps)]\n",
    ")\n",
    "bs_reps_mo3 = np.array(\n",
    "    [draw_bs_rep(ctx_mo3, np.mean, rg) for _ in range(n_reps)]\n",
    ")\n",
    "\n",
    "# 100,000 difference of means were also generated \n",
    "bd_reps_diff = (bs_reps_mo3 - bs_reps_mo0)/(bs_reps_mo0)\n",
    "\n",
    "# Report the confidence interval with 95% confidence for the difference of means \n",
    "\n",
    "print ('CI for %change between month 0 and month 3')\n",
    "np.percentile(bd_reps_diff, [2.5, 97.5])"
   ]
  },
  {
   "cell_type": "markdown",
   "metadata": {},
   "source": [
    "# bootstrap CI for %change between baseline and month 6"
   ]
  },
  {
   "cell_type": "code",
   "execution_count": 10,
   "metadata": {},
   "outputs": [
    {
     "name": "stdout",
     "output_type": "stream",
     "text": [
      "CI for %change between month 0 and month 6\n"
     ]
    },
    {
     "data": {
      "text/plain": [
       "array([0.15286573, 0.59216303])"
      ]
     },
     "execution_count": 10,
     "metadata": {},
     "output_type": "execute_result"
    }
   ],
   "source": [
    "def draw_bs_rep(data, func, rg):\n",
    "    \"\"\"Compute a bootstrap replicate from data.\"\"\"\n",
    "    bs_sample = rg.choice(data, size=len(data))\n",
    "    return func(bs_sample)\n",
    "\n",
    "\n",
    "# Perform the drug holiday experiment 100,000 times with a random number generator that picks out#\n",
    "#n=66 @ mo0 and n=64 @mo3.##\n",
    "n_reps = 100000\n",
    "bs_reps_mo0 = np.array(\n",
    "    [draw_bs_rep(ctx_mo0, np.mean, rg) for _ in range(n_reps)]\n",
    ")\n",
    "bs_reps_mo6 = np.array(\n",
    "    [draw_bs_rep(ctx_mo6, np.mean, rg) for _ in range(n_reps)]\n",
    ")\n",
    "\n",
    "# 100,000 difference of means were also generated \n",
    "bd_reps_diff = (bs_reps_mo6 - bs_reps_mo0)/(bs_reps_mo0)\n",
    "\n",
    "# Report the confidence interval with 95% confidence for the difference of means \n",
    "print ('CI for %change between month 0 and month 6')\n",
    "np.percentile(bd_reps_diff, [2.5, 97.5])"
   ]
  },
  {
   "cell_type": "markdown",
   "metadata": {},
   "source": [
    "## Bootstrap for CI of %change between baseline and mo24"
   ]
  },
  {
   "cell_type": "code",
   "execution_count": 11,
   "metadata": {},
   "outputs": [
    {
     "name": "stdout",
     "output_type": "stream",
     "text": [
      "CI for %change between month 0 and month 24\n"
     ]
    },
    {
     "data": {
      "text/plain": [
       "array([0.19469422, 1.15624082])"
      ]
     },
     "execution_count": 11,
     "metadata": {},
     "output_type": "execute_result"
    }
   ],
   "source": [
    "def draw_bs_rep(data, func, rg):\n",
    "    \"\"\"Compute a bootstrap replicate from data.\"\"\"\n",
    "    bs_sample = rg.choice(data, size=len(data))\n",
    "    return func(bs_sample)\n",
    "\n",
    "\n",
    "# Perform the drug holiday experiment 100,000 times with a random number generator that picks out#\n",
    "#n=66 @ mo0 and n=64 @mo3.##\n",
    "n_reps = 100000\n",
    "bs_reps_mo0 = np.array(\n",
    "    [draw_bs_rep(ctx_mo0, np.mean, rg) for _ in range(n_reps)]\n",
    ")\n",
    "bs_reps_mo24 = np.array(\n",
    "    [draw_bs_rep(ctx_mo24, np.mean, rg) for _ in range(n_reps)]\n",
    ")\n",
    "\n",
    "# 100,000 difference of means were also generated \n",
    "bd_reps_diff = (bs_reps_mo24 - bs_reps_mo0)/(bs_reps_mo0)\n",
    "\n",
    "# Report the confidence interval with 95% confidence for the difference of means \n",
    "print ('CI for %change between month 0 and month 24')\n",
    "np.percentile(bd_reps_diff, [2.5, 97.5])"
   ]
  },
  {
   "cell_type": "markdown",
   "metadata": {},
   "source": [
    "# does not work\n",
    "\n",
    "years = ['mo0', 'mo3']\n",
    "p = bokeh.plotting.figure(\n",
    "    frame_height=100,\n",
    "    frame_width=250,\n",
    "    x_axis_label='ctx (pg/ml)',\n",
    "    y_range=years,\n",
    ")\n",
    "\n",
    "p.circle([ctx_mo0.mean(), ctx_mo3.mean()], years, size=5)\n",
    "p.line(conf_int_1975, ['mo0']*2, line_width=3)\n",
    "p.line(conf_int_2012, ['mo3']*2, line_width=3)\n",
    "bokeh.io.show(p)"
   ]
  },
  {
   "cell_type": "code",
   "execution_count": null,
   "metadata": {},
   "outputs": [],
   "source": []
  }
 ],
 "metadata": {
  "kernelspec": {
   "display_name": "Python 3",
   "language": "python",
   "name": "python3"
  },
  "language_info": {
   "codemirror_mode": {
    "name": "ipython",
    "version": 3
   },
   "file_extension": ".py",
   "mimetype": "text/x-python",
   "name": "python",
   "nbconvert_exporter": "python",
   "pygments_lexer": "ipython3",
   "version": "3.7.7"
  }
 },
 "nbformat": 4,
 "nbformat_minor": 4
}
